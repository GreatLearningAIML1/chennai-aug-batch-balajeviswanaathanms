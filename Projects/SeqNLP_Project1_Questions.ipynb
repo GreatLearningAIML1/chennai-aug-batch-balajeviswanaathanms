{
  "nbformat": 4,
  "nbformat_minor": 0,
  "metadata": {
    "colab": {
      "name": "SeqNLP_Project1_Questions.ipynb",
      "version": "0.3.2",
      "provenance": [],
      "collapsed_sections": []
    },
    "language_info": {
      "codemirror_mode": {
        "name": "ipython",
        "version": 2
      },
      "file_extension": ".py",
      "mimetype": "text/x-python",
      "name": "python",
      "nbconvert_exporter": "python",
      "pygments_lexer": "ipython2",
      "version": "2.7.14"
    },
    "kernelspec": {
      "name": "python2",
      "display_name": "Python 2"
    },
    "accelerator": "GPU"
  },
  "cells": [
    {
      "cell_type": "markdown",
      "metadata": {
        "colab_type": "text",
        "id": "xT7MKZuMRaCg"
      },
      "source": [
        "# Sentiment Classification\n",
        "\n",
        "\n",
        "### Generate Word Embeddings and retrieve outputs of each layer with Keras based on Classification task\n",
        "\n",
        "Word embeddings are a type of word representation that allows words with similar meaning to have a similar representation.\n",
        "\n",
        "It is a distributed representation for text that is perhaps one of the key breakthroughs for the impressive performance of deep learning methods on challenging natural language processing problems.\n",
        "\n",
        "We willl use the imdb dataset to learn word embeddings as we train our dataset. This dataset contains 25,000 movie reviews from IMDB, labeled with sentiment (positive or negative). \n",
        "\n",
        "\n",
        "\n",
        "### Dataset\n",
        "\n",
        "`from keras.datasets import imdb`\n",
        "\n",
        "Dataset of 25,000 movies reviews from IMDB, labeled by sentiment (positive/negative). Reviews have been preprocessed, and each review is encoded as a sequence of word indexes (integers). For convenience, the words are indexed by their frequency in the dataset, meaning the for that has index 1 is the most frequent word. Use the first 20 words from each review to speed up training, using a max vocab size of 10,000.\n",
        "\n",
        "As a convention, \"0\" does not stand for a specific word, but instead is used to encode any unknown word.\n",
        "\n",
        "\n",
        "### Aim\n",
        "\n",
        "1. Import test and train data  \n",
        "2. Import the labels ( train and test) \n",
        "3. Get the word index and then Create key value pair for word and word_id. (12.5 points)\n",
        "4. Build a Sequential Model using Keras for Sentiment Classification task. (10 points)\n",
        "5. Report the Accuracy of the model. (5 points)  \n",
        "6. Retrive the output of each layer in keras for a given single test sample from the trained model you built. (2.5 points)\n"
      ]
    },
    {
      "cell_type": "markdown",
      "metadata": {
        "id": "VwhOSNIFW5_z",
        "colab_type": "text"
      },
      "source": [
        "###Import Libraries and Packages"
      ]
    },
    {
      "cell_type": "code",
      "metadata": {
        "id": "wqIzdMn0ViQc",
        "colab_type": "code",
        "colab": {}
      },
      "source": [
        "# IMPORT LIBRARIES AND PACKAGES\n",
        "import tensorflow as tf\n",
        "import csv\n",
        "import pandas as pd\n",
        "from PIL import Image\n",
        "\n",
        "from keras import Model\n",
        "from keras.applications.mobilenet import MobileNet, preprocess_input\n",
        "from keras.callbacks import ModelCheckpoint, EarlyStopping, ReduceLROnPlateau, Callback\n",
        "from keras.layers import Conv2D, Reshape\n",
        "from keras.utils import Sequence\n",
        "from keras.backend import epsilon"
      ],
      "execution_count": 0,
      "outputs": []
    },
    {
      "cell_type": "code",
      "metadata": {
        "id": "KHBkFoht1yIM",
        "colab_type": "code",
        "colab": {
          "base_uri": "https://localhost:8080/",
          "height": 33
        },
        "outputId": "93a2e956-4263-4726-d407-fba4273edebb"
      },
      "source": [
        "!pip install numpy==1.16.1"
      ],
      "execution_count": 2,
      "outputs": [
        {
          "output_type": "stream",
          "text": [
            "Requirement already satisfied: numpy==1.16.1 in /usr/local/lib/python2.7/dist-packages (1.16.1)\n"
          ],
          "name": "stdout"
        }
      ]
    },
    {
      "cell_type": "code",
      "metadata": {
        "id": "-Wx6Qu0u17D3",
        "colab_type": "code",
        "colab": {}
      },
      "source": [
        "import numpy as np"
      ],
      "execution_count": 0,
      "outputs": []
    },
    {
      "cell_type": "markdown",
      "metadata": {
        "id": "VsWJrLxRXLBb",
        "colab_type": "text"
      },
      "source": [
        "###Import test and train data"
      ]
    },
    {
      "cell_type": "code",
      "metadata": {
        "colab_type": "code",
        "id": "NGCtiXUhSWss",
        "colab": {}
      },
      "source": [
        "from keras.datasets import imdb\n",
        "vocab_size = 10000 #vocab size\n",
        "(x_train, y_train), (x_test, y_test) = imdb.load_data(num_words = vocab_size) #vocab_size is no.of words to consider from the dataset, ordering based on frequency."
      ],
      "execution_count": 0,
      "outputs": []
    },
    {
      "cell_type": "code",
      "metadata": {
        "id": "xRSIEo31JfpM",
        "colab_type": "code",
        "colab": {}
      },
      "source": [
        "from keras.preprocessing.sequence import pad_sequences\n",
        "vocab_size = 10000 #vocab size\n",
        "maxlen = 300  #number of word used from each review"
      ],
      "execution_count": 0,
      "outputs": []
    },
    {
      "cell_type": "markdown",
      "metadata": {
        "id": "OfQIEPAGXOdT",
        "colab_type": "text"
      },
      "source": [
        "###Import the labels ( train and test)"
      ]
    },
    {
      "cell_type": "code",
      "metadata": {
        "id": "U4efLPbWJfpP",
        "colab_type": "code",
        "colab": {}
      },
      "source": [
        "#load dataset as a list of ints\n",
        "(x_train, y_train), (x_test, y_test) = imdb.load_data(num_words=vocab_size)\n",
        "#make all sequences of the same length\n",
        "x_train = pad_sequences(x_train, maxlen=maxlen)\n",
        "x_test =  pad_sequences(x_test, maxlen=maxlen)"
      ],
      "execution_count": 0,
      "outputs": []
    },
    {
      "cell_type": "code",
      "metadata": {
        "id": "brIFhlL_3ZWF",
        "colab_type": "code",
        "colab": {
          "base_uri": "https://localhost:8080/",
          "height": 33
        },
        "outputId": "412f5016-3ff2-416f-be61-dcdadcd71c99"
      },
      "source": [
        "x_train.shape"
      ],
      "execution_count": 7,
      "outputs": [
        {
          "output_type": "execute_result",
          "data": {
            "text/plain": [
              "(25000, 300)"
            ]
          },
          "metadata": {
            "tags": []
          },
          "execution_count": 7
        }
      ]
    },
    {
      "cell_type": "code",
      "metadata": {
        "id": "12mWTxF73dCr",
        "colab_type": "code",
        "colab": {
          "base_uri": "https://localhost:8080/",
          "height": 33
        },
        "outputId": "3ef15204-37ee-4c08-f8f1-8fd8deaaaed0"
      },
      "source": [
        "x_test.shape"
      ],
      "execution_count": 8,
      "outputs": [
        {
          "output_type": "execute_result",
          "data": {
            "text/plain": [
              "(25000, 300)"
            ]
          },
          "metadata": {
            "tags": []
          },
          "execution_count": 8
        }
      ]
    },
    {
      "cell_type": "markdown",
      "metadata": {
        "id": "atI3fgj1XTFd",
        "colab_type": "text"
      },
      "source": [
        "###Get the word index and then Create key value pair for word and word_id. (12.5 points)"
      ]
    },
    {
      "cell_type": "code",
      "metadata": {
        "id": "A5qqOzIy4464",
        "colab_type": "code",
        "colab": {}
      },
      "source": [
        "import keras"
      ],
      "execution_count": 0,
      "outputs": []
    },
    {
      "cell_type": "code",
      "metadata": {
        "id": "n0Gus16B3upQ",
        "colab_type": "code",
        "colab": {}
      },
      "source": [
        "(training_data, training_labels), (test_data, test_labels)= imdb.load_data(num_words=vocab_size, index_from=3)"
      ],
      "execution_count": 0,
      "outputs": []
    },
    {
      "cell_type": "code",
      "metadata": {
        "id": "HL0S7dwT39lP",
        "colab_type": "code",
        "colab": {
          "base_uri": "https://localhost:8080/",
          "height": 67
        },
        "outputId": "aa943dc4-77eb-45b4-a73b-7e1cfbb5549c"
      },
      "source": [
        "word_to_id = keras.datasets.imdb.get_word_index()"
      ],
      "execution_count": 17,
      "outputs": [
        {
          "output_type": "stream",
          "text": [
            "Downloading data from https://s3.amazonaws.com/text-datasets/imdb_word_index.json\n",
            "1646592/1641221 [==============================] - 1s 0us/step\n",
            "1654784/1641221 [==============================] - 1s 0us/step\n"
          ],
          "name": "stdout"
        }
      ]
    },
    {
      "cell_type": "code",
      "metadata": {
        "id": "NgZgQwBf5kjH",
        "colab_type": "code",
        "colab": {
          "base_uri": "https://localhost:8080/",
          "height": 33
        },
        "outputId": "2207d24c-f2f4-49bc-ccc2-a80631b04726"
      },
      "source": [
        "dict(itertools.islice(word_to_id.items(), 4))"
      ],
      "execution_count": 19,
      "outputs": [
        {
          "output_type": "execute_result",
          "data": {
            "text/plain": [
              "{u'fawn': 34701, u'nunnery': 52007, u'sonja': 16816, u'tsukino': 52006}"
            ]
          },
          "metadata": {
            "tags": []
          },
          "execution_count": 19
        }
      ]
    },
    {
      "cell_type": "code",
      "metadata": {
        "id": "bHNvqITx5sx6",
        "colab_type": "code",
        "colab": {}
      },
      "source": [
        "word_to_id = {k:(v+3) for k,v in word_to_id.items()}\n",
        "word_to_id[\"<PAD>\"] = 0\n",
        "word_to_id[\"<START>\"] = 1\n",
        "word_to_id[\"<UNK>\"] = 2"
      ],
      "execution_count": 0,
      "outputs": []
    },
    {
      "cell_type": "code",
      "metadata": {
        "id": "uyogiGKF5wJ0",
        "colab_type": "code",
        "colab": {}
      },
      "source": [
        "id_to_word = {id:word for word,id in word_to_id.items()}"
      ],
      "execution_count": 0,
      "outputs": []
    },
    {
      "cell_type": "code",
      "metadata": {
        "id": "pzNhxml_5x83",
        "colab_type": "code",
        "colab": {
          "base_uri": "https://localhost:8080/",
          "height": 53
        },
        "outputId": "e53f3f26-d3ac-49d1-8788-2e98767fd1ae"
      },
      "source": [
        "print(' '.join(id_to_word[id] for id in training_data[2]))"
      ],
      "execution_count": 22,
      "outputs": [
        {
          "output_type": "stream",
          "text": [
            "<START> this has to be one of the worst films of the 1990s when my friends i were watching this film being the target audience it was aimed at we just sat watched the first half an hour with our jaws touching the floor at how bad it really was the rest of the time everyone else in the theatre just started talking to each other leaving or generally crying into their popcorn that they actually paid money they had <UNK> working to watch this feeble excuse for a film it must have looked like a great idea on paper but on film it looks like no one in the film has a clue what is going on crap acting crap costumes i can't get across how <UNK> this is to watch save yourself an hour a bit of your life\n"
          ],
          "name": "stdout"
        }
      ]
    },
    {
      "cell_type": "markdown",
      "metadata": {
        "id": "C93-Oo7aXYht",
        "colab_type": "text"
      },
      "source": [
        "###Build a Sequential Model using Keras for Sentiment Classification task. (10 points)"
      ]
    },
    {
      "cell_type": "code",
      "metadata": {
        "id": "3GJViHEL5O4q",
        "colab_type": "code",
        "colab": {}
      },
      "source": [
        "from __future__ import print_function\n",
        "\n",
        "from keras.preprocessing import sequence\n",
        "from keras.models import Sequential\n",
        "from keras.layers import Dense, Dropout, Activation\n",
        "from keras.layers import Embedding\n",
        "from keras.layers import Conv1D, GlobalMaxPooling1D\n",
        "from keras.datasets import imdb\n",
        "import itertools\n",
        "from keras.layers import Flatten"
      ],
      "execution_count": 0,
      "outputs": []
    },
    {
      "cell_type": "code",
      "metadata": {
        "id": "9Ik5VA6B55Vm",
        "colab_type": "code",
        "colab": {
          "base_uri": "https://localhost:8080/",
          "height": 137
        },
        "outputId": "ccd042c5-15b3-4773-b9e6-773b54d0ac18"
      },
      "source": [
        "model = Sequential()\n",
        "\n",
        "model.add(Embedding(vocab_size, 8, input_length=maxlen))\n",
        "\n",
        "model.add(Conv1D(64, 3, padding='same'))\n",
        "\n",
        "model.add(Conv1D(32, 3, padding='same'))\n",
        "\n",
        "model.add(Conv1D(16, 3, padding='same'))\n",
        "\n",
        "model.add(Flatten())\n",
        "\n",
        "model.add(Dropout(0.2))\n",
        "\n",
        "model.add(Dense(180,activation='sigmoid'))\n",
        "\n",
        "model.add(Dropout(0.2))\n",
        "\n",
        "model.add(Dense(1,activation='sigmoid'))"
      ],
      "execution_count": 24,
      "outputs": [
        {
          "output_type": "stream",
          "text": [
            "WARNING:tensorflow:From /usr/local/lib/python2.7/dist-packages/tensorflow/python/framework/op_def_library.py:263: colocate_with (from tensorflow.python.framework.ops) is deprecated and will be removed in a future version.\n",
            "Instructions for updating:\n",
            "Colocations handled automatically by placer.\n",
            "WARNING:tensorflow:From /usr/local/lib/python2.7/dist-packages/keras/backend/tensorflow_backend.py:3445: calling dropout (from tensorflow.python.ops.nn_ops) with keep_prob is deprecated and will be removed in a future version.\n",
            "Instructions for updating:\n",
            "Please use `rate` instead of `keep_prob`. Rate should be set to `rate = 1 - keep_prob`.\n"
          ],
          "name": "stdout"
        }
      ]
    },
    {
      "cell_type": "code",
      "metadata": {
        "id": "hHVkxauQ6IfL",
        "colab_type": "code",
        "colab": {
          "base_uri": "https://localhost:8080/",
          "height": 435
        },
        "outputId": "f9e5ceb4-dcc7-4b7e-a990-8e0f7a7ad8aa"
      },
      "source": [
        "model.summary()"
      ],
      "execution_count": 26,
      "outputs": [
        {
          "output_type": "stream",
          "text": [
            "_________________________________________________________________\n",
            "Layer (type)                 Output Shape              Param #   \n",
            "=================================================================\n",
            "embedding_1 (Embedding)      (None, 300, 8)            80000     \n",
            "_________________________________________________________________\n",
            "conv1d_1 (Conv1D)            (None, 300, 64)           1600      \n",
            "_________________________________________________________________\n",
            "conv1d_2 (Conv1D)            (None, 300, 32)           6176      \n",
            "_________________________________________________________________\n",
            "conv1d_3 (Conv1D)            (None, 300, 16)           1552      \n",
            "_________________________________________________________________\n",
            "flatten_1 (Flatten)          (None, 4800)              0         \n",
            "_________________________________________________________________\n",
            "dropout_1 (Dropout)          (None, 4800)              0         \n",
            "_________________________________________________________________\n",
            "dense_1 (Dense)              (None, 180)               864180    \n",
            "_________________________________________________________________\n",
            "dropout_2 (Dropout)          (None, 180)               0         \n",
            "_________________________________________________________________\n",
            "dense_2 (Dense)              (None, 1)                 181       \n",
            "=================================================================\n",
            "Total params: 953,689\n",
            "Trainable params: 953,689\n",
            "Non-trainable params: 0\n",
            "_________________________________________________________________\n"
          ],
          "name": "stdout"
        }
      ]
    },
    {
      "cell_type": "code",
      "metadata": {
        "id": "EGCaI5S76Xi3",
        "colab_type": "code",
        "colab": {}
      },
      "source": [
        "model.compile(loss='binary_crossentropy', optimizer='adam', metrics=['accuracy'])"
      ],
      "execution_count": 0,
      "outputs": []
    },
    {
      "cell_type": "code",
      "metadata": {
        "id": "1JkCpixA6ZKR",
        "colab_type": "code",
        "colab": {
          "base_uri": "https://localhost:8080/",
          "height": 351
        },
        "outputId": "dc24e694-8a68-4c46-e898-cf146ef753cb"
      },
      "source": [
        "history= model.fit(x_train, y_train, epochs=10, batch_size=64)"
      ],
      "execution_count": 37,
      "outputs": [
        {
          "output_type": "stream",
          "text": [
            "Epoch 1/10\n",
            "25000/25000 [==============================] - 2s 91us/step - loss: 0.0183 - acc: 0.9943\n",
            "Epoch 2/10\n",
            "25000/25000 [==============================] - 2s 87us/step - loss: 0.0255 - acc: 0.9910\n",
            "Epoch 3/10\n",
            "25000/25000 [==============================] - 2s 87us/step - loss: 0.0155 - acc: 0.9950\n",
            "Epoch 4/10\n",
            "25000/25000 [==============================] - 2s 78us/step - loss: 0.0069 - acc: 0.9985\n",
            "Epoch 5/10\n",
            "25000/25000 [==============================] - 2s 79us/step - loss: 0.0084 - acc: 0.9977\n",
            "Epoch 6/10\n",
            "25000/25000 [==============================] - 2s 78us/step - loss: 0.0109 - acc: 0.9967\n",
            "Epoch 7/10\n",
            "25000/25000 [==============================] - 2s 79us/step - loss: 0.0094 - acc: 0.9968\n",
            "Epoch 8/10\n",
            "25000/25000 [==============================] - 2s 79us/step - loss: 0.0104 - acc: 0.9972\n",
            "Epoch 9/10\n",
            "25000/25000 [==============================] - 2s 78us/step - loss: 0.0066 - acc: 0.9986\n",
            "Epoch 10/10\n",
            "25000/25000 [==============================] - 2s 78us/step - loss: 0.0054 - acc: 0.9986\n"
          ],
          "name": "stdout"
        }
      ]
    },
    {
      "cell_type": "markdown",
      "metadata": {
        "id": "smfAtV8uXbcN",
        "colab_type": "text"
      },
      "source": [
        "###Report the Accuracy of the model. (5 points)"
      ]
    },
    {
      "cell_type": "code",
      "metadata": {
        "id": "o-mxm3vM6rU4",
        "colab_type": "code",
        "colab": {}
      },
      "source": [
        "scores = model.evaluate(x_test, y_test, verbose=0)"
      ],
      "execution_count": 0,
      "outputs": []
    },
    {
      "cell_type": "code",
      "metadata": {
        "id": "6yD1nMT16sM4",
        "colab_type": "code",
        "colab": {
          "base_uri": "https://localhost:8080/",
          "height": 33
        },
        "outputId": "08514b98-039a-48ba-a4ea-329f1ea011a7"
      },
      "source": [
        "print(\"Accuracy: %.2f%%\" % (scores[1]*100))"
      ],
      "execution_count": 39,
      "outputs": [
        {
          "output_type": "stream",
          "text": [
            "Accuracy: 84.14%\n"
          ],
          "name": "stdout"
        }
      ]
    },
    {
      "cell_type": "markdown",
      "metadata": {
        "id": "BhBazD_NXeGD",
        "colab_type": "text"
      },
      "source": [
        "###Retrive the output of each layer in keras for a given single test sample from the trained model you built. (2.5 points)"
      ]
    },
    {
      "cell_type": "code",
      "metadata": {
        "id": "ln1gnCFS7cgs",
        "colab_type": "code",
        "colab": {}
      },
      "source": [
        "from keras import backend as K"
      ],
      "execution_count": 0,
      "outputs": []
    },
    {
      "cell_type": "code",
      "metadata": {
        "id": "h8Ch-BvG7Mn6",
        "colab_type": "code",
        "colab": {
          "base_uri": "https://localhost:8080/",
          "height": 33
        },
        "outputId": "4187635d-c787-405e-de85-523485cc9421"
      },
      "source": [
        "x_train.shape"
      ],
      "execution_count": 43,
      "outputs": [
        {
          "output_type": "execute_result",
          "data": {
            "text/plain": [
              "(25000, 300)"
            ]
          },
          "metadata": {
            "tags": []
          },
          "execution_count": 43
        }
      ]
    },
    {
      "cell_type": "code",
      "metadata": {
        "id": "TTj5oHSb7QZ-",
        "colab_type": "code",
        "colab": {}
      },
      "source": [
        "get_1st_layer_output = K.function([model.layers[0].input], \n",
        "                                  [model.layers[0].output])\n",
        "get_2nd_layer_output = K.function([model.layers[0].input],\n",
        "                                  [model.layers[1].output])\n",
        "get_3rd_layer_output = K.function([model.layers[0].input],\n",
        "                                  [model.layers[2].output])\n",
        "get_4th_layer_output = K.function([model.layers[0].input],\n",
        "                                  [model.layers[3].output])\n",
        "get_5th_layer_output = K.function([model.layers[0].input],\n",
        "                                  [model.layers[4].output])\n",
        "get_6th_layer_output = K.function([model.layers[0].input],\n",
        "                                  [model.layers[5].output])\n",
        "get_7th_layer_output = K.function([model.layers[0].input],\n",
        "                                  [model.layers[6].output])\n",
        "get_8th_layer_output = K.function([model.layers[0].input],\n",
        "                                  [model.layers[7].output])\n",
        "get_9th_layer_output = K.function([model.layers[0].input],\n",
        "                                  [model.layers[8].output])"
      ],
      "execution_count": 0,
      "outputs": []
    },
    {
      "cell_type": "code",
      "metadata": {
        "id": "59R0Qz6j7iqT",
        "colab_type": "code",
        "colab": {
          "base_uri": "https://localhost:8080/",
          "height": 234
        },
        "outputId": "7f7b09fc-e831-46f5-d899-a91a5d09018a"
      },
      "source": [
        "layer_output1 = get_1st_layer_output([x_test[0:1,]])[0]\n",
        "layer_output1"
      ],
      "execution_count": 45,
      "outputs": [
        {
          "output_type": "execute_result",
          "data": {
            "text/plain": [
              "array([[[ 0.00531512,  0.01313206, -0.00029011, ...,  0.01401529,\n",
              "          0.00634226, -0.01277215],\n",
              "        [ 0.00531512,  0.01313206, -0.00029011, ...,  0.01401529,\n",
              "          0.00634226, -0.01277215],\n",
              "        [ 0.00531512,  0.01313206, -0.00029011, ...,  0.01401529,\n",
              "          0.00634226, -0.01277215],\n",
              "        ...,\n",
              "        [-0.00201868,  0.03960946, -0.01038041, ...,  0.02835076,\n",
              "         -0.00152559,  0.01546189],\n",
              "        [-0.02413762, -0.00963575,  0.00817413, ..., -0.0180177 ,\n",
              "         -0.00436276,  0.00304543],\n",
              "        [ 0.12646855, -0.1860036 ,  0.09957048, ...,  0.18369633,\n",
              "          0.08362021,  0.12134134]]], dtype=float32)"
            ]
          },
          "metadata": {
            "tags": []
          },
          "execution_count": 45
        }
      ]
    },
    {
      "cell_type": "code",
      "metadata": {
        "id": "HoSeVgpP7ub9",
        "colab_type": "code",
        "colab": {
          "base_uri": "https://localhost:8080/",
          "height": 33
        },
        "outputId": "c8c366d9-6168-45b0-924b-eeb6bf568dcf"
      },
      "source": [
        "layer_output9 = get_9th_layer_output([x_test[0:1,]])[0]\n",
        "layer_output9"
      ],
      "execution_count": 46,
      "outputs": [
        {
          "output_type": "execute_result",
          "data": {
            "text/plain": [
              "array([[3.941961e-05]], dtype=float32)"
            ]
          },
          "metadata": {
            "tags": []
          },
          "execution_count": 46
        }
      ]
    },
    {
      "cell_type": "markdown",
      "metadata": {
        "colab_type": "text",
        "id": "Wq4RCyyPSYRp"
      },
      "source": [
        "#### Usage:"
      ]
    },
    {
      "cell_type": "code",
      "metadata": {
        "id": "IwpYSof9JfpT",
        "colab_type": "code",
        "colab": {}
      },
      "source": [
        ""
      ],
      "execution_count": 0,
      "outputs": []
    },
    {
      "cell_type": "code",
      "metadata": {
        "id": "3vwF06JLJfpY",
        "colab_type": "code",
        "colab": {}
      },
      "source": [
        ""
      ],
      "execution_count": 0,
      "outputs": []
    },
    {
      "cell_type": "markdown",
      "metadata": {
        "id": "b6uDmiUtJfpb",
        "colab_type": "text"
      },
      "source": [
        "## Build Keras Embedding Layer Model\n",
        "We can think of the Embedding layer as a dicionary that maps a index assigned to a word to a word vector. This layer is very flexible and can be used in a few ways:\n",
        "\n",
        "* The embedding layer can be used at the start of a larger deep learning model. \n",
        "* Also we could load pre-train word embeddings into the embedding layer when we create our model.\n",
        "* Use the embedding layer to train our own word2vec models.\n",
        "\n",
        "The keras embedding layer doesn't require us to onehot encode our words, instead we have to give each word a unqiue intger number as an id. For the imdb dataset we've loaded this has already been done, but if this wasn't the case we could use sklearn [LabelEncoder](http://scikit-learn.org/stable/modules/generated/sklearn.preprocessing.LabelEncoder.html)."
      ]
    },
    {
      "cell_type": "code",
      "metadata": {
        "id": "2JykBSbGJfpd",
        "colab_type": "code",
        "colab": {}
      },
      "source": [
        ""
      ],
      "execution_count": 0,
      "outputs": []
    },
    {
      "cell_type": "code",
      "metadata": {
        "id": "EPmchq7fJfpl",
        "colab_type": "code",
        "colab": {}
      },
      "source": [
        ""
      ],
      "execution_count": 0,
      "outputs": []
    },
    {
      "cell_type": "code",
      "metadata": {
        "id": "xX77SzxPJfpr",
        "colab_type": "code",
        "colab": {}
      },
      "source": [
        ""
      ],
      "execution_count": 0,
      "outputs": []
    },
    {
      "cell_type": "markdown",
      "metadata": {
        "id": "Fz4pSB3nJfpv",
        "colab_type": "text"
      },
      "source": [
        "## Retrive the output of each layer in keras for a given single test sample from the trained model you built"
      ]
    },
    {
      "cell_type": "code",
      "metadata": {
        "id": "BUEM0on7Jfpw",
        "colab_type": "code",
        "colab": {}
      },
      "source": [
        ""
      ],
      "execution_count": 0,
      "outputs": []
    },
    {
      "cell_type": "code",
      "metadata": {
        "id": "1R_PUEfBJfp1",
        "colab_type": "code",
        "colab": {}
      },
      "source": [
        ""
      ],
      "execution_count": 0,
      "outputs": []
    },
    {
      "cell_type": "code",
      "metadata": {
        "id": "LDL0TxI3Jfp5",
        "colab_type": "code",
        "colab": {}
      },
      "source": [
        ""
      ],
      "execution_count": 0,
      "outputs": []
    }
  ]
}