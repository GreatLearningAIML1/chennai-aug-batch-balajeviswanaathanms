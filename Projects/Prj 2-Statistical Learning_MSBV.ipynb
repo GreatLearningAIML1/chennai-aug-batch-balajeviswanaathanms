{
  "cells": [
    {
      "metadata": {},
      "cell_type": "markdown",
      "source": "# Project 2- Statistical Learning- Hypothesis Testing"
    },
    {
      "metadata": {
        "trusted": false
      },
      "cell_type": "code",
      "source": "import pandas as pd\nimport numpy as np\nSales=pd.read_csv('Sales.csv')",
      "execution_count": 8,
      "outputs": []
    },
    {
      "metadata": {},
      "cell_type": "markdown",
      "source": "#### Find the mean of old scheme and new scheme column."
    },
    {
      "metadata": {
        "trusted": false
      },
      "cell_type": "code",
      "source": "Sales_mean,Oldscheme_mean,Newscheme_mean= Sales.mean()\n\nprint(\"The mean old scheme is {} mean of new scheme is {}\".format(Oldscheme_mean,Newscheme_mean))",
      "execution_count": 9,
      "outputs": [
        {
          "name": "stdout",
          "output_type": "stream",
          "text": "The mean old scheme is 68.03333333333333 mean of new scheme is 72.03333333333333\n"
        }
      ]
    },
    {
      "metadata": {},
      "cell_type": "markdown",
      "source": "### Use the five percent significance test over the data to determine the p value to check new scheme has significantly raised outputs \n"
    },
    {
      "metadata": {
        "trusted": false
      },
      "cell_type": "code",
      "source": "#function to check the hypothesis\ndef Hypothesis_check (P_value,alpha):\n    if P_value < alpha:\n        print(\"Since the P-value ({}) is less than alpha ({}),Null hypothesis was rejected \\n\".format(P_value,alpha))\n    else:\n        print(\"Since the P-value ({}) is greater than alpha ({}),Null hypothesis was accepted\\n\".format(P_value,alpha))",
      "execution_count": 10,
      "outputs": []
    },
    {
      "metadata": {
        "trusted": false
      },
      "cell_type": "code",
      "source": "old=Sales[['Old Scheme (in thousands)']]\nNew=Sales[['New Scheme (in thousands)']]\nalpha=0.05\n\n#Test of variance\nfrom scipy.stats import levene\nT_value, Levene_p_value=levene(old,New)\nprint(\"Test of variance, Levene test P_value={} and T_value={}\".format(Levene_p_value,T_value))\nHypothesis_check (Levene_p_value,alpha)\n\n#H0 Null Hypothesis- Data is normally distributed\n#H1 Alternate Hypothesis- Data is not normally distributed\n\n# Test of normality\nfrom scipy import stats\nT_stats,Old_P_Value=stats.shapiro(old)\nT_stats,New_P_Value=stats.shapiro(New)\nprint(\"Test of normality, Shaprio test P_value of old scheme is {} and New scheme is {}\".format(Old_P_Value,New_P_Value))\nHypothesis_check (New_P_Value,alpha)\n\n#H0 Null hypothesis: New scheme outcome is same as old scheme outcome H0=M2-M1=0\n#H1 Alternate hypothesis: New scheme outcome has a significant increase H1=M2-M1 <> 0\n\n#Two paired t-test \nfrom scipy import stats\nT_Statistics,p_value=stats.ttest_1samp((New.values-old.values),0)\nprint(\"Two sample dependent Test, difference between New and old P value is {}\".format(p_value))\nHypothesis_check (p_value,alpha)",
      "execution_count": 21,
      "outputs": [
        {
          "name": "stdout",
          "output_type": "stream",
          "text": "Test of variance, Levene test P_value=[0.30679836] and T_value=[1.06306154]\nSince the P-value ([0.30679836]) is greater than alpha (0.05),Null hypothesis was accepted\n\nTest of normality, Shaprio test P_value of old scheme is 0.9813658595085144 and New scheme is 0.5057420134544373\nSince the P-value (0.5057420134544373) is greater than alpha (0.05),Null hypothesis was accepted\n\nTwo sample dependent Test, difference between New and old P value is [0.13057554]\nSince the P-value ([0.13057554]) is greater than alpha (0.05),Null hypothesis was accepted\n\n"
        }
      ]
    },
    {
      "metadata": {},
      "cell_type": "markdown",
      "source": "### What conclusion does the test (p-value) lead to"
    },
    {
      "metadata": {},
      "cell_type": "markdown",
      "source": "T Test P value is 0.13 is greater than Alpha 0.05, hence Null hypothesis was accepted. Which indicates, New scheme changes didnt not make any significant difference "
    },
    {
      "metadata": {},
      "cell_type": "markdown",
      "source": "### Suppose it has been calculated that in order for Titan to break even, the average output must increase by £5000 in the scheme compared to the old scheme. If this figure is alternative hypothesis, what is:\n#### The probability of a type 1 error? (2.5 points)"
    },
    {
      "metadata": {},
      "cell_type": "markdown",
      "source": "H0- Null hypothesis is H0= New scheme - Old shceme = 5 (since the unit value in the dataset is 1000)\nH1 - Alternate Hypothesis is H1= New scheme- old scheme =0\n\nType 1 error, rejecting a H0 Null hypothesis which is valid or true. Probablity of rejecting a null hypothesis when it is true is alpha (0.05) or 5%"
    },
    {
      "metadata": {},
      "cell_type": "markdown",
      "source": "#### What is the p- value of the hypothesis test if we test for a difference of $5000?"
    },
    {
      "metadata": {
        "trusted": false
      },
      "cell_type": "code",
      "source": "#Two paired t-test \nfrom scipy import stats\nT_Statistics,p_value=stats.ttest_1samp((New.values-old.values),5)\nprint(\"P value for a difference of 5000 is {}\".format(p_value))",
      "execution_count": 27,
      "outputs": [
        {
          "name": "stdout",
          "output_type": "stream",
          "text": "P value for a difference of 5000 is [0.70013349]\n"
        }
      ]
    },
    {
      "metadata": {},
      "cell_type": "markdown",
      "source": "#### Power of the test"
    },
    {
      "metadata": {
        "trusted": false
      },
      "cell_type": "code",
      "source": "from statistics import mean, stdev\nfrom math import sqrt\nimport numpy as np\n\n# test conditions\nc1 = list(Sales['Old Scheme (in thousands)'])\nc0 = list(Sales['New Scheme (in thousands)'])\n\ncohens_d = (mean(c0) - mean(c1)) / (sqrt((stdev(c0) ** 2 + stdev(c1) ** 2) / 2))\n\nprint(\"Effect Size\",cohens_d)\n\nfrom statsmodels.stats.power import ttest_power\n\nprint(\"Power of Test\",ttest_power(cohens_d,nobs=30,alpha=0.05,alternative='two-sided'))\n",
      "execution_count": 51,
      "outputs": [
        {
          "name": "stdout",
          "output_type": "stream",
          "text": "Effect Size 0.17911431547251094\nPower of Test 0.15778964746173713\n"
        }
      ]
    },
    {
      "metadata": {
        "trusted": false
      },
      "cell_type": "code",
      "source": "",
      "execution_count": null,
      "outputs": []
    }
  ],
  "metadata": {
    "kernelspec": {
      "name": "python3",
      "display_name": "Python 3",
      "language": "python"
    },
    "language_info": {
      "mimetype": "text/x-python",
      "nbconvert_exporter": "python",
      "name": "python",
      "pygments_lexer": "ipython3",
      "version": "3.5.4",
      "file_extension": ".py",
      "codemirror_mode": {
        "version": 3,
        "name": "ipython"
      }
    }
  },
  "nbformat": 4,
  "nbformat_minor": 1
}