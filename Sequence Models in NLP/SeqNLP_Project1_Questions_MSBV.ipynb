{
  "nbformat": 4,
  "nbformat_minor": 0,
  "metadata": {
    "colab": {
      "name": "SeqNLP_Project1_Questions_MSBV.ipynb",
      "provenance": [],
      "collapsed_sections": []
    },
    "language_info": {
      "codemirror_mode": {
        "name": "ipython",
        "version": 2
      },
      "file_extension": ".py",
      "mimetype": "text/x-python",
      "name": "python",
      "nbconvert_exporter": "python",
      "pygments_lexer": "ipython2",
      "version": "2.7.14"
    },
    "kernelspec": {
      "name": "python2",
      "display_name": "Python 2"
    },
    "accelerator": "GPU"
  },
  "cells": [
    {
      "cell_type": "markdown",
      "metadata": {
        "colab_type": "text",
        "id": "xT7MKZuMRaCg"
      },
      "source": [
        "# Sentiment Classification\n",
        "\n",
        "\n",
        "### Generate Word Embeddings and retrieve outputs of each layer with Keras based on Classification task\n",
        "\n",
        "Word embeddings are a type of word representation that allows words with similar meaning to have a similar representation.\n",
        "\n",
        "It is a distributed representation for text that is perhaps one of the key breakthroughs for the impressive performance of deep learning methods on challenging natural language processing problems.\n",
        "\n",
        "We willl use the imdb dataset to learn word embeddings as we train our dataset. This dataset contains 25,000 movie reviews from IMDB, labeled with sentiment (positive or negative). \n",
        "\n",
        "\n",
        "\n",
        "### Dataset\n",
        "\n",
        "`from keras.datasets import imdb`\n",
        "\n",
        "Dataset of 25,000 movies reviews from IMDB, labeled by sentiment (positive/negative). Reviews have been preprocessed, and each review is encoded as a sequence of word indexes (integers). For convenience, the words are indexed by their frequency in the dataset, meaning the for that has index 1 is the most frequent word. Use the first 20 words from each review to speed up training, using a max vocab size of 10,000.\n",
        "\n",
        "As a convention, \"0\" does not stand for a specific word, but instead is used to encode any unknown word.\n",
        "\n",
        "\n",
        "### Aim\n",
        "\n",
        "1. Import test and train data  \n",
        "2. Import the labels ( train and test) \n",
        "3. Get the word index and then Create key value pair for word and word_id. (12.5 points)\n",
        "4. Build a Sequential Model using Keras for Sentiment Classification task. (10 points)\n",
        "5. Report the Accuracy of the model. (5 points)  \n",
        "6. Retrive the output of each layer in keras for a given single test sample from the trained model you built. (2.5 points)\n"
      ]
    },
    {
      "cell_type": "markdown",
      "metadata": {
        "id": "VwhOSNIFW5_z",
        "colab_type": "text"
      },
      "source": [
        "###Import Libraries and Packages"
      ]
    },
    {
      "cell_type": "code",
      "metadata": {
        "id": "wqIzdMn0ViQc",
        "colab_type": "code",
        "colab": {}
      },
      "source": [
        "\n",
        "import tensorflow as tf\n",
        "import csv\n",
        "import pandas as pd\n",
        "from PIL import Image\n",
        "\n",
        "from keras import Model\n",
        "from keras.applications.mobilenet import MobileNet, preprocess_input\n",
        "from keras.callbacks import ModelCheckpoint, EarlyStopping, ReduceLROnPlateau, Callback\n",
        "from keras.layers import Conv2D, Reshape\n",
        "from keras.utils import Sequence\n",
        "from keras.backend import epsilon"
      ],
      "execution_count": 0,
      "outputs": []
    },
    {
      "cell_type": "code",
      "metadata": {
        "id": "KHBkFoht1yIM",
        "colab_type": "code",
        "outputId": "04dad629-9933-469e-ea98-ecfb1beafda9",
        "colab": {
          "base_uri": "https://localhost:8080/",
          "height": 35
        }
      },
      "source": [
        "!pip install numpy==1.16.1"
      ],
      "execution_count": 17,
      "outputs": [
        {
          "output_type": "stream",
          "text": [
            "Requirement already satisfied: numpy==1.16.1 in /usr/local/lib/python2.7/dist-packages (1.16.1)\n"
          ],
          "name": "stdout"
        }
      ]
    },
    {
      "cell_type": "code",
      "metadata": {
        "id": "-Wx6Qu0u17D3",
        "colab_type": "code",
        "colab": {}
      },
      "source": [
        "import numpy as np"
      ],
      "execution_count": 0,
      "outputs": []
    },
    {
      "cell_type": "markdown",
      "metadata": {
        "id": "VsWJrLxRXLBb",
        "colab_type": "text"
      },
      "source": [
        "###Load train and test data "
      ]
    },
    {
      "cell_type": "code",
      "metadata": {
        "colab_type": "code",
        "id": "NGCtiXUhSWss",
        "colab": {}
      },
      "source": [
        "from keras.datasets import imdb\n",
        "vocab_size = 10000 #vocab size\n",
        "(x_train, y_train), (x_test, y_test) = imdb.load_data(num_words = vocab_size) #vocab_size is no.of words to consider from the dataset, ordering based on frequency."
      ],
      "execution_count": 0,
      "outputs": []
    },
    {
      "cell_type": "code",
      "metadata": {
        "id": "xRSIEo31JfpM",
        "colab_type": "code",
        "colab": {}
      },
      "source": [
        "from keras.preprocessing.sequence import pad_sequences\n",
        "vocab_size = 10000 #vocab size\n",
        "maxlen = 300  #number of word used from each review"
      ],
      "execution_count": 0,
      "outputs": []
    },
    {
      "cell_type": "markdown",
      "metadata": {
        "id": "OfQIEPAGXOdT",
        "colab_type": "text"
      },
      "source": [
        "###Import the labels ( train and test)"
      ]
    },
    {
      "cell_type": "code",
      "metadata": {
        "id": "U4efLPbWJfpP",
        "colab_type": "code",
        "colab": {}
      },
      "source": [
        "#load dataset as a list of ints\n",
        "(x_train, y_train), (x_test, y_test) = imdb.load_data(num_words=vocab_size)\n",
        "#make all sequences of the same length\n",
        "x_train = pad_sequences(x_train, maxlen=maxlen)\n",
        "x_test =  pad_sequences(x_test, maxlen=maxlen)"
      ],
      "execution_count": 0,
      "outputs": []
    },
    {
      "cell_type": "code",
      "metadata": {
        "id": "brIFhlL_3ZWF",
        "colab_type": "code",
        "outputId": "ce672ce8-3c35-455c-f2e8-7d5d8933306a",
        "colab": {
          "base_uri": "https://localhost:8080/",
          "height": 35
        }
      },
      "source": [
        "x_train.shape"
      ],
      "execution_count": 22,
      "outputs": [
        {
          "output_type": "execute_result",
          "data": {
            "text/plain": [
              "(25000, 300)"
            ]
          },
          "metadata": {
            "tags": []
          },
          "execution_count": 22
        }
      ]
    },
    {
      "cell_type": "code",
      "metadata": {
        "id": "12mWTxF73dCr",
        "colab_type": "code",
        "outputId": "0381c66b-474c-42da-a3ab-ae9d1b00eb33",
        "colab": {
          "base_uri": "https://localhost:8080/",
          "height": 35
        }
      },
      "source": [
        "x_test.shape"
      ],
      "execution_count": 23,
      "outputs": [
        {
          "output_type": "execute_result",
          "data": {
            "text/plain": [
              "(25000, 300)"
            ]
          },
          "metadata": {
            "tags": []
          },
          "execution_count": 23
        }
      ]
    },
    {
      "cell_type": "markdown",
      "metadata": {
        "id": "atI3fgj1XTFd",
        "colab_type": "text"
      },
      "source": [
        "###Get the word index and then Create key value pair for word and word_id. (12.5 points)"
      ]
    },
    {
      "cell_type": "code",
      "metadata": {
        "id": "A5qqOzIy4464",
        "colab_type": "code",
        "colab": {}
      },
      "source": [
        "import keras"
      ],
      "execution_count": 0,
      "outputs": []
    },
    {
      "cell_type": "code",
      "metadata": {
        "id": "n0Gus16B3upQ",
        "colab_type": "code",
        "colab": {}
      },
      "source": [
        "(training_data, training_labels), (test_data, test_labels)= imdb.load_data(num_words=vocab_size, index_from=3)"
      ],
      "execution_count": 0,
      "outputs": []
    },
    {
      "cell_type": "code",
      "metadata": {
        "id": "HL0S7dwT39lP",
        "colab_type": "code",
        "colab": {}
      },
      "source": [
        "word_to_id = keras.datasets.imdb.get_word_index()"
      ],
      "execution_count": 0,
      "outputs": []
    },
    {
      "cell_type": "code",
      "metadata": {
        "id": "xVNv-zeXYz8c",
        "colab_type": "code",
        "colab": {}
      },
      "source": [
        "import itertools"
      ],
      "execution_count": 0,
      "outputs": []
    },
    {
      "cell_type": "code",
      "metadata": {
        "id": "NgZgQwBf5kjH",
        "colab_type": "code",
        "outputId": "d5194673-7b48-4b4f-e8bb-9294c3e0f8af",
        "colab": {
          "base_uri": "https://localhost:8080/",
          "height": 35
        }
      },
      "source": [
        "dict(itertools.islice(word_to_id.items(), 4))"
      ],
      "execution_count": 29,
      "outputs": [
        {
          "output_type": "execute_result",
          "data": {
            "text/plain": [
              "{u'fawn': 34701, u'nunnery': 52007, u'sonja': 16816, u'tsukino': 52006}"
            ]
          },
          "metadata": {
            "tags": []
          },
          "execution_count": 29
        }
      ]
    },
    {
      "cell_type": "code",
      "metadata": {
        "id": "bHNvqITx5sx6",
        "colab_type": "code",
        "colab": {}
      },
      "source": [
        "word_to_id = {k:(v+3) for k,v in word_to_id.items()}\n",
        "word_to_id[\"<PAD>\"] = 0\n",
        "word_to_id[\"<START>\"] = 1\n",
        "word_to_id[\"<UNK>\"] = 2"
      ],
      "execution_count": 0,
      "outputs": []
    },
    {
      "cell_type": "code",
      "metadata": {
        "id": "uyogiGKF5wJ0",
        "colab_type": "code",
        "colab": {}
      },
      "source": [
        "id_to_word = {id:word for word,id in word_to_id.items()}"
      ],
      "execution_count": 0,
      "outputs": []
    },
    {
      "cell_type": "code",
      "metadata": {
        "id": "pzNhxml_5x83",
        "colab_type": "code",
        "outputId": "7594ba9f-447e-4a7b-fcbf-564685901a4b",
        "colab": {
          "base_uri": "https://localhost:8080/",
          "height": 55
        }
      },
      "source": [
        "print(' '.join(id_to_word[id] for id in training_data[2]))"
      ],
      "execution_count": 32,
      "outputs": [
        {
          "output_type": "stream",
          "text": [
            "<START> this has to be one of the worst films of the 1990s when my friends i were watching this film being the target audience it was aimed at we just sat watched the first half an hour with our jaws touching the floor at how bad it really was the rest of the time everyone else in the theatre just started talking to each other leaving or generally crying into their popcorn that they actually paid money they had <UNK> working to watch this feeble excuse for a film it must have looked like a great idea on paper but on film it looks like no one in the film has a clue what is going on crap acting crap costumes i can't get across how <UNK> this is to watch save yourself an hour a bit of your life\n"
          ],
          "name": "stdout"
        }
      ]
    },
    {
      "cell_type": "markdown",
      "metadata": {
        "id": "C93-Oo7aXYht",
        "colab_type": "text"
      },
      "source": [
        "###Build a Sequential Model using Keras for Sentiment Classification task. (10 points)"
      ]
    },
    {
      "cell_type": "code",
      "metadata": {
        "id": "3GJViHEL5O4q",
        "colab_type": "code",
        "colab": {}
      },
      "source": [
        "from __future__ import print_function\n",
        "\n",
        "from keras.preprocessing import sequence\n",
        "from keras.models import Sequential\n",
        "from keras.layers import Dense, Dropout, Activation\n",
        "from keras.layers import Embedding\n",
        "from keras.layers import Conv1D, GlobalMaxPooling1D\n",
        "from keras.datasets import imdb\n",
        "import itertools\n",
        "from keras.layers import Flatten"
      ],
      "execution_count": 0,
      "outputs": []
    },
    {
      "cell_type": "code",
      "metadata": {
        "id": "9Ik5VA6B55Vm",
        "colab_type": "code",
        "outputId": "8a52df5c-cce3-4f4e-d4b9-1760d988310e",
        "colab": {
          "base_uri": "https://localhost:8080/",
          "height": 245
        }
      },
      "source": [
        "model = Sequential()\n",
        "\n",
        "model.add(Embedding(vocab_size, 8, input_length=maxlen))\n",
        "\n",
        "model.add(Conv1D(64, 3, padding='same'))\n",
        "\n",
        "model.add(Conv1D(32, 3, padding='same'))\n",
        "\n",
        "model.add(Conv1D(16, 3, padding='same'))\n",
        "\n",
        "model.add(Flatten())\n",
        "\n",
        "model.add(Dropout(0.2))\n",
        "\n",
        "model.add(Dense(180,activation='sigmoid'))\n",
        "\n",
        "model.add(Dropout(0.2))\n",
        "\n",
        "model.add(Dense(1,activation='sigmoid'))"
      ],
      "execution_count": 34,
      "outputs": [
        {
          "output_type": "stream",
          "text": [
            "WARNING: Logging before flag parsing goes to stderr.\n",
            "W1003 11:31:32.471015 140044002645888 deprecation_wrapper.py:119] From /usr/local/lib/python2.7/dist-packages/keras/backend/tensorflow_backend.py:74: The name tf.get_default_graph is deprecated. Please use tf.compat.v1.get_default_graph instead.\n",
            "\n",
            "W1003 11:31:32.520788 140044002645888 deprecation_wrapper.py:119] From /usr/local/lib/python2.7/dist-packages/keras/backend/tensorflow_backend.py:517: The name tf.placeholder is deprecated. Please use tf.compat.v1.placeholder instead.\n",
            "\n",
            "W1003 11:31:32.530266 140044002645888 deprecation_wrapper.py:119] From /usr/local/lib/python2.7/dist-packages/keras/backend/tensorflow_backend.py:4138: The name tf.random_uniform is deprecated. Please use tf.random.uniform instead.\n",
            "\n",
            "W1003 11:31:32.628218 140044002645888 deprecation_wrapper.py:119] From /usr/local/lib/python2.7/dist-packages/keras/backend/tensorflow_backend.py:133: The name tf.placeholder_with_default is deprecated. Please use tf.compat.v1.placeholder_with_default instead.\n",
            "\n",
            "W1003 11:31:32.637995 140044002645888 deprecation.py:506] From /usr/local/lib/python2.7/dist-packages/keras/backend/tensorflow_backend.py:3445: calling dropout (from tensorflow.python.ops.nn_ops) with keep_prob is deprecated and will be removed in a future version.\n",
            "Instructions for updating:\n",
            "Please use `rate` instead of `keep_prob`. Rate should be set to `rate = 1 - keep_prob`.\n"
          ],
          "name": "stderr"
        }
      ]
    },
    {
      "cell_type": "code",
      "metadata": {
        "id": "hHVkxauQ6IfL",
        "colab_type": "code",
        "outputId": "09c4a483-5987-49a7-be1b-32a65c289565",
        "colab": {
          "base_uri": "https://localhost:8080/",
          "height": 451
        }
      },
      "source": [
        "model.summary()"
      ],
      "execution_count": 35,
      "outputs": [
        {
          "output_type": "stream",
          "text": [
            "_________________________________________________________________\n",
            "Layer (type)                 Output Shape              Param #   \n",
            "=================================================================\n",
            "embedding_1 (Embedding)      (None, 300, 8)            80000     \n",
            "_________________________________________________________________\n",
            "conv1d_1 (Conv1D)            (None, 300, 64)           1600      \n",
            "_________________________________________________________________\n",
            "conv1d_2 (Conv1D)            (None, 300, 32)           6176      \n",
            "_________________________________________________________________\n",
            "conv1d_3 (Conv1D)            (None, 300, 16)           1552      \n",
            "_________________________________________________________________\n",
            "flatten_1 (Flatten)          (None, 4800)              0         \n",
            "_________________________________________________________________\n",
            "dropout_1 (Dropout)          (None, 4800)              0         \n",
            "_________________________________________________________________\n",
            "dense_1 (Dense)              (None, 180)               864180    \n",
            "_________________________________________________________________\n",
            "dropout_2 (Dropout)          (None, 180)               0         \n",
            "_________________________________________________________________\n",
            "dense_2 (Dense)              (None, 1)                 181       \n",
            "=================================================================\n",
            "Total params: 953,689\n",
            "Trainable params: 953,689\n",
            "Non-trainable params: 0\n",
            "_________________________________________________________________\n"
          ],
          "name": "stdout"
        }
      ]
    },
    {
      "cell_type": "code",
      "metadata": {
        "id": "EGCaI5S76Xi3",
        "colab_type": "code",
        "colab": {
          "base_uri": "https://localhost:8080/",
          "height": 159
        },
        "outputId": "3e45c375-3fe8-40ea-b8c0-2cbc6f763cb1"
      },
      "source": [
        "model.compile(loss='binary_crossentropy', optimizer='adam', metrics=['accuracy'])"
      ],
      "execution_count": 36,
      "outputs": [
        {
          "output_type": "stream",
          "text": [
            "W1003 11:31:35.642786 140044002645888 deprecation_wrapper.py:119] From /usr/local/lib/python2.7/dist-packages/keras/optimizers.py:790: The name tf.train.Optimizer is deprecated. Please use tf.compat.v1.train.Optimizer instead.\n",
            "\n",
            "W1003 11:31:35.669902 140044002645888 deprecation_wrapper.py:119] From /usr/local/lib/python2.7/dist-packages/keras/backend/tensorflow_backend.py:3376: The name tf.log is deprecated. Please use tf.math.log instead.\n",
            "\n",
            "W1003 11:31:35.678539 140044002645888 deprecation.py:323] From /usr/local/lib/python2.7/dist-packages/tensorflow/python/ops/nn_impl.py:180: where (from tensorflow.python.ops.array_ops) is deprecated and will be removed in a future version.\n",
            "Instructions for updating:\n",
            "Use tf.where in 2.0, which has the same broadcast rule as np.where\n"
          ],
          "name": "stderr"
        }
      ]
    },
    {
      "cell_type": "code",
      "metadata": {
        "id": "1JkCpixA6ZKR",
        "colab_type": "code",
        "outputId": "810f13fa-57f9-4af2-fd7f-1d0dc8111c0d",
        "colab": {
          "base_uri": "https://localhost:8080/",
          "height": 711
        }
      },
      "source": [
        "history= model.fit(x_train, y_train, epochs=20, batch_size=76)"
      ],
      "execution_count": 37,
      "outputs": [
        {
          "output_type": "stream",
          "text": [
            "Epoch 1/20\n",
            "25000/25000 [==============================] - 10s 413us/step - loss: 0.4317 - acc: 0.7714\n",
            "Epoch 2/20\n",
            "25000/25000 [==============================] - 4s 144us/step - loss: 0.2212 - acc: 0.9114\n",
            "Epoch 3/20\n",
            "25000/25000 [==============================] - 4s 144us/step - loss: 0.1460 - acc: 0.9468\n",
            "Epoch 4/20\n",
            "25000/25000 [==============================] - 4s 144us/step - loss: 0.0831 - acc: 0.9718\n",
            "Epoch 5/20\n",
            "25000/25000 [==============================] - 4s 144us/step - loss: 0.0513 - acc: 0.9820\n",
            "Epoch 6/20\n",
            "25000/25000 [==============================] - 4s 144us/step - loss: 0.0393 - acc: 0.9872\n",
            "Epoch 7/20\n",
            "25000/25000 [==============================] - 4s 142us/step - loss: 0.0311 - acc: 0.9901\n",
            "Epoch 8/20\n",
            "25000/25000 [==============================] - 4s 144us/step - loss: 0.0180 - acc: 0.9947\n",
            "Epoch 9/20\n",
            "25000/25000 [==============================] - 4s 142us/step - loss: 0.0297 - acc: 0.9892\n",
            "Epoch 10/20\n",
            "25000/25000 [==============================] - 4s 143us/step - loss: 0.0206 - acc: 0.9933\n",
            "Epoch 11/20\n",
            "25000/25000 [==============================] - 4s 143us/step - loss: 0.0155 - acc: 0.9950\n",
            "Epoch 12/20\n",
            "25000/25000 [==============================] - 4s 143us/step - loss: 0.0081 - acc: 0.9977\n",
            "Epoch 13/20\n",
            "25000/25000 [==============================] - 4s 141us/step - loss: 0.0071 - acc: 0.9980\n",
            "Epoch 14/20\n",
            "25000/25000 [==============================] - 4s 142us/step - loss: 0.0156 - acc: 0.9946\n",
            "Epoch 15/20\n",
            "25000/25000 [==============================] - 4s 142us/step - loss: 0.0109 - acc: 0.9964\n",
            "Epoch 16/20\n",
            "25000/25000 [==============================] - 4s 142us/step - loss: 0.0093 - acc: 0.9973\n",
            "Epoch 17/20\n",
            "25000/25000 [==============================] - 4s 142us/step - loss: 0.0087 - acc: 0.9977\n",
            "Epoch 18/20\n",
            "25000/25000 [==============================] - 4s 141us/step - loss: 0.0102 - acc: 0.9970\n",
            "Epoch 19/20\n",
            "25000/25000 [==============================] - 4s 140us/step - loss: 0.0096 - acc: 0.9975\n",
            "Epoch 20/20\n",
            "25000/25000 [==============================] - 3s 140us/step - loss: 0.0088 - acc: 0.9975\n"
          ],
          "name": "stdout"
        }
      ]
    },
    {
      "cell_type": "markdown",
      "metadata": {
        "id": "smfAtV8uXbcN",
        "colab_type": "text"
      },
      "source": [
        "###Report the Accuracy of the model. (5 points)"
      ]
    },
    {
      "cell_type": "code",
      "metadata": {
        "id": "o-mxm3vM6rU4",
        "colab_type": "code",
        "colab": {}
      },
      "source": [
        "Accuracy_scores = model.evaluate(x_test, y_test, verbose=0)"
      ],
      "execution_count": 0,
      "outputs": []
    },
    {
      "cell_type": "code",
      "metadata": {
        "id": "6yD1nMT16sM4",
        "colab_type": "code",
        "outputId": "eb970183-538b-4925-a825-2ea3a8cdb985",
        "colab": {
          "base_uri": "https://localhost:8080/",
          "height": 35
        }
      },
      "source": [
        "print(\"Accuracy_scores: %.2f%%\" % (Accuracy_scores[1]*100))"
      ],
      "execution_count": 39,
      "outputs": [
        {
          "output_type": "stream",
          "text": [
            "Accuracy_scores: 84.58%\n"
          ],
          "name": "stdout"
        }
      ]
    },
    {
      "cell_type": "markdown",
      "metadata": {
        "id": "BhBazD_NXeGD",
        "colab_type": "text"
      },
      "source": [
        "###Retrive the output of each layer in keras for a given single test sample from the trained model you built. (2.5 points)"
      ]
    },
    {
      "cell_type": "code",
      "metadata": {
        "id": "ln1gnCFS7cgs",
        "colab_type": "code",
        "colab": {}
      },
      "source": [
        "from keras import backend as K"
      ],
      "execution_count": 0,
      "outputs": []
    },
    {
      "cell_type": "code",
      "metadata": {
        "id": "h8Ch-BvG7Mn6",
        "colab_type": "code",
        "outputId": "f92faa56-c93b-4b0c-8ec9-962a8ed7ca79",
        "colab": {
          "base_uri": "https://localhost:8080/",
          "height": 35
        }
      },
      "source": [
        "x_train.shape"
      ],
      "execution_count": 41,
      "outputs": [
        {
          "output_type": "execute_result",
          "data": {
            "text/plain": [
              "(25000, 300)"
            ]
          },
          "metadata": {
            "tags": []
          },
          "execution_count": 41
        }
      ]
    },
    {
      "cell_type": "code",
      "metadata": {
        "id": "TTj5oHSb7QZ-",
        "colab_type": "code",
        "colab": {}
      },
      "source": [
        "get_1st_layer_output = K.function([model.layers[0].input], \n",
        "                                  [model.layers[0].output])\n",
        "get_2nd_layer_output = K.function([model.layers[0].input],\n",
        "                                  [model.layers[1].output])\n",
        "get_3rd_layer_output = K.function([model.layers[0].input],\n",
        "                                  [model.layers[2].output])\n",
        "get_4th_layer_output = K.function([model.layers[0].input],\n",
        "                                  [model.layers[3].output])\n",
        "get_5th_layer_output = K.function([model.layers[0].input],\n",
        "                                  [model.layers[4].output])\n",
        "get_6th_layer_output = K.function([model.layers[0].input],\n",
        "                                  [model.layers[5].output])\n",
        "get_7th_layer_output = K.function([model.layers[0].input],\n",
        "                                  [model.layers[6].output])\n",
        "get_8th_layer_output = K.function([model.layers[0].input],\n",
        "                                  [model.layers[7].output])\n",
        "get_9th_layer_output = K.function([model.layers[0].input],\n",
        "                                  [model.layers[8].output])"
      ],
      "execution_count": 0,
      "outputs": []
    },
    {
      "cell_type": "code",
      "metadata": {
        "id": "59R0Qz6j7iqT",
        "colab_type": "code",
        "outputId": "2a3c1288-6ef1-4e32-a31c-f223789be212",
        "colab": {
          "base_uri": "https://localhost:8080/",
          "height": 243
        }
      },
      "source": [
        "lyr_op1 = get_1st_layer_output([x_test[0:1,]])[0]\n",
        "lyr_op1"
      ],
      "execution_count": 44,
      "outputs": [
        {
          "output_type": "execute_result",
          "data": {
            "text/plain": [
              "array([[[-0.0014094 ,  0.02141405,  0.00337149, ...,  0.01615587,\n",
              "          0.00933726, -0.01901296],\n",
              "        [-0.0014094 ,  0.02141405,  0.00337149, ...,  0.01615587,\n",
              "          0.00933726, -0.01901296],\n",
              "        [-0.0014094 ,  0.02141405,  0.00337149, ...,  0.01615587,\n",
              "          0.00933726, -0.01901296],\n",
              "        ...,\n",
              "        [ 0.01653636,  0.04973924,  0.00579983, ...,  0.03293035,\n",
              "         -0.01044111, -0.01169479],\n",
              "        [-0.01693693, -0.0206557 ,  0.00418183, ..., -0.01506506,\n",
              "         -0.00536103,  0.01319498],\n",
              "        [ 0.07213545, -0.10712177,  0.06814995, ...,  0.15623501,\n",
              "          0.05137044,  0.12305746]]], dtype=float32)"
            ]
          },
          "metadata": {
            "tags": []
          },
          "execution_count": 44
        }
      ]
    },
    {
      "cell_type": "code",
      "metadata": {
        "id": "HoSeVgpP7ub9",
        "colab_type": "code",
        "outputId": "5c174b08-47ea-407a-ade5-5e7ca3df44ac",
        "colab": {
          "base_uri": "https://localhost:8080/",
          "height": 35
        }
      },
      "source": [
        "lyr_op9 = get_9th_layer_output([x_test[0:1,]])[0]\n",
        "lyr_op9"
      ],
      "execution_count": 45,
      "outputs": [
        {
          "output_type": "execute_result",
          "data": {
            "text/plain": [
              "array([[0.00034643]], dtype=float32)"
            ]
          },
          "metadata": {
            "tags": []
          },
          "execution_count": 45
        }
      ]
    },
    {
      "cell_type": "markdown",
      "metadata": {
        "id": "b6uDmiUtJfpb",
        "colab_type": "text"
      },
      "source": [
        "## Build Keras Embedding Layer Model\n",
        "We can think of the Embedding layer as a dicionary that maps a index assigned to a word to a word vector. This layer is very flexible and can be used in a few ways:\n",
        "\n",
        "* The embedding layer can be used at the start of a larger deep learning model. \n",
        "* Also we could load pre-train word embeddings into the embedding layer when we create our model.\n",
        "* Use the embedding layer to train our own word2vec models.\n",
        "\n",
        "The keras embedding layer doesn't require us to onehot encode our words, instead we have to give each word a unqiue intger number as an id. For the imdb dataset we've loaded this has already been done, but if this wasn't the case we could use sklearn [LabelEncoder](http://scikit-learn.org/stable/modules/generated/sklearn.preprocessing.LabelEncoder.html)."
      ]
    }
  ]
}