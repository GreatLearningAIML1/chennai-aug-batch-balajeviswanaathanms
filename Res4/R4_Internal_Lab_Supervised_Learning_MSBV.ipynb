{
  "nbformat": 4,
  "nbformat_minor": 0,
  "metadata": {
    "kernelspec": {
      "display_name": "Python 3",
      "language": "python",
      "name": "python3"
    },
    "language_info": {
      "codemirror_mode": {
        "name": "ipython",
        "version": 3
      },
      "file_extension": ".py",
      "mimetype": "text/x-python",
      "name": "python",
      "nbconvert_exporter": "python",
      "pygments_lexer": "ipython3",
      "version": "3.7.0"
    },
    "colab": {
      "name": "R4_Internal_Lab_Supervised_Learning_MSBV.ipynb",
      "provenance": [],
      "collapsed_sections": [
        "em6sMvPokV-u"
      ]
    }
  },
  "cells": [
    {
      "cell_type": "code",
      "metadata": {
        "scrolled": false,
        "id": "FEBCGgvIkV8w",
        "colab_type": "code",
        "colab": {}
      },
      "source": [
        "import warnings \n",
        "warnings.filterwarnings('ignore')"
      ],
      "execution_count": 0,
      "outputs": []
    },
    {
      "cell_type": "markdown",
      "metadata": {
        "id": "ZdaXjQT8kV80",
        "colab_type": "text"
      },
      "source": [
        "## K-Nearest-Neighbors"
      ]
    },
    {
      "cell_type": "markdown",
      "metadata": {
        "id": "BPKvfvpIkV81",
        "colab_type": "text"
      },
      "source": [
        "KNN falls in the supervised learning family of algorithms. Informally, this means that we are given a labelled dataset consiting of training observations (x,y) and would like to capture the relationship between x and y. More formally, our goal is to learn a function h:X→Y so that given an unseen observation x, h(x) can confidently predict the corresponding output y.\n",
        "\n",
        "In this module we will explore the inner workings of KNN, choosing the optimal K values and using KNN from scikit-learn."
      ]
    },
    {
      "cell_type": "markdown",
      "metadata": {
        "id": "9Si-J-0ZkV81",
        "colab_type": "text"
      },
      "source": [
        "## Overview\n",
        "\n",
        "1.Read the problem statement.\n",
        "\n",
        "2.Get the dataset.\n",
        "\n",
        "3.Explore the dataset.\n",
        "\n",
        "4.Pre-processing of dataset.\n",
        "\n",
        "5.Visualization\n",
        "\n",
        "6.Transform the dataset for building machine learning model.\n",
        "\n",
        "7.Split data into train, test set.\n",
        "\n",
        "7.Build Model.\n",
        "\n",
        "8.Apply the model.\n",
        "\n",
        "9.Evaluate the model.\n",
        "\n",
        "10.Finding Optimal K value\n",
        "\n",
        "11.Repeat 7,8,9 steps."
      ]
    },
    {
      "cell_type": "markdown",
      "metadata": {
        "id": "_p7w0I2JkV82",
        "colab_type": "text"
      },
      "source": [
        "## Problem statement\n",
        "\n",
        "### Dataset\n",
        "\n",
        "The data set we’ll be using is the Iris Flower Dataset which was first introduced in 1936 by the famous statistician Ronald Fisher and consists of 50 observations from each of three species of Iris (Iris setosa, Iris virginica and Iris versicolor). Four features were measured from each sample: the length and the width of the sepals and petals.\n",
        "\n",
        "**Attributes of the dataset:** https://archive.ics.uci.edu/ml/datasets/Iris\n",
        "\n",
        "**Train the KNN algorithm to be able to distinguish the species from one another given the measurements of the 4 features.**"
      ]
    },
    {
      "cell_type": "code",
      "metadata": {
        "id": "PMnAo7Utkqe1",
        "colab_type": "code",
        "outputId": "2c62c637-37cb-4c44-b666-157575573c7f",
        "colab": {
          "base_uri": "https://localhost:8080/",
          "height": 35
        }
      },
      "source": [
        "import os\n",
        "import glob2\n",
        "from google.colab import drive\n",
        "drive.mount('/gdrive')"
      ],
      "execution_count": 63,
      "outputs": [
        {
          "output_type": "stream",
          "text": [
            "Drive already mounted at /gdrive; to attempt to forcibly remount, call drive.mount(\"/gdrive\", force_remount=True).\n"
          ],
          "name": "stdout"
        }
      ]
    },
    {
      "cell_type": "code",
      "metadata": {
        "id": "0b8SMvMEkxtT",
        "colab_type": "code",
        "colab": {}
      },
      "source": [
        "files_path=r'/gdrive/My Drive/Colab Notebooks/BSMV/iris.csv'"
      ],
      "execution_count": 0,
      "outputs": []
    },
    {
      "cell_type": "markdown",
      "metadata": {
        "id": "UJgDUUetkV83",
        "colab_type": "text"
      },
      "source": [
        "## Question 1\n",
        "\n",
        "Import the data set and print 10 random rows from the data set"
      ]
    },
    {
      "cell_type": "code",
      "metadata": {
        "id": "UsViZDzVkV84",
        "colab_type": "code",
        "colab": {}
      },
      "source": [
        "import numpy as np\n",
        "import pandas as pd\n",
        "import seaborn as sns\n",
        "import matplotlib.pyplot as plt\n",
        "\n",
        "from sklearn.neighbors import KNeighborsClassifier\n",
        "from scipy.stats import zscore\n",
        "from sklearn.preprocessing import Imputer\n",
        "from sklearn.metrics import accuracy_score\n",
        "from sklearn.preprocessing import LabelEncoder\n",
        "from sklearn.model_selection import train_test_split\n",
        "from sklearn.model_selection import GridSearchCV\n"
      ],
      "execution_count": 0,
      "outputs": []
    },
    {
      "cell_type": "code",
      "metadata": {
        "id": "hU115v3skV86",
        "colab_type": "code",
        "colab": {}
      },
      "source": [
        "Iris_df = pd.read_csv(files_path)"
      ],
      "execution_count": 0,
      "outputs": []
    },
    {
      "cell_type": "code",
      "metadata": {
        "id": "jQ3kjUpRkV88",
        "colab_type": "code",
        "outputId": "86e1d2f4-1835-4b6e-9873-9ce0a77fb21d",
        "colab": {
          "base_uri": "https://localhost:8080/",
          "height": 355
        }
      },
      "source": [
        "Iris_df.sample(n=10)"
      ],
      "execution_count": 67,
      "outputs": [
        {
          "output_type": "execute_result",
          "data": {
            "text/html": [
              "<div>\n",
              "<style scoped>\n",
              "    .dataframe tbody tr th:only-of-type {\n",
              "        vertical-align: middle;\n",
              "    }\n",
              "\n",
              "    .dataframe tbody tr th {\n",
              "        vertical-align: top;\n",
              "    }\n",
              "\n",
              "    .dataframe thead th {\n",
              "        text-align: right;\n",
              "    }\n",
              "</style>\n",
              "<table border=\"1\" class=\"dataframe\">\n",
              "  <thead>\n",
              "    <tr style=\"text-align: right;\">\n",
              "      <th></th>\n",
              "      <th>Id</th>\n",
              "      <th>SepalLengthCm</th>\n",
              "      <th>SepalWidthCm</th>\n",
              "      <th>PetalLengthCm</th>\n",
              "      <th>PetalWidthCm</th>\n",
              "      <th>Species</th>\n",
              "    </tr>\n",
              "  </thead>\n",
              "  <tbody>\n",
              "    <tr>\n",
              "      <th>8</th>\n",
              "      <td>9</td>\n",
              "      <td>4.4</td>\n",
              "      <td>2.9</td>\n",
              "      <td>1.4</td>\n",
              "      <td>0.2</td>\n",
              "      <td>Iris-setosa</td>\n",
              "    </tr>\n",
              "    <tr>\n",
              "      <th>109</th>\n",
              "      <td>110</td>\n",
              "      <td>7.2</td>\n",
              "      <td>3.6</td>\n",
              "      <td>6.1</td>\n",
              "      <td>2.5</td>\n",
              "      <td>Iris-virginica</td>\n",
              "    </tr>\n",
              "    <tr>\n",
              "      <th>32</th>\n",
              "      <td>33</td>\n",
              "      <td>5.2</td>\n",
              "      <td>4.1</td>\n",
              "      <td>1.5</td>\n",
              "      <td>0.1</td>\n",
              "      <td>Iris-setosa</td>\n",
              "    </tr>\n",
              "    <tr>\n",
              "      <th>94</th>\n",
              "      <td>95</td>\n",
              "      <td>5.6</td>\n",
              "      <td>2.7</td>\n",
              "      <td>4.2</td>\n",
              "      <td>1.3</td>\n",
              "      <td>Iris-versicolor</td>\n",
              "    </tr>\n",
              "    <tr>\n",
              "      <th>40</th>\n",
              "      <td>41</td>\n",
              "      <td>5.0</td>\n",
              "      <td>3.5</td>\n",
              "      <td>1.3</td>\n",
              "      <td>0.3</td>\n",
              "      <td>Iris-setosa</td>\n",
              "    </tr>\n",
              "    <tr>\n",
              "      <th>49</th>\n",
              "      <td>50</td>\n",
              "      <td>5.0</td>\n",
              "      <td>3.3</td>\n",
              "      <td>1.4</td>\n",
              "      <td>0.2</td>\n",
              "      <td>Iris-setosa</td>\n",
              "    </tr>\n",
              "    <tr>\n",
              "      <th>75</th>\n",
              "      <td>76</td>\n",
              "      <td>6.6</td>\n",
              "      <td>3.0</td>\n",
              "      <td>4.4</td>\n",
              "      <td>1.4</td>\n",
              "      <td>Iris-versicolor</td>\n",
              "    </tr>\n",
              "    <tr>\n",
              "      <th>62</th>\n",
              "      <td>63</td>\n",
              "      <td>6.0</td>\n",
              "      <td>2.2</td>\n",
              "      <td>4.0</td>\n",
              "      <td>1.0</td>\n",
              "      <td>Iris-versicolor</td>\n",
              "    </tr>\n",
              "    <tr>\n",
              "      <th>66</th>\n",
              "      <td>67</td>\n",
              "      <td>5.6</td>\n",
              "      <td>3.0</td>\n",
              "      <td>4.5</td>\n",
              "      <td>1.5</td>\n",
              "      <td>Iris-versicolor</td>\n",
              "    </tr>\n",
              "    <tr>\n",
              "      <th>76</th>\n",
              "      <td>77</td>\n",
              "      <td>6.8</td>\n",
              "      <td>2.8</td>\n",
              "      <td>4.8</td>\n",
              "      <td>1.4</td>\n",
              "      <td>Iris-versicolor</td>\n",
              "    </tr>\n",
              "  </tbody>\n",
              "</table>\n",
              "</div>"
            ],
            "text/plain": [
              "      Id  SepalLengthCm  ...  PetalWidthCm          Species\n",
              "8      9            4.4  ...           0.2      Iris-setosa\n",
              "109  110            7.2  ...           2.5   Iris-virginica\n",
              "32    33            5.2  ...           0.1      Iris-setosa\n",
              "94    95            5.6  ...           1.3  Iris-versicolor\n",
              "40    41            5.0  ...           0.3      Iris-setosa\n",
              "49    50            5.0  ...           0.2      Iris-setosa\n",
              "75    76            6.6  ...           1.4  Iris-versicolor\n",
              "62    63            6.0  ...           1.0  Iris-versicolor\n",
              "66    67            5.6  ...           1.5  Iris-versicolor\n",
              "76    77            6.8  ...           1.4  Iris-versicolor\n",
              "\n",
              "[10 rows x 6 columns]"
            ]
          },
          "metadata": {
            "tags": []
          },
          "execution_count": 67
        }
      ]
    },
    {
      "cell_type": "code",
      "metadata": {
        "id": "Id35Ctb_kV8_",
        "colab_type": "code",
        "outputId": "a6d08597-f1ed-4c65-9040-48aa25fac233",
        "colab": {
          "base_uri": "https://localhost:8080/",
          "height": 208
        }
      },
      "source": [
        "Iris_df.info()"
      ],
      "execution_count": 68,
      "outputs": [
        {
          "output_type": "stream",
          "text": [
            "<class 'pandas.core.frame.DataFrame'>\n",
            "RangeIndex: 152 entries, 0 to 151\n",
            "Data columns (total 6 columns):\n",
            "Id               152 non-null int64\n",
            "SepalLengthCm    151 non-null float64\n",
            "SepalWidthCm     150 non-null float64\n",
            "PetalLengthCm    150 non-null float64\n",
            "PetalWidthCm     151 non-null float64\n",
            "Species          152 non-null object\n",
            "dtypes: float64(4), int64(1), object(1)\n",
            "memory usage: 7.2+ KB\n"
          ],
          "name": "stdout"
        }
      ]
    },
    {
      "cell_type": "code",
      "metadata": {
        "id": "etGlU9B5kV9B",
        "colab_type": "code",
        "outputId": "d9aea83e-4874-413c-e999-d748321e6f1f",
        "colab": {
          "base_uri": "https://localhost:8080/",
          "height": 202
        }
      },
      "source": [
        "Iris_df.describe().transpose()"
      ],
      "execution_count": 69,
      "outputs": [
        {
          "output_type": "execute_result",
          "data": {
            "text/html": [
              "<div>\n",
              "<style scoped>\n",
              "    .dataframe tbody tr th:only-of-type {\n",
              "        vertical-align: middle;\n",
              "    }\n",
              "\n",
              "    .dataframe tbody tr th {\n",
              "        vertical-align: top;\n",
              "    }\n",
              "\n",
              "    .dataframe thead th {\n",
              "        text-align: right;\n",
              "    }\n",
              "</style>\n",
              "<table border=\"1\" class=\"dataframe\">\n",
              "  <thead>\n",
              "    <tr style=\"text-align: right;\">\n",
              "      <th></th>\n",
              "      <th>count</th>\n",
              "      <th>mean</th>\n",
              "      <th>std</th>\n",
              "      <th>min</th>\n",
              "      <th>25%</th>\n",
              "      <th>50%</th>\n",
              "      <th>75%</th>\n",
              "      <th>max</th>\n",
              "    </tr>\n",
              "  </thead>\n",
              "  <tbody>\n",
              "    <tr>\n",
              "      <th>Id</th>\n",
              "      <td>152.0</td>\n",
              "      <td>76.500000</td>\n",
              "      <td>44.022721</td>\n",
              "      <td>1.0</td>\n",
              "      <td>38.75</td>\n",
              "      <td>76.50</td>\n",
              "      <td>114.25</td>\n",
              "      <td>152.0</td>\n",
              "    </tr>\n",
              "    <tr>\n",
              "      <th>SepalLengthCm</th>\n",
              "      <td>151.0</td>\n",
              "      <td>5.843709</td>\n",
              "      <td>0.825314</td>\n",
              "      <td>4.3</td>\n",
              "      <td>5.10</td>\n",
              "      <td>5.80</td>\n",
              "      <td>6.40</td>\n",
              "      <td>7.9</td>\n",
              "    </tr>\n",
              "    <tr>\n",
              "      <th>SepalWidthCm</th>\n",
              "      <td>150.0</td>\n",
              "      <td>3.054000</td>\n",
              "      <td>0.433594</td>\n",
              "      <td>2.0</td>\n",
              "      <td>2.80</td>\n",
              "      <td>3.00</td>\n",
              "      <td>3.30</td>\n",
              "      <td>4.4</td>\n",
              "    </tr>\n",
              "    <tr>\n",
              "      <th>PetalLengthCm</th>\n",
              "      <td>150.0</td>\n",
              "      <td>3.758667</td>\n",
              "      <td>1.764420</td>\n",
              "      <td>1.0</td>\n",
              "      <td>1.60</td>\n",
              "      <td>4.35</td>\n",
              "      <td>5.10</td>\n",
              "      <td>6.9</td>\n",
              "    </tr>\n",
              "    <tr>\n",
              "      <th>PetalWidthCm</th>\n",
              "      <td>151.0</td>\n",
              "      <td>1.202649</td>\n",
              "      <td>0.762185</td>\n",
              "      <td>0.1</td>\n",
              "      <td>0.30</td>\n",
              "      <td>1.30</td>\n",
              "      <td>1.80</td>\n",
              "      <td>2.5</td>\n",
              "    </tr>\n",
              "  </tbody>\n",
              "</table>\n",
              "</div>"
            ],
            "text/plain": [
              "               count       mean        std  min    25%    50%     75%    max\n",
              "Id             152.0  76.500000  44.022721  1.0  38.75  76.50  114.25  152.0\n",
              "SepalLengthCm  151.0   5.843709   0.825314  4.3   5.10   5.80    6.40    7.9\n",
              "SepalWidthCm   150.0   3.054000   0.433594  2.0   2.80   3.00    3.30    4.4\n",
              "PetalLengthCm  150.0   3.758667   1.764420  1.0   1.60   4.35    5.10    6.9\n",
              "PetalWidthCm   151.0   1.202649   0.762185  0.1   0.30   1.30    1.80    2.5"
            ]
          },
          "metadata": {
            "tags": []
          },
          "execution_count": 69
        }
      ]
    },
    {
      "cell_type": "markdown",
      "metadata": {
        "id": "JAGyfyTIkV9D",
        "colab_type": "text"
      },
      "source": [
        "## Question 2 - Estimating missing values\n",
        "\n",
        "*Its not good to remove the records having missing values all the time. We may end up loosing some data points. So, we will have to see how to replace those missing values with some estimated values (median) *"
      ]
    },
    {
      "cell_type": "code",
      "metadata": {
        "id": "X-21LRq9kV9E",
        "colab_type": "code",
        "outputId": "da5be242-fbb6-4696-8ab7-d4885e64d14b",
        "colab": {
          "base_uri": "https://localhost:8080/",
          "height": 104
        }
      },
      "source": [
        "missing_values=Iris_df.columns[Iris_df.isnull().any()]\n",
        "Iris_df[missing_values].isnull().sum()"
      ],
      "execution_count": 70,
      "outputs": [
        {
          "output_type": "execute_result",
          "data": {
            "text/plain": [
              "SepalLengthCm    1\n",
              "SepalWidthCm     2\n",
              "PetalLengthCm    2\n",
              "PetalWidthCm     1\n",
              "dtype: int64"
            ]
          },
          "metadata": {
            "tags": []
          },
          "execution_count": 70
        }
      ]
    },
    {
      "cell_type": "code",
      "metadata": {
        "id": "KwjE0K82kV9G",
        "colab_type": "code",
        "outputId": "6f895a0e-f717-4798-d3bc-adaa3a6bf6fd",
        "colab": {
          "base_uri": "https://localhost:8080/",
          "height": 355
        }
      },
      "source": [
        "sns.heatmap(Iris_df.isnull(),yticklabels=False,cbar=False,cmap='YlGnBu')"
      ],
      "execution_count": 75,
      "outputs": [
        {
          "output_type": "execute_result",
          "data": {
            "text/plain": [
              "<matplotlib.axes._subplots.AxesSubplot at 0x7f99c90f7860>"
            ]
          },
          "metadata": {
            "tags": []
          },
          "execution_count": 75
        },
        {
          "output_type": "display_data",
          "data": {
            "image/png": "[encoded data removed]",
            "text/plain": [
              "<Figure size 432x288 with 1 Axes>"
            ]
          },
          "metadata": {
            "tags": []
          }
        }
      ]
    },
    {
      "cell_type": "code",
      "metadata": {
        "id": "lMzjWorbkV9I",
        "colab_type": "code",
        "colab": {}
      },
      "source": [
        "Iris_df['SepalLengthCm'] = Iris_df['SepalLengthCm'].fillna(Iris_df['SepalLengthCm'].median()).astype(float)\n",
        "Iris_df['SepalWidthCm'] = Iris_df['SepalWidthCm'].fillna(Iris_df['SepalWidthCm'].median()).astype(float)\n",
        "Iris_df['PetalLengthCm'] = Iris_df['PetalLengthCm'].fillna(Iris_df['PetalLengthCm'].median()).astype(float)\n",
        "Iris_df['PetalWidthCm'] = Iris_df['PetalWidthCm'].fillna(Iris_df['PetalWidthCm'].median()).astype(float)"
      ],
      "execution_count": 0,
      "outputs": []
    },
    {
      "cell_type": "code",
      "metadata": {
        "id": "61D9pxbjkV9K",
        "colab_type": "code",
        "outputId": "2befcd59-b7d0-4e35-cef5-94f269bf1a65",
        "colab": {
          "base_uri": "https://localhost:8080/",
          "height": 35
        }
      },
      "source": [
        "missing_values=Iris_df.columns[Iris_df.isnull().any()]\n",
        "Iris_df[missing_values].isnull().sum()"
      ],
      "execution_count": 73,
      "outputs": [
        {
          "output_type": "execute_result",
          "data": {
            "text/plain": [
              "Series([], dtype: float64)"
            ]
          },
          "metadata": {
            "tags": []
          },
          "execution_count": 73
        }
      ]
    },
    {
      "cell_type": "code",
      "metadata": {
        "id": "xehCRRT4kV9M",
        "colab_type": "code",
        "outputId": "2ee3c4f6-8692-4565-ac01-534827b596ca",
        "colab": {
          "base_uri": "https://localhost:8080/",
          "height": 355
        }
      },
      "source": [
        "sns.heatmap(Iris_df.isnull(),yticklabels=False,cbar=False,cmap='YlGnBu')"
      ],
      "execution_count": 76,
      "outputs": [
        {
          "output_type": "execute_result",
          "data": {
            "text/plain": [
              "<matplotlib.axes._subplots.AxesSubplot at 0x7f99cb9b5e80>"
            ]
          },
          "metadata": {
            "tags": []
          },
          "execution_count": 76
        },
        {
          "output_type": "display_data",
          "data": {
            "image/png": "[encoded data removed]",
            "text/plain": [
              "<Figure size 432x288 with 1 Axes>"
            ]
          },
          "metadata": {
            "tags": []
          }
        }
      ]
    },
    {
      "cell_type": "markdown",
      "metadata": {
        "id": "YoHn8y5OkV9O",
        "colab_type": "text"
      },
      "source": [
        "## Question 3 - Dealing with categorical data\n",
        "\n",
        "Change all the classes to numericals (0to2)."
      ]
    },
    {
      "cell_type": "code",
      "metadata": {
        "id": "NCVvNviskV9P",
        "colab_type": "code",
        "outputId": "841eef85-fe27-4749-e751-9cda5e2ccebf",
        "colab": {
          "base_uri": "https://localhost:8080/",
          "height": 171
        }
      },
      "source": [
        "labelencoder = LabelEncoder()\n",
        "Iris_df['Species'] = labelencoder.fit_transform(Iris_df.Species)\n",
        "Iris_df.groupby([\"Species\"]).count()"
      ],
      "execution_count": 77,
      "outputs": [
        {
          "output_type": "execute_result",
          "data": {
            "text/html": [
              "<div>\n",
              "<style scoped>\n",
              "    .dataframe tbody tr th:only-of-type {\n",
              "        vertical-align: middle;\n",
              "    }\n",
              "\n",
              "    .dataframe tbody tr th {\n",
              "        vertical-align: top;\n",
              "    }\n",
              "\n",
              "    .dataframe thead th {\n",
              "        text-align: right;\n",
              "    }\n",
              "</style>\n",
              "<table border=\"1\" class=\"dataframe\">\n",
              "  <thead>\n",
              "    <tr style=\"text-align: right;\">\n",
              "      <th></th>\n",
              "      <th>Id</th>\n",
              "      <th>SepalLengthCm</th>\n",
              "      <th>SepalWidthCm</th>\n",
              "      <th>PetalLengthCm</th>\n",
              "      <th>PetalWidthCm</th>\n",
              "    </tr>\n",
              "    <tr>\n",
              "      <th>Species</th>\n",
              "      <th></th>\n",
              "      <th></th>\n",
              "      <th></th>\n",
              "      <th></th>\n",
              "      <th></th>\n",
              "    </tr>\n",
              "  </thead>\n",
              "  <tbody>\n",
              "    <tr>\n",
              "      <th>0</th>\n",
              "      <td>50</td>\n",
              "      <td>50</td>\n",
              "      <td>50</td>\n",
              "      <td>50</td>\n",
              "      <td>50</td>\n",
              "    </tr>\n",
              "    <tr>\n",
              "      <th>1</th>\n",
              "      <td>50</td>\n",
              "      <td>50</td>\n",
              "      <td>50</td>\n",
              "      <td>50</td>\n",
              "      <td>50</td>\n",
              "    </tr>\n",
              "    <tr>\n",
              "      <th>2</th>\n",
              "      <td>52</td>\n",
              "      <td>52</td>\n",
              "      <td>52</td>\n",
              "      <td>52</td>\n",
              "      <td>52</td>\n",
              "    </tr>\n",
              "  </tbody>\n",
              "</table>\n",
              "</div>"
            ],
            "text/plain": [
              "         Id  SepalLengthCm  SepalWidthCm  PetalLengthCm  PetalWidthCm\n",
              "Species                                                              \n",
              "0        50             50            50             50            50\n",
              "1        50             50            50             50            50\n",
              "2        52             52            52             52            52"
            ]
          },
          "metadata": {
            "tags": []
          },
          "execution_count": 77
        }
      ]
    },
    {
      "cell_type": "markdown",
      "metadata": {
        "id": "9u1yzDm7kV9R",
        "colab_type": "text"
      },
      "source": [
        "## Question 4\n",
        "\n",
        "*Observe the association of each independent variable with target variable and drop variables from feature set having correlation in range -0.1 to 0.1 with target variable.*"
      ]
    },
    {
      "cell_type": "code",
      "metadata": {
        "id": "Umw66U0-kV9S",
        "colab_type": "code",
        "colab": {
          "base_uri": "https://localhost:8080/",
          "height": 202
        },
        "outputId": "072bafc2-118a-4a7e-f08f-b51e44bd7b4c"
      },
      "source": [
        "Iris_df.drop('Id',axis=1,inplace=True)\n",
        "Iris_df.corr()"
      ],
      "execution_count": 78,
      "outputs": [
        {
          "output_type": "execute_result",
          "data": {
            "text/html": [
              "<div>\n",
              "<style scoped>\n",
              "    .dataframe tbody tr th:only-of-type {\n",
              "        vertical-align: middle;\n",
              "    }\n",
              "\n",
              "    .dataframe tbody tr th {\n",
              "        vertical-align: top;\n",
              "    }\n",
              "\n",
              "    .dataframe thead th {\n",
              "        text-align: right;\n",
              "    }\n",
              "</style>\n",
              "<table border=\"1\" class=\"dataframe\">\n",
              "  <thead>\n",
              "    <tr style=\"text-align: right;\">\n",
              "      <th></th>\n",
              "      <th>SepalLengthCm</th>\n",
              "      <th>SepalWidthCm</th>\n",
              "      <th>PetalLengthCm</th>\n",
              "      <th>PetalWidthCm</th>\n",
              "      <th>Species</th>\n",
              "    </tr>\n",
              "  </thead>\n",
              "  <tbody>\n",
              "    <tr>\n",
              "      <th>SepalLengthCm</th>\n",
              "      <td>1.000000</td>\n",
              "      <td>-0.109369</td>\n",
              "      <td>0.871120</td>\n",
              "      <td>0.815986</td>\n",
              "      <td>0.775061</td>\n",
              "    </tr>\n",
              "    <tr>\n",
              "      <th>SepalWidthCm</th>\n",
              "      <td>-0.109369</td>\n",
              "      <td>1.000000</td>\n",
              "      <td>-0.420713</td>\n",
              "      <td>-0.356510</td>\n",
              "      <td>-0.417318</td>\n",
              "    </tr>\n",
              "    <tr>\n",
              "      <th>PetalLengthCm</th>\n",
              "      <td>0.871120</td>\n",
              "      <td>-0.420713</td>\n",
              "      <td>1.000000</td>\n",
              "      <td>0.962043</td>\n",
              "      <td>0.944477</td>\n",
              "    </tr>\n",
              "    <tr>\n",
              "      <th>PetalWidthCm</th>\n",
              "      <td>0.815986</td>\n",
              "      <td>-0.356510</td>\n",
              "      <td>0.962043</td>\n",
              "      <td>1.000000</td>\n",
              "      <td>0.952513</td>\n",
              "    </tr>\n",
              "    <tr>\n",
              "      <th>Species</th>\n",
              "      <td>0.775061</td>\n",
              "      <td>-0.417318</td>\n",
              "      <td>0.944477</td>\n",
              "      <td>0.952513</td>\n",
              "      <td>1.000000</td>\n",
              "    </tr>\n",
              "  </tbody>\n",
              "</table>\n",
              "</div>"
            ],
            "text/plain": [
              "               SepalLengthCm  SepalWidthCm  ...  PetalWidthCm   Species\n",
              "SepalLengthCm       1.000000     -0.109369  ...      0.815986  0.775061\n",
              "SepalWidthCm       -0.109369      1.000000  ...     -0.356510 -0.417318\n",
              "PetalLengthCm       0.871120     -0.420713  ...      0.962043  0.944477\n",
              "PetalWidthCm        0.815986     -0.356510  ...      1.000000  0.952513\n",
              "Species             0.775061     -0.417318  ...      0.952513  1.000000\n",
              "\n",
              "[5 rows x 5 columns]"
            ]
          },
          "metadata": {
            "tags": []
          },
          "execution_count": 78
        }
      ]
    },
    {
      "cell_type": "code",
      "metadata": {
        "id": "_URz6PSPkV9W",
        "colab_type": "code",
        "outputId": "9fe9b359-c9cf-4ba0-95f9-81912ee75f56",
        "colab": {
          "base_uri": "https://localhost:8080/",
          "height": 355
        }
      },
      "source": [
        "sns.heatmap(df.corr(),annot=True,vmin=1,vmax=1,cmap=\"seismic\")"
      ],
      "execution_count": 79,
      "outputs": [
        {
          "output_type": "execute_result",
          "data": {
            "text/plain": [
              "<matplotlib.axes._subplots.AxesSubplot at 0x7f99c9011358>"
            ]
          },
          "metadata": {
            "tags": []
          },
          "execution_count": 79
        },
        {
          "output_type": "display_data",
          "data": {
            "image/png": "[encoded data removed]",
            "text/plain": [
              "<Figure size 432x288 with 2 Axes>"
            ]
          },
          "metadata": {
            "tags": []
          }
        }
      ]
    },
    {
      "cell_type": "markdown",
      "metadata": {
        "id": "CV0GYpH5kV9Y",
        "colab_type": "text"
      },
      "source": [
        "## Question 5\n",
        "\n",
        "*Observe the independent variables variance and drop such variables having no variance or almost zero variance(variance < 0.1). They will be having almost no influence on the classification.*"
      ]
    },
    {
      "cell_type": "code",
      "metadata": {
        "id": "NC1qSB6IkV9Z",
        "colab_type": "code",
        "outputId": "de7842ea-8198-4d5c-a3ab-dbe9b6a3465e",
        "colab": {
          "base_uri": "https://localhost:8080/",
          "height": 121
        }
      },
      "source": [
        "Iris_df.var()"
      ],
      "execution_count": 80,
      "outputs": [
        {
          "output_type": "execute_result",
          "data": {
            "text/plain": [
              "SepalLengthCm    0.676645\n",
              "SepalWidthCm     0.185552\n",
              "PetalLengthCm    3.076516\n",
              "PetalWidthCm     0.577141\n",
              "Species          0.675322\n",
              "dtype: float64"
            ]
          },
          "metadata": {
            "tags": []
          },
          "execution_count": 80
        }
      ]
    },
    {
      "cell_type": "markdown",
      "metadata": {
        "id": "HBy0KHchkV9b",
        "colab_type": "text"
      },
      "source": [
        "## Question 6\n",
        "\n",
        "*Plot the scatter matrix for all the variables.*"
      ]
    },
    {
      "cell_type": "code",
      "metadata": {
        "id": "Vst3IDd6sscH",
        "colab_type": "code",
        "colab": {
          "base_uri": "https://localhost:8080/",
          "height": 751
        },
        "outputId": "7fbea0d6-9000-48b8-c6aa-e2908e4311e0"
      },
      "source": [
        "pd.plotting.scatter_matrix(Iris_df)"
      ],
      "execution_count": 88,
      "outputs": [
        {
          "output_type": "execute_result",
          "data": {
            "text/plain": [
              "array([[<matplotlib.axes._subplots.AxesSubplot object at 0x7f99c86b1cf8>,\n",
              "        <matplotlib.axes._subplots.AxesSubplot object at 0x7f99c8565d30>,\n",
              "        <matplotlib.axes._subplots.AxesSubplot object at 0x7f99c6ccd470>,\n",
              "        <matplotlib.axes._subplots.AxesSubplot object at 0x7f99c6cf29e8>,\n",
              "        <matplotlib.axes._subplots.AxesSubplot object at 0x7f99c6c9af60>],\n",
              "       [<matplotlib.axes._subplots.AxesSubplot object at 0x7f99c6c49518>,\n",
              "        <matplotlib.axes._subplots.AxesSubplot object at 0x7f99c6c71a90>,\n",
              "        <matplotlib.axes._subplots.AxesSubplot object at 0x7f99c6c1aa20>,\n",
              "        <matplotlib.axes._subplots.AxesSubplot object at 0x7f99c6c1aa58>,\n",
              "        <matplotlib.axes._subplots.AxesSubplot object at 0x7f99c6bf1518>],\n",
              "       [<matplotlib.axes._subplots.AxesSubplot object at 0x7f99c6b99a90>,\n",
              "        <matplotlib.axes._subplots.AxesSubplot object at 0x7f99c6b4a048>,\n",
              "        <matplotlib.axes._subplots.AxesSubplot object at 0x7f99c6b6f5c0>,\n",
              "        <matplotlib.axes._subplots.AxesSubplot object at 0x7f99c6b17b38>,\n",
              "        <matplotlib.axes._subplots.AxesSubplot object at 0x7f99c6ac90f0>],\n",
              "       [<matplotlib.axes._subplots.AxesSubplot object at 0x7f99c6aee668>,\n",
              "        <matplotlib.axes._subplots.AxesSubplot object at 0x7f99c6a95be0>,\n",
              "        <matplotlib.axes._subplots.AxesSubplot object at 0x7f99c6ac6198>,\n",
              "        <matplotlib.axes._subplots.AxesSubplot object at 0x7f99c6a6d710>,\n",
              "        <matplotlib.axes._subplots.AxesSubplot object at 0x7f99c6a13c88>],\n",
              "       [<matplotlib.axes._subplots.AxesSubplot object at 0x7f99c6a47240>,\n",
              "        <matplotlib.axes._subplots.AxesSubplot object at 0x7f99c69ef7b8>,\n",
              "        <matplotlib.axes._subplots.AxesSubplot object at 0x7f99c8962da0>,\n",
              "        <matplotlib.axes._subplots.AxesSubplot object at 0x7f99c8997278>,\n",
              "        <matplotlib.axes._subplots.AxesSubplot object at 0x7f99c8d04128>]],\n",
              "      dtype=object)"
            ]
          },
          "metadata": {
            "tags": []
          },
          "execution_count": 88
        },
        {
          "output_type": "display_data",
          "data": {
            "image/png": "[encoded data removed]",
            "text/plain": [
              "<Figure size 432x288 with 25 Axes>"
            ]
          },
          "metadata": {
            "tags": []
          }
        }
      ]
    },
    {
      "cell_type": "code",
      "metadata": {
        "id": "YFdftJfNkV9d",
        "colab_type": "code",
        "outputId": "5b5e62e0-81da-4272-846d-a8b8e08ae90b",
        "colab": {
          "base_uri": "https://localhost:8080/",
          "height": 927
        }
      },
      "source": [
        "sns.pairplot(Iris_df, hue='Species')\n",
        "print('Pairplot')"
      ],
      "execution_count": 89,
      "outputs": [
        {
          "output_type": "stream",
          "text": [
            "Pairplot\n"
          ],
          "name": "stdout"
        },
        {
          "output_type": "display_data",
          "data": {
            "image/png": "[encoded data removed]",
            "text/plain": [
              "<Figure size 946.375x900 with 30 Axes>"
            ]
          },
          "metadata": {
            "tags": []
          }
        }
      ]
    },
    {
      "cell_type": "markdown",
      "metadata": {
        "id": "rE2UV8EJkV9i",
        "colab_type": "text"
      },
      "source": [
        "## Split the dataset into training and test sets\n",
        "\n",
        "## Question 7\n",
        "\n",
        "*Split the dataset into training and test sets with 80-20 ratio.*"
      ]
    },
    {
      "cell_type": "code",
      "metadata": {
        "id": "M29mj9LWkV9j",
        "colab_type": "code",
        "colab": {}
      },
      "source": [
        "y = Iris_df['Species']\n",
        "x = Iris_df[['SepalLengthCm','SepalWidthCm','PetalLengthCm','PetalWidthCm']]"
      ],
      "execution_count": 0,
      "outputs": []
    },
    {
      "cell_type": "code",
      "metadata": {
        "id": "Pqi3go38kV9l",
        "colab_type": "code",
        "outputId": "9823fd1b-b315-4b0b-f08d-2c5724ca1733",
        "colab": {
          "base_uri": "https://localhost:8080/",
          "height": 87
        }
      },
      "source": [
        "X_train, X_test, Y_train, Y_test = train_test_split(x, y, test_size=0.2, random_state=100)\n",
        "print('X_trains: \\t ', X_train.shape)\n",
        "print('Y_trains: \\t ', Y_train.shape)\n",
        "print('X_test: \\t ', X_test.shape)\n",
        "print('Y_test: \\t ', Y_test.shape)"
      ],
      "execution_count": 92,
      "outputs": [
        {
          "output_type": "stream",
          "text": [
            "X_trains: \t  (121, 4)\n",
            "Y_trains: \t  (121,)\n",
            "X_test: \t  (31, 4)\n",
            "Y_test: \t  (31,)\n"
          ],
          "name": "stdout"
        }
      ]
    },
    {
      "cell_type": "markdown",
      "metadata": {
        "id": "GFmaziaAkV9m",
        "colab_type": "text"
      },
      "source": [
        "## Question 8 - Model\n",
        "\n",
        "*Build the model and train and test on training and test sets respectively using **scikit-learn**. Print the Accuracy of the model with different values of **k=3,5,9**.*\n",
        "\n",
        "**Hint:** For accuracy you can check **accuracy_score()** in scikit-learn"
      ]
    },
    {
      "cell_type": "code",
      "metadata": {
        "id": "0lbgBcHBtEvF",
        "colab_type": "code",
        "colab": {
          "base_uri": "https://localhost:8080/",
          "height": 69
        },
        "outputId": "8f8de781-71d0-4b17-d185-5a75449188b2"
      },
      "source": [
        "for k in [3,5,9]:\n",
        "  NNH = KNeighborsClassifier(n_neighbors= k , weights = 'uniform', metric='euclidean')\n",
        "  NNH.fit(X_train, Y_train)\n",
        "  predicted_labels = NNH.predict(X_test)\n",
        "  print(\"accuracy_score-\"+str(k) +\" \"+str(accuracy_score(Y_test, predicted_labels)))\n",
        "  "
      ],
      "execution_count": 96,
      "outputs": [
        {
          "output_type": "stream",
          "text": [
            "accuracy_score-3 0.9354838709677419\n",
            "accuracy_score-5 0.9354838709677419\n",
            "accuracy_score-9 0.9354838709677419\n"
          ],
          "name": "stdout"
        }
      ]
    },
    {
      "cell_type": "markdown",
      "metadata": {
        "id": "V7kBAWS_kV9u",
        "colab_type": "text"
      },
      "source": [
        "## Question 9 - Cross Validation\n",
        "\n",
        "Run the KNN with no of neighbours to be 1,3,5..19 and *Find the **optimal number of neighbours** from the above list using the Mis classification error"
      ]
    },
    {
      "cell_type": "markdown",
      "metadata": {
        "id": "SdI0bCTmkV9v",
        "colab_type": "text"
      },
      "source": [
        "Hint:\n",
        "\n",
        "Misclassification error (MSE) = 1 - Test accuracy score. Calculated MSE for each model with neighbours = 1,3,5...19 and find the model with lowest MSE"
      ]
    },
    {
      "cell_type": "code",
      "metadata": {
        "id": "yzCaCZ-jkV9v",
        "colab_type": "code",
        "colab": {}
      },
      "source": [
        "k = np.arange(1,20,2)\n",
        "knn = KNeighborsClassifier()\n",
        "parameters = {'n_neighbors': k}\n",
        "gridsearch = GridSearchCV(knn,parameters,cv=10)"
      ],
      "execution_count": 0,
      "outputs": []
    },
    {
      "cell_type": "code",
      "metadata": {
        "id": "1m_-KpmTkV9x",
        "colab_type": "code",
        "outputId": "2d7ca70a-73ca-4be6-b17b-b603afefc6bc",
        "colab": {
          "base_uri": "https://localhost:8080/",
          "height": 191
        }
      },
      "source": [
        "gridsearch.fit(X_train,Y_train)"
      ],
      "execution_count": 100,
      "outputs": [
        {
          "output_type": "execute_result",
          "data": {
            "text/plain": [
              "GridSearchCV(cv=10, error_score='raise-deprecating',\n",
              "             estimator=KNeighborsClassifier(algorithm='auto', leaf_size=30,\n",
              "                                            metric='minkowski',\n",
              "                                            metric_params=None, n_jobs=None,\n",
              "                                            n_neighbors=5, p=2,\n",
              "                                            weights='uniform'),\n",
              "             iid='warn', n_jobs=None,\n",
              "             param_grid={'n_neighbors': array([ 1,  3,  5,  7,  9, 11, 13, 15, 17, 19])},\n",
              "             pre_dispatch='2*n_jobs', refit=True, return_train_score=False,\n",
              "             scoring=None, verbose=0)"
            ]
          },
          "metadata": {
            "tags": []
          },
          "execution_count": 100
        }
      ]
    },
    {
      "cell_type": "code",
      "metadata": {
        "id": "5nialUIRkV9z",
        "colab_type": "code",
        "outputId": "cf41ac5f-fa7b-46d2-b225-e391ba659545",
        "colab": {
          "base_uri": "https://localhost:8080/",
          "height": 52
        }
      },
      "source": [
        "gridsearch.predict(X_test)"
      ],
      "execution_count": 101,
      "outputs": [
        {
          "output_type": "execute_result",
          "data": {
            "text/plain": [
              "array([2, 0, 1, 0, 2, 2, 0, 0, 1, 0, 0, 2, 0, 0, 1, 2, 0, 2, 1, 1, 2, 0,\n",
              "       2, 0, 1, 1, 2, 0, 1, 2, 1])"
            ]
          },
          "metadata": {
            "tags": []
          },
          "execution_count": 101
        }
      ]
    },
    {
      "cell_type": "code",
      "metadata": {
        "id": "BVOLJOmekV91",
        "colab_type": "code",
        "outputId": "bd5cb4de-9304-4253-951d-0ac88f88d106",
        "colab": {
          "base_uri": "https://localhost:8080/",
          "height": 35
        }
      },
      "source": [
        "gridsearch.best_score_"
      ],
      "execution_count": 102,
      "outputs": [
        {
          "output_type": "execute_result",
          "data": {
            "text/plain": [
              "0.9586776859504132"
            ]
          },
          "metadata": {
            "tags": []
          },
          "execution_count": 102
        }
      ]
    },
    {
      "cell_type": "code",
      "metadata": {
        "id": "6vlzHnrjkV92",
        "colab_type": "code",
        "outputId": "94dfae3c-d03a-42d7-8ef5-f3ef0fff36b1",
        "colab": {
          "base_uri": "https://localhost:8080/",
          "height": 549
        }
      },
      "source": [
        "cvresult = pd.DataFrame(gridsearch.cv_results_)\n",
        "cvresult"
      ],
      "execution_count": 103,
      "outputs": [
        {
          "output_type": "execute_result",
          "data": {
            "text/html": [
              "<div>\n",
              "<style scoped>\n",
              "    .dataframe tbody tr th:only-of-type {\n",
              "        vertical-align: middle;\n",
              "    }\n",
              "\n",
              "    .dataframe tbody tr th {\n",
              "        vertical-align: top;\n",
              "    }\n",
              "\n",
              "    .dataframe thead th {\n",
              "        text-align: right;\n",
              "    }\n",
              "</style>\n",
              "<table border=\"1\" class=\"dataframe\">\n",
              "  <thead>\n",
              "    <tr style=\"text-align: right;\">\n",
              "      <th></th>\n",
              "      <th>mean_fit_time</th>\n",
              "      <th>std_fit_time</th>\n",
              "      <th>mean_score_time</th>\n",
              "      <th>std_score_time</th>\n",
              "      <th>param_n_neighbors</th>\n",
              "      <th>params</th>\n",
              "      <th>split0_test_score</th>\n",
              "      <th>split1_test_score</th>\n",
              "      <th>split2_test_score</th>\n",
              "      <th>split3_test_score</th>\n",
              "      <th>split4_test_score</th>\n",
              "      <th>split5_test_score</th>\n",
              "      <th>split6_test_score</th>\n",
              "      <th>split7_test_score</th>\n",
              "      <th>split8_test_score</th>\n",
              "      <th>split9_test_score</th>\n",
              "      <th>mean_test_score</th>\n",
              "      <th>std_test_score</th>\n",
              "      <th>rank_test_score</th>\n",
              "    </tr>\n",
              "  </thead>\n",
              "  <tbody>\n",
              "    <tr>\n",
              "      <th>0</th>\n",
              "      <td>0.002282</td>\n",
              "      <td>0.000430</td>\n",
              "      <td>0.002200</td>\n",
              "      <td>0.000551</td>\n",
              "      <td>1</td>\n",
              "      <td>{'n_neighbors': 1}</td>\n",
              "      <td>1.0</td>\n",
              "      <td>1.000000</td>\n",
              "      <td>0.923077</td>\n",
              "      <td>0.833333</td>\n",
              "      <td>0.916667</td>\n",
              "      <td>0.916667</td>\n",
              "      <td>0.916667</td>\n",
              "      <td>1.0</td>\n",
              "      <td>1.0</td>\n",
              "      <td>0.909091</td>\n",
              "      <td>0.942149</td>\n",
              "      <td>0.053490</td>\n",
              "      <td>9</td>\n",
              "    </tr>\n",
              "    <tr>\n",
              "      <th>1</th>\n",
              "      <td>0.001800</td>\n",
              "      <td>0.000066</td>\n",
              "      <td>0.001720</td>\n",
              "      <td>0.000060</td>\n",
              "      <td>3</td>\n",
              "      <td>{'n_neighbors': 3}</td>\n",
              "      <td>1.0</td>\n",
              "      <td>1.000000</td>\n",
              "      <td>0.923077</td>\n",
              "      <td>0.833333</td>\n",
              "      <td>1.000000</td>\n",
              "      <td>0.916667</td>\n",
              "      <td>1.000000</td>\n",
              "      <td>1.0</td>\n",
              "      <td>1.0</td>\n",
              "      <td>0.909091</td>\n",
              "      <td>0.958678</td>\n",
              "      <td>0.055884</td>\n",
              "      <td>1</td>\n",
              "    </tr>\n",
              "    <tr>\n",
              "      <th>2</th>\n",
              "      <td>0.001820</td>\n",
              "      <td>0.000136</td>\n",
              "      <td>0.001766</td>\n",
              "      <td>0.000108</td>\n",
              "      <td>5</td>\n",
              "      <td>{'n_neighbors': 5}</td>\n",
              "      <td>1.0</td>\n",
              "      <td>0.923077</td>\n",
              "      <td>0.923077</td>\n",
              "      <td>0.833333</td>\n",
              "      <td>1.000000</td>\n",
              "      <td>0.916667</td>\n",
              "      <td>1.000000</td>\n",
              "      <td>1.0</td>\n",
              "      <td>1.0</td>\n",
              "      <td>0.818182</td>\n",
              "      <td>0.942149</td>\n",
              "      <td>0.066132</td>\n",
              "      <td>9</td>\n",
              "    </tr>\n",
              "    <tr>\n",
              "      <th>3</th>\n",
              "      <td>0.001799</td>\n",
              "      <td>0.000088</td>\n",
              "      <td>0.001748</td>\n",
              "      <td>0.000121</td>\n",
              "      <td>7</td>\n",
              "      <td>{'n_neighbors': 7}</td>\n",
              "      <td>1.0</td>\n",
              "      <td>0.923077</td>\n",
              "      <td>1.000000</td>\n",
              "      <td>0.916667</td>\n",
              "      <td>1.000000</td>\n",
              "      <td>0.916667</td>\n",
              "      <td>1.000000</td>\n",
              "      <td>1.0</td>\n",
              "      <td>1.0</td>\n",
              "      <td>0.818182</td>\n",
              "      <td>0.958678</td>\n",
              "      <td>0.057540</td>\n",
              "      <td>1</td>\n",
              "    </tr>\n",
              "    <tr>\n",
              "      <th>4</th>\n",
              "      <td>0.001756</td>\n",
              "      <td>0.000086</td>\n",
              "      <td>0.001721</td>\n",
              "      <td>0.000123</td>\n",
              "      <td>9</td>\n",
              "      <td>{'n_neighbors': 9}</td>\n",
              "      <td>1.0</td>\n",
              "      <td>0.923077</td>\n",
              "      <td>1.000000</td>\n",
              "      <td>0.916667</td>\n",
              "      <td>1.000000</td>\n",
              "      <td>0.916667</td>\n",
              "      <td>1.000000</td>\n",
              "      <td>1.0</td>\n",
              "      <td>1.0</td>\n",
              "      <td>0.818182</td>\n",
              "      <td>0.958678</td>\n",
              "      <td>0.057540</td>\n",
              "      <td>1</td>\n",
              "    </tr>\n",
              "    <tr>\n",
              "      <th>5</th>\n",
              "      <td>0.001757</td>\n",
              "      <td>0.000080</td>\n",
              "      <td>0.001753</td>\n",
              "      <td>0.000151</td>\n",
              "      <td>11</td>\n",
              "      <td>{'n_neighbors': 11}</td>\n",
              "      <td>1.0</td>\n",
              "      <td>0.846154</td>\n",
              "      <td>1.000000</td>\n",
              "      <td>0.916667</td>\n",
              "      <td>1.000000</td>\n",
              "      <td>0.916667</td>\n",
              "      <td>1.000000</td>\n",
              "      <td>1.0</td>\n",
              "      <td>1.0</td>\n",
              "      <td>0.818182</td>\n",
              "      <td>0.950413</td>\n",
              "      <td>0.066834</td>\n",
              "      <td>5</td>\n",
              "    </tr>\n",
              "    <tr>\n",
              "      <th>6</th>\n",
              "      <td>0.001778</td>\n",
              "      <td>0.000074</td>\n",
              "      <td>0.001717</td>\n",
              "      <td>0.000077</td>\n",
              "      <td>13</td>\n",
              "      <td>{'n_neighbors': 13}</td>\n",
              "      <td>1.0</td>\n",
              "      <td>0.923077</td>\n",
              "      <td>1.000000</td>\n",
              "      <td>0.916667</td>\n",
              "      <td>1.000000</td>\n",
              "      <td>0.916667</td>\n",
              "      <td>1.000000</td>\n",
              "      <td>1.0</td>\n",
              "      <td>1.0</td>\n",
              "      <td>0.818182</td>\n",
              "      <td>0.958678</td>\n",
              "      <td>0.057540</td>\n",
              "      <td>1</td>\n",
              "    </tr>\n",
              "    <tr>\n",
              "      <th>7</th>\n",
              "      <td>0.001767</td>\n",
              "      <td>0.000081</td>\n",
              "      <td>0.001681</td>\n",
              "      <td>0.000053</td>\n",
              "      <td>15</td>\n",
              "      <td>{'n_neighbors': 15}</td>\n",
              "      <td>1.0</td>\n",
              "      <td>0.923077</td>\n",
              "      <td>0.923077</td>\n",
              "      <td>0.916667</td>\n",
              "      <td>1.000000</td>\n",
              "      <td>0.916667</td>\n",
              "      <td>1.000000</td>\n",
              "      <td>1.0</td>\n",
              "      <td>1.0</td>\n",
              "      <td>0.818182</td>\n",
              "      <td>0.950413</td>\n",
              "      <td>0.056527</td>\n",
              "      <td>5</td>\n",
              "    </tr>\n",
              "    <tr>\n",
              "      <th>8</th>\n",
              "      <td>0.001732</td>\n",
              "      <td>0.000099</td>\n",
              "      <td>0.001710</td>\n",
              "      <td>0.000117</td>\n",
              "      <td>17</td>\n",
              "      <td>{'n_neighbors': 17}</td>\n",
              "      <td>1.0</td>\n",
              "      <td>0.923077</td>\n",
              "      <td>1.000000</td>\n",
              "      <td>0.833333</td>\n",
              "      <td>1.000000</td>\n",
              "      <td>0.916667</td>\n",
              "      <td>1.000000</td>\n",
              "      <td>1.0</td>\n",
              "      <td>1.0</td>\n",
              "      <td>0.818182</td>\n",
              "      <td>0.950413</td>\n",
              "      <td>0.068012</td>\n",
              "      <td>5</td>\n",
              "    </tr>\n",
              "    <tr>\n",
              "      <th>9</th>\n",
              "      <td>0.001695</td>\n",
              "      <td>0.000056</td>\n",
              "      <td>0.001678</td>\n",
              "      <td>0.000067</td>\n",
              "      <td>19</td>\n",
              "      <td>{'n_neighbors': 19}</td>\n",
              "      <td>1.0</td>\n",
              "      <td>0.923077</td>\n",
              "      <td>0.923077</td>\n",
              "      <td>0.916667</td>\n",
              "      <td>1.000000</td>\n",
              "      <td>0.916667</td>\n",
              "      <td>1.000000</td>\n",
              "      <td>1.0</td>\n",
              "      <td>1.0</td>\n",
              "      <td>0.818182</td>\n",
              "      <td>0.950413</td>\n",
              "      <td>0.056527</td>\n",
              "      <td>5</td>\n",
              "    </tr>\n",
              "  </tbody>\n",
              "</table>\n",
              "</div>"
            ],
            "text/plain": [
              "   mean_fit_time  std_fit_time  ...  std_test_score  rank_test_score\n",
              "0       0.002282      0.000430  ...        0.053490                9\n",
              "1       0.001800      0.000066  ...        0.055884                1\n",
              "2       0.001820      0.000136  ...        0.066132                9\n",
              "3       0.001799      0.000088  ...        0.057540                1\n",
              "4       0.001756      0.000086  ...        0.057540                1\n",
              "5       0.001757      0.000080  ...        0.066834                5\n",
              "6       0.001778      0.000074  ...        0.057540                1\n",
              "7       0.001767      0.000081  ...        0.056527                5\n",
              "8       0.001732      0.000099  ...        0.068012                5\n",
              "9       0.001695      0.000056  ...        0.056527                5\n",
              "\n",
              "[10 rows x 19 columns]"
            ]
          },
          "metadata": {
            "tags": []
          },
          "execution_count": 103
        }
      ]
    },
    {
      "cell_type": "code",
      "metadata": {
        "id": "a8oUD-LCkV94",
        "colab_type": "code",
        "outputId": "90093404-fd3c-4e70-e484-1ae86972ce03",
        "colab": {
          "base_uri": "https://localhost:8080/",
          "height": 355
        }
      },
      "source": [
        "score_result = cvresult[[\"params\",\"mean_test_score\"]]\n",
        "score_result['MSE'] = 1-score_result['mean_test_score']\n",
        "score_result.sort_values('MSE', ascending=True)"
      ],
      "execution_count": 104,
      "outputs": [
        {
          "output_type": "execute_result",
          "data": {
            "text/html": [
              "<div>\n",
              "<style scoped>\n",
              "    .dataframe tbody tr th:only-of-type {\n",
              "        vertical-align: middle;\n",
              "    }\n",
              "\n",
              "    .dataframe tbody tr th {\n",
              "        vertical-align: top;\n",
              "    }\n",
              "\n",
              "    .dataframe thead th {\n",
              "        text-align: right;\n",
              "    }\n",
              "</style>\n",
              "<table border=\"1\" class=\"dataframe\">\n",
              "  <thead>\n",
              "    <tr style=\"text-align: right;\">\n",
              "      <th></th>\n",
              "      <th>params</th>\n",
              "      <th>mean_test_score</th>\n",
              "      <th>MSE</th>\n",
              "    </tr>\n",
              "  </thead>\n",
              "  <tbody>\n",
              "    <tr>\n",
              "      <th>1</th>\n",
              "      <td>{'n_neighbors': 3}</td>\n",
              "      <td>0.958678</td>\n",
              "      <td>0.041322</td>\n",
              "    </tr>\n",
              "    <tr>\n",
              "      <th>3</th>\n",
              "      <td>{'n_neighbors': 7}</td>\n",
              "      <td>0.958678</td>\n",
              "      <td>0.041322</td>\n",
              "    </tr>\n",
              "    <tr>\n",
              "      <th>4</th>\n",
              "      <td>{'n_neighbors': 9}</td>\n",
              "      <td>0.958678</td>\n",
              "      <td>0.041322</td>\n",
              "    </tr>\n",
              "    <tr>\n",
              "      <th>6</th>\n",
              "      <td>{'n_neighbors': 13}</td>\n",
              "      <td>0.958678</td>\n",
              "      <td>0.041322</td>\n",
              "    </tr>\n",
              "    <tr>\n",
              "      <th>5</th>\n",
              "      <td>{'n_neighbors': 11}</td>\n",
              "      <td>0.950413</td>\n",
              "      <td>0.049587</td>\n",
              "    </tr>\n",
              "    <tr>\n",
              "      <th>7</th>\n",
              "      <td>{'n_neighbors': 15}</td>\n",
              "      <td>0.950413</td>\n",
              "      <td>0.049587</td>\n",
              "    </tr>\n",
              "    <tr>\n",
              "      <th>8</th>\n",
              "      <td>{'n_neighbors': 17}</td>\n",
              "      <td>0.950413</td>\n",
              "      <td>0.049587</td>\n",
              "    </tr>\n",
              "    <tr>\n",
              "      <th>9</th>\n",
              "      <td>{'n_neighbors': 19}</td>\n",
              "      <td>0.950413</td>\n",
              "      <td>0.049587</td>\n",
              "    </tr>\n",
              "    <tr>\n",
              "      <th>0</th>\n",
              "      <td>{'n_neighbors': 1}</td>\n",
              "      <td>0.942149</td>\n",
              "      <td>0.057851</td>\n",
              "    </tr>\n",
              "    <tr>\n",
              "      <th>2</th>\n",
              "      <td>{'n_neighbors': 5}</td>\n",
              "      <td>0.942149</td>\n",
              "      <td>0.057851</td>\n",
              "    </tr>\n",
              "  </tbody>\n",
              "</table>\n",
              "</div>"
            ],
            "text/plain": [
              "                params  mean_test_score       MSE\n",
              "1   {'n_neighbors': 3}         0.958678  0.041322\n",
              "3   {'n_neighbors': 7}         0.958678  0.041322\n",
              "4   {'n_neighbors': 9}         0.958678  0.041322\n",
              "6  {'n_neighbors': 13}         0.958678  0.041322\n",
              "5  {'n_neighbors': 11}         0.950413  0.049587\n",
              "7  {'n_neighbors': 15}         0.950413  0.049587\n",
              "8  {'n_neighbors': 17}         0.950413  0.049587\n",
              "9  {'n_neighbors': 19}         0.950413  0.049587\n",
              "0   {'n_neighbors': 1}         0.942149  0.057851\n",
              "2   {'n_neighbors': 5}         0.942149  0.057851"
            ]
          },
          "metadata": {
            "tags": []
          },
          "execution_count": 104
        }
      ]
    },
    {
      "cell_type": "markdown",
      "metadata": {
        "id": "fFgti0ROkV96",
        "colab_type": "text"
      },
      "source": [
        "## Question 10\n",
        "\n",
        "*Plot misclassification error vs k (with k value on X-axis) using matplotlib.*"
      ]
    },
    {
      "cell_type": "code",
      "metadata": {
        "id": "u1Y5W1rrkV97",
        "colab_type": "code",
        "outputId": "0300bdc3-2b2c-47d0-9c3e-0530c2446df0",
        "colab": {
          "base_uri": "https://localhost:8080/",
          "height": 287
        }
      },
      "source": [
        "plt.plot(score_result['MSE'])"
      ],
      "execution_count": 106,
      "outputs": [
        {
          "output_type": "execute_result",
          "data": {
            "text/plain": [
              "[<matplotlib.lines.Line2D at 0x7f99c8ceef98>]"
            ]
          },
          "metadata": {
            "tags": []
          },
          "execution_count": 106
        },
        {
          "output_type": "display_data",
          "data": {
            "image/png": "[encoded data removed]",
            "text/plain": [
              "<Figure size 432x288 with 1 Axes>"
            ]
          },
          "metadata": {
            "tags": []
          }
        }
      ]
    },
    {
      "cell_type": "markdown",
      "metadata": {
        "id": "PMKmjrMykV98",
        "colab_type": "text"
      },
      "source": [
        "# Naive Bayes with Iris Data"
      ]
    },
    {
      "cell_type": "code",
      "metadata": {
        "id": "S_grkffGkV99",
        "colab_type": "code",
        "colab": {}
      },
      "source": [
        "#Load all required library\n",
        "import pandas as pd\n",
        "import numpy as np\n",
        "from matplotlib import pyplot as plt\n",
        "%matplotlib inline\n",
        "from sklearn import datasets\n",
        "from sklearn.decomposition import PCA\n",
        "from sklearn.naive_bayes import GaussianNB, BernoulliNB, MultinomialNB"
      ],
      "execution_count": 0,
      "outputs": []
    },
    {
      "cell_type": "markdown",
      "metadata": {
        "id": "BbDk2bshkV9_",
        "colab_type": "text"
      },
      "source": [
        "### Slice  Iris data set for Independent variables and dependent variables\n",
        "#### Please note 'Species' is my dependent variables, name it y and independent set data as X"
      ]
    },
    {
      "cell_type": "code",
      "metadata": {
        "id": "T4fhYiVukV-A",
        "colab_type": "code",
        "colab": {}
      },
      "source": [
        "Y = Iris_df['Species']\n",
        "X = Iris_df[['SepalLengthCm','SepalWidthCm','PetalLengthCm','PetalWidthCm']]"
      ],
      "execution_count": 0,
      "outputs": []
    },
    {
      "cell_type": "code",
      "metadata": {
        "id": "HBRB_yOEkV-C",
        "colab_type": "code",
        "outputId": "92f6e937-6317-426f-a724-7e4862e91cf8",
        "colab": {
          "base_uri": "https://localhost:8080/",
          "height": 1000
        }
      },
      "source": [
        "#Check the dataset\n",
        "print(Y)\n",
        "print(X)"
      ],
      "execution_count": 109,
      "outputs": [
        {
          "output_type": "stream",
          "text": [
            "0      0\n",
            "1      0\n",
            "2      0\n",
            "3      0\n",
            "4      0\n",
            "5      0\n",
            "6      0\n",
            "7      0\n",
            "8      0\n",
            "9      0\n",
            "10     0\n",
            "11     0\n",
            "12     0\n",
            "13     0\n",
            "14     0\n",
            "15     0\n",
            "16     0\n",
            "17     0\n",
            "18     0\n",
            "19     0\n",
            "20     0\n",
            "21     0\n",
            "22     0\n",
            "23     0\n",
            "24     0\n",
            "25     0\n",
            "26     0\n",
            "27     0\n",
            "28     0\n",
            "29     0\n",
            "      ..\n",
            "122    2\n",
            "123    2\n",
            "124    2\n",
            "125    2\n",
            "126    2\n",
            "127    2\n",
            "128    2\n",
            "129    2\n",
            "130    2\n",
            "131    2\n",
            "132    2\n",
            "133    2\n",
            "134    2\n",
            "135    2\n",
            "136    2\n",
            "137    2\n",
            "138    2\n",
            "139    2\n",
            "140    2\n",
            "141    2\n",
            "142    2\n",
            "143    2\n",
            "144    2\n",
            "145    2\n",
            "146    2\n",
            "147    2\n",
            "148    2\n",
            "149    2\n",
            "150    2\n",
            "151    2\n",
            "Name: Species, Length: 152, dtype: int64\n",
            "     SepalLengthCm  SepalWidthCm  PetalLengthCm  PetalWidthCm\n",
            "0              5.1           3.5           1.40           0.2\n",
            "1              4.9           3.0           1.40           0.2\n",
            "2              4.7           3.2           1.30           0.2\n",
            "3              4.6           3.1           1.50           0.2\n",
            "4              5.0           3.6           1.40           0.2\n",
            "5              5.4           3.9           1.70           0.4\n",
            "6              4.6           3.4           1.40           0.3\n",
            "7              5.0           3.4           1.50           0.2\n",
            "8              4.4           2.9           1.40           0.2\n",
            "9              4.9           3.1           1.50           0.1\n",
            "10             5.4           3.7           1.50           0.2\n",
            "11             4.8           3.4           1.60           0.2\n",
            "12             4.8           3.0           1.40           0.1\n",
            "13             4.3           3.0           1.10           0.1\n",
            "14             5.8           4.0           1.20           0.2\n",
            "15             5.7           4.4           1.50           0.4\n",
            "16             5.4           3.9           1.30           0.4\n",
            "17             5.1           3.5           1.40           0.3\n",
            "18             5.7           3.8           1.70           0.3\n",
            "19             5.1           3.8           1.50           0.3\n",
            "20             5.4           3.4           1.70           0.2\n",
            "21             5.1           3.7           1.50           0.4\n",
            "22             4.6           3.6           1.00           0.2\n",
            "23             5.1           3.3           1.70           0.5\n",
            "24             4.8           3.4           1.90           0.2\n",
            "25             5.0           3.0           1.60           0.2\n",
            "26             5.0           3.4           1.60           0.4\n",
            "27             5.2           3.5           1.50           0.2\n",
            "28             5.2           3.4           1.40           0.2\n",
            "29             4.7           3.2           1.60           0.2\n",
            "..             ...           ...            ...           ...\n",
            "122            7.7           2.8           6.70           2.0\n",
            "123            6.3           2.7           4.90           1.8\n",
            "124            6.7           3.3           5.70           2.1\n",
            "125            7.2           3.2           6.00           1.8\n",
            "126            6.2           2.8           4.80           1.8\n",
            "127            6.1           3.0           4.90           1.8\n",
            "128            6.4           2.8           5.60           2.1\n",
            "129            7.2           3.0           5.80           1.6\n",
            "130            7.4           2.8           6.10           1.9\n",
            "131            7.9           3.8           6.40           2.0\n",
            "132            6.4           2.8           5.60           2.2\n",
            "133            6.3           2.8           5.10           1.5\n",
            "134            6.1           2.6           5.60           1.4\n",
            "135            7.7           3.0           6.10           2.3\n",
            "136            6.3           3.4           5.60           2.4\n",
            "137            6.4           3.1           5.50           1.8\n",
            "138            6.0           3.0           4.80           1.8\n",
            "139            6.9           3.1           5.40           2.1\n",
            "140            6.7           3.1           5.60           2.4\n",
            "141            6.9           3.1           5.10           2.3\n",
            "142            5.8           2.7           5.10           1.9\n",
            "143            6.8           3.2           5.90           2.3\n",
            "144            6.7           3.3           5.70           2.5\n",
            "145            6.7           3.0           5.20           2.3\n",
            "146            6.3           2.5           5.00           1.9\n",
            "147            6.5           3.0           5.20           2.0\n",
            "148            6.2           3.4           5.40           2.3\n",
            "149            5.9           3.0           5.10           1.8\n",
            "150            5.9           3.0           4.35           1.3\n",
            "151            5.8           3.0           4.35           1.8\n",
            "\n",
            "[152 rows x 4 columns]\n"
          ],
          "name": "stdout"
        }
      ]
    },
    {
      "cell_type": "markdown",
      "metadata": {
        "id": "4m6_c5bWkV-H",
        "colab_type": "text"
      },
      "source": [
        "# Question 11 \n",
        "Find the distribution of target variable (Class)\n",
        "\n",
        "And, Plot the distribution of target variable using histogram"
      ]
    },
    {
      "cell_type": "code",
      "metadata": {
        "id": "rVFD4iibkV-I",
        "colab_type": "code",
        "outputId": "edc1aa8e-b6f3-4c65-c7d6-e6b65e6c362a",
        "colab": {
          "base_uri": "https://localhost:8080/",
          "height": 301
        }
      },
      "source": [
        "sns.distplot(Y)"
      ],
      "execution_count": 113,
      "outputs": [
        {
          "output_type": "execute_result",
          "data": {
            "text/plain": [
              "<matplotlib.axes._subplots.AxesSubplot at 0x7f99c69bf588>"
            ]
          },
          "metadata": {
            "tags": []
          },
          "execution_count": 113
        },
        {
          "output_type": "display_data",
          "data": {
            "image/png": "[encoded data removed]",
            "text/plain": [
              "<Figure size 432x288 with 1 Axes>"
            ]
          },
          "metadata": {
            "tags": []
          }
        }
      ]
    },
    {
      "cell_type": "code",
      "metadata": {
        "id": "OVKrh-zTkV-K",
        "colab_type": "code",
        "colab": {}
      },
      "source": [
        ""
      ],
      "execution_count": 0,
      "outputs": []
    },
    {
      "cell_type": "code",
      "metadata": {
        "id": "geYJ5wRlkV-M",
        "colab_type": "code",
        "colab": {}
      },
      "source": [
        "#Drop Id variable from data"
      ],
      "execution_count": 0,
      "outputs": []
    },
    {
      "cell_type": "markdown",
      "metadata": {
        "id": "RKK-zuf-kV-P",
        "colab_type": "text"
      },
      "source": [
        "### Question 12 \n",
        "Find Correlation among all variables and give your insights "
      ]
    },
    {
      "cell_type": "code",
      "metadata": {
        "id": "1aNuW4S2kV-P",
        "colab_type": "code",
        "colab": {}
      },
      "source": [
        "#Please note, it's Require to remove correlated features because they are voted twice in the model and \n",
        "## it can lead to over inflating importance.We will ignore it here"
      ],
      "execution_count": 0,
      "outputs": []
    },
    {
      "cell_type": "code",
      "metadata": {
        "id": "q5nZytqjkV-R",
        "colab_type": "code",
        "colab": {}
      },
      "source": [
        ""
      ],
      "execution_count": 0,
      "outputs": []
    },
    {
      "cell_type": "markdown",
      "metadata": {
        "id": "SkumDXH7kV-V",
        "colab_type": "text"
      },
      "source": [
        "### Split data in Training and test set in 80:20."
      ]
    },
    {
      "cell_type": "code",
      "metadata": {
        "id": "myvTKca4kV-V",
        "colab_type": "code",
        "colab": {}
      },
      "source": [
        "# Create the training and test data set in the ratio of 80:20 respectively. Can be any other ratio...\n",
        "\n",
        "test_size = 0.20 # taking 80:20 training and test set\n",
        "seed = 7  # Random numbmer seeding for reapeatability of the code\n",
        "\n",
        "X_train, X_test, Y_train, Y_test = train_test_split(X, Y, test_size=test_size, random_state=seed)"
      ],
      "execution_count": 0,
      "outputs": []
    },
    {
      "cell_type": "markdown",
      "metadata": {
        "id": "-dU6ZlJwkV-W",
        "colab_type": "text"
      },
      "source": [
        "### Question 13 \n",
        "Do Feature Scaling "
      ]
    },
    {
      "cell_type": "code",
      "metadata": {
        "id": "sIaBFxMVkV-X",
        "colab_type": "code",
        "colab": {}
      },
      "source": [
        "# Use StandardScaler or similar methods"
      ],
      "execution_count": 0,
      "outputs": []
    },
    {
      "cell_type": "code",
      "metadata": {
        "id": "6MkDCca9kV-Z",
        "colab_type": "code",
        "colab": {}
      },
      "source": [
        "from sklearn.preprocessing import StandardScaler"
      ],
      "execution_count": 0,
      "outputs": []
    },
    {
      "cell_type": "code",
      "metadata": {
        "id": "8StC8-hKx2lP",
        "colab_type": "code",
        "colab": {}
      },
      "source": [
        "scaler = StandardScaler()\n",
        "X_train_scalar = scaler.fit_transform(X_train)\n",
        "X_test_scalar = scaler.fit_transform(X_test)"
      ],
      "execution_count": 0,
      "outputs": []
    },
    {
      "cell_type": "markdown",
      "metadata": {
        "id": "Tzwrn6aLkV-b",
        "colab_type": "text"
      },
      "source": [
        "### Question 14 \n",
        "Train and Fit NaiveBayes Model"
      ]
    },
    {
      "cell_type": "code",
      "metadata": {
        "id": "zqvrKkGvkV-c",
        "colab_type": "code",
        "colab": {
          "base_uri": "https://localhost:8080/",
          "height": 35
        },
        "outputId": "b43905b8-5e46-40e7-9b17-797862169dd8"
      },
      "source": [
        "model = GaussianNB()\n",
        "model.fit(X_train_scalar, Y_train)"
      ],
      "execution_count": 125,
      "outputs": [
        {
          "output_type": "execute_result",
          "data": {
            "text/plain": [
              "GaussianNB(priors=None, var_smoothing=1e-09)"
            ]
          },
          "metadata": {
            "tags": []
          },
          "execution_count": 125
        }
      ]
    },
    {
      "cell_type": "code",
      "metadata": {
        "id": "jbjt0UDxzHYv",
        "colab_type": "code",
        "colab": {}
      },
      "source": [
        "from sklearn.metrics import classification_report\n",
        "from sklearn.metrics import  confusion_matrix"
      ],
      "execution_count": 0,
      "outputs": []
    },
    {
      "cell_type": "code",
      "metadata": {
        "id": "HuC1fQP4z6aE",
        "colab_type": "code",
        "colab": {}
      },
      "source": [
        "# make predictions\n",
        "expected = Y_test\n",
        "predicted = model.predict(X_test_scalar)"
      ],
      "execution_count": 0,
      "outputs": []
    },
    {
      "cell_type": "code",
      "metadata": {
        "id": "RzYUkYpdkV-e",
        "colab_type": "code",
        "outputId": "232e61e6-f9db-45d0-dc5c-bde4144dab0f",
        "colab": {
          "base_uri": "https://localhost:8080/",
          "height": 243
        }
      },
      "source": [
        "\n",
        "print(classification_report(expected, predicted))\n",
        "print(confusion_matrix(expected, predicted))"
      ],
      "execution_count": 137,
      "outputs": [
        {
          "output_type": "stream",
          "text": [
            "              precision    recall  f1-score   support\n",
            "\n",
            "           0       1.00      1.00      1.00         8\n",
            "           1       0.77      1.00      0.87        10\n",
            "           2       1.00      0.77      0.87        13\n",
            "\n",
            "    accuracy                           0.90        31\n",
            "   macro avg       0.92      0.92      0.91        31\n",
            "weighted avg       0.93      0.90      0.90        31\n",
            "\n",
            "[[ 8  0  0]\n",
            " [ 0 10  0]\n",
            " [ 0  3 10]]\n"
          ],
          "name": "stdout"
        }
      ]
    },
    {
      "cell_type": "markdown",
      "metadata": {
        "id": "KU8S6-VkkV-g",
        "colab_type": "text"
      },
      "source": [
        "### Question 15 \n",
        "Print Accuracy and Confusion Matrix and Conclude your findings"
      ]
    },
    {
      "cell_type": "code",
      "metadata": {
        "id": "pjlhH-NRkV-g",
        "colab_type": "code",
        "colab": {}
      },
      "source": [
        "# show Confusion Matrix"
      ],
      "execution_count": 0,
      "outputs": []
    },
    {
      "cell_type": "code",
      "metadata": {
        "id": "lo3BIZGEkV-i",
        "colab_type": "code",
        "colab": {}
      },
      "source": [
        "# show accuracy"
      ],
      "execution_count": 0,
      "outputs": []
    },
    {
      "cell_type": "code",
      "metadata": {
        "id": "S2lwrObZkV-k",
        "colab_type": "code",
        "colab": {}
      },
      "source": [
        "#Show precision and Recall metrics"
      ],
      "execution_count": 0,
      "outputs": []
    },
    {
      "cell_type": "code",
      "metadata": {
        "id": "yiSS4C9KkV-l",
        "colab_type": "code",
        "colab": {
          "base_uri": "https://localhost:8080/",
          "height": 243
        },
        "outputId": "ff5fac1e-2cc9-4fc2-8579-9ee2757c4ee2"
      },
      "source": [
        "\n",
        "print(classification_report(expected, predicted))\n",
        "print(confusion_matrix(expected, predicted))"
      ],
      "execution_count": 138,
      "outputs": [
        {
          "output_type": "stream",
          "text": [
            "              precision    recall  f1-score   support\n",
            "\n",
            "           0       1.00      1.00      1.00         8\n",
            "           1       0.77      1.00      0.87        10\n",
            "           2       1.00      0.77      0.87        13\n",
            "\n",
            "    accuracy                           0.90        31\n",
            "   macro avg       0.92      0.92      0.91        31\n",
            "weighted avg       0.93      0.90      0.90        31\n",
            "\n",
            "[[ 8  0  0]\n",
            " [ 0 10  0]\n",
            " [ 0  3 10]]\n"
          ],
          "name": "stdout"
        }
      ]
    },
    {
      "cell_type": "markdown",
      "metadata": {
        "id": "e7BckFlykV-m",
        "colab_type": "text"
      },
      "source": [
        "# For Practice  - Optional\n",
        "\n",
        "All the questions from 16 to 20 are for practice."
      ]
    },
    {
      "cell_type": "markdown",
      "metadata": {
        "id": "_H499br8kV-n",
        "colab_type": "text"
      },
      "source": [
        "# Using SVM with Diebetes Dataset"
      ]
    },
    {
      "cell_type": "code",
      "metadata": {
        "id": "vzy4VAaYkV-o",
        "colab_type": "code",
        "colab": {}
      },
      "source": [
        "#Import library\n",
        "import pandas as pd\n",
        "import numpy as np\n",
        "import matplotlib.pyplot as plt\n",
        "%matplotlib inline"
      ],
      "execution_count": 0,
      "outputs": []
    },
    {
      "cell_type": "markdown",
      "metadata": {
        "id": "TxYFUZS0kV-p",
        "colab_type": "text"
      },
      "source": [
        "# Question 16 \n",
        "Read the input file 'Diabetes.csv' using Pandas and check it's column names.\n",
        "\n",
        "Check dimension of dataset.\n",
        "\n",
        "Check distribution of dependent variable, Outcome and plot it.\n"
      ]
    },
    {
      "cell_type": "code",
      "metadata": {
        "id": "ph1ZOq53kV-q",
        "colab_type": "code",
        "colab": {}
      },
      "source": [
        ""
      ],
      "execution_count": 0,
      "outputs": []
    },
    {
      "cell_type": "code",
      "metadata": {
        "id": "VEcDSPpTkV-r",
        "colab_type": "code",
        "colab": {}
      },
      "source": [
        "# Eye ball the imported dataset"
      ],
      "execution_count": 0,
      "outputs": []
    },
    {
      "cell_type": "code",
      "metadata": {
        "id": "VQXBHDBwkV-s",
        "colab_type": "code",
        "colab": {}
      },
      "source": [
        ""
      ],
      "execution_count": 0,
      "outputs": []
    },
    {
      "cell_type": "code",
      "metadata": {
        "id": "0et87qPukV-t",
        "colab_type": "code",
        "colab": {}
      },
      "source": [
        ""
      ],
      "execution_count": 0,
      "outputs": []
    },
    {
      "cell_type": "markdown",
      "metadata": {
        "id": "em6sMvPokV-u",
        "colab_type": "text"
      },
      "source": [
        "### Out of  768 data points, 500 are labeled as 0 and 268 as 1.\n",
        "### Outcome 0 means No diabetes, outcome 1 means diabetes"
      ]
    },
    {
      "cell_type": "code",
      "metadata": {
        "id": "WDOEFAenkV-u",
        "colab_type": "code",
        "colab": {}
      },
      "source": [
        ""
      ],
      "execution_count": 0,
      "outputs": []
    },
    {
      "cell_type": "code",
      "metadata": {
        "id": "YK3ZFGORkV-x",
        "colab_type": "code",
        "colab": {}
      },
      "source": [
        "# Check data types and info of dataset"
      ],
      "execution_count": 0,
      "outputs": []
    },
    {
      "cell_type": "markdown",
      "metadata": {
        "id": "9WmPcAa5kV-y",
        "colab_type": "text"
      },
      "source": [
        "# Question 17 \n",
        "Check data distribution using summary statistics and provide your findings.\n",
        "\n",
        "Do correlation analysis and bivariate viualization with Insights\n"
      ]
    },
    {
      "cell_type": "code",
      "metadata": {
        "id": "pcJsqmNqkV-z",
        "colab_type": "code",
        "colab": {}
      },
      "source": [
        ""
      ],
      "execution_count": 0,
      "outputs": []
    },
    {
      "cell_type": "code",
      "metadata": {
        "id": "n9F-A5VMkV-0",
        "colab_type": "code",
        "colab": {}
      },
      "source": [
        ""
      ],
      "execution_count": 0,
      "outputs": []
    },
    {
      "cell_type": "code",
      "metadata": {
        "id": "X2A8z0zekV-1",
        "colab_type": "code",
        "colab": {}
      },
      "source": [
        ""
      ],
      "execution_count": 0,
      "outputs": []
    },
    {
      "cell_type": "markdown",
      "metadata": {
        "id": "n25TBMh-kV-3",
        "colab_type": "text"
      },
      "source": [
        "# Question 18 \n",
        "Do train and test split. \n",
        "Optionally - You can do with stratify sampling(optional) on Outcome variable to maintain the distribution of dependent variable"
      ]
    },
    {
      "cell_type": "code",
      "metadata": {
        "id": "scQ4CiIGkV-4",
        "colab_type": "code",
        "colab": {}
      },
      "source": [
        ""
      ],
      "execution_count": 0,
      "outputs": []
    },
    {
      "cell_type": "code",
      "metadata": {
        "id": "cIEnNXJdkV-5",
        "colab_type": "code",
        "colab": {}
      },
      "source": [
        ""
      ],
      "execution_count": 0,
      "outputs": []
    },
    {
      "cell_type": "markdown",
      "metadata": {
        "id": "rLa_XKsOkV-9",
        "colab_type": "text"
      },
      "source": [
        "# Question 19 \n",
        "Train Support Vector Machine Model(1 Marks)"
      ]
    },
    {
      "cell_type": "code",
      "metadata": {
        "id": "gJbnRXHYkV-9",
        "colab_type": "code",
        "colab": {}
      },
      "source": [
        "# use from sklearn.svm import SVC"
      ],
      "execution_count": 0,
      "outputs": []
    },
    {
      "cell_type": "code",
      "metadata": {
        "id": "Z276Dix8kV--",
        "colab_type": "code",
        "colab": {}
      },
      "source": [
        "# your insights"
      ],
      "execution_count": 0,
      "outputs": []
    },
    {
      "cell_type": "markdown",
      "metadata": {
        "id": "M-7o7ZCgkV_A",
        "colab_type": "text"
      },
      "source": [
        "# Question 20\n",
        "Scale the data points using MinMaxScaler\n",
        "\n",
        "Fit SVM Model on Scale data and give your observation"
      ]
    },
    {
      "cell_type": "code",
      "metadata": {
        "id": "xyfTagrakV_A",
        "colab_type": "code",
        "colab": {}
      },
      "source": [
        ""
      ],
      "execution_count": 0,
      "outputs": []
    },
    {
      "cell_type": "code",
      "metadata": {
        "id": "q_PaKq9hkV_B",
        "colab_type": "code",
        "colab": {}
      },
      "source": [
        ""
      ],
      "execution_count": 0,
      "outputs": []
    },
    {
      "cell_type": "markdown",
      "metadata": {
        "id": "uSbqE8EakV_C",
        "colab_type": "text"
      },
      "source": [
        "#we can try increasing either C or gamma to fit a more complex model."
      ]
    },
    {
      "cell_type": "markdown",
      "metadata": {
        "id": "T6btsLKBkV_C",
        "colab_type": "text"
      },
      "source": [
        "# Optional Question - \n",
        "Try improving the model accuracy using C=1000 (1 Marks)"
      ]
    },
    {
      "cell_type": "code",
      "metadata": {
        "id": "90celVGgkV_D",
        "colab_type": "code",
        "colab": {}
      },
      "source": [
        ""
      ],
      "execution_count": 0,
      "outputs": []
    },
    {
      "cell_type": "markdown",
      "metadata": {
        "id": "JOltDHrCkV_E",
        "colab_type": "text"
      },
      "source": [
        "### Here, increasing C allows us to improve the model, resulting in ??? accuracy.\n",
        "### Let's try to explore different Kernel and C (Bonus for practice)"
      ]
    },
    {
      "cell_type": "code",
      "metadata": {
        "id": "BBLdLdcRkV_E",
        "colab_type": "code",
        "colab": {}
      },
      "source": [
        "import multiprocessing \n",
        "from sklearn.model_selection import GridSearchCV"
      ],
      "execution_count": 0,
      "outputs": []
    },
    {
      "cell_type": "code",
      "metadata": {
        "id": "lMbn69dfkV_F",
        "colab_type": "code",
        "colab": {}
      },
      "source": [
        " param_grid = [    {        \n",
        "     'kernel': ['linear', 'rbf', 'poly', 'sigmoid'],        \n",
        "     'C': [ 0.1, 0.2, 0.4, 0.5, 1.0, 1.5, 1.8, 2.0, 2.5, 3.0 ]    } ]"
      ],
      "execution_count": 0,
      "outputs": []
    },
    {
      "cell_type": "code",
      "metadata": {
        "id": "YhGc0NFbkV_H",
        "colab_type": "code",
        "colab": {}
      },
      "source": [
        "gs = GridSearchCV(estimator=SVC(), param_grid=param_grid,scoring='accuracy', cv=10, n_jobs=multiprocessing.cpu_count())"
      ],
      "execution_count": 0,
      "outputs": []
    },
    {
      "cell_type": "code",
      "metadata": {
        "id": "RSHuXxu8kV_J",
        "colab_type": "code",
        "colab": {}
      },
      "source": [
        "gs.fit(X_train_scaled, y_train) "
      ],
      "execution_count": 0,
      "outputs": []
    },
    {
      "cell_type": "code",
      "metadata": {
        "id": "NVvVUL1VkV_K",
        "colab_type": "code",
        "colab": {}
      },
      "source": [
        "gs.best_estimator_"
      ],
      "execution_count": 0,
      "outputs": []
    },
    {
      "cell_type": "code",
      "metadata": {
        "id": "4pJinoigkV_L",
        "colab_type": "code",
        "colab": {}
      },
      "source": [
        "gs.best_score_ "
      ],
      "execution_count": 0,
      "outputs": []
    }
  ]
}