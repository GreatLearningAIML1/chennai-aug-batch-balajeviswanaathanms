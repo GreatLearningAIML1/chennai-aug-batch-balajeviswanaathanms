{
  "nbformat": 4,
  "nbformat_minor": 0,
  "metadata": {
    "colab": {
      "name": "R10_ExternalLab.ipynb",
      "version": "0.3.2",
      "provenance": [],
      "collapsed_sections": []
    },
    "language_info": {
      "codemirror_mode": {
        "name": "ipython",
        "version": 3
      },
      "file_extension": ".py",
      "mimetype": "text/x-python",
      "name": "python",
      "nbconvert_exporter": "python",
      "pygments_lexer": "ipython3",
      "version": "3.6.8"
    },
    "kernelspec": {
      "name": "python3",
      "display_name": "Python 3"
    },
    "accelerator": "GPU"
  },
  "cells": [
    {
      "cell_type": "markdown",
      "metadata": {
        "_cell_guid": "608e43e3-8699-4299-9d18-9e9a6a3dd9bf",
        "_uuid": "434ffd54c774edd4e8b851ab0a4b6675425e46da",
        "id": "GTuVxC6oBHnd",
        "colab_type": "text"
      },
      "source": [
        "# Siamese Neural Networks\n",
        "Recognize images of icebergs from images of ships. \n",
        "These images were taken from space with a Sentinel-4 satellite. The goal was to create the most accurate neural network to differentiate them. However, neural networks usually only work well with A LOT of data, and I constrained you guys to 1000 examples to train on. That seems like a lot, but a CONVENTIONAL neural network needs more data. However, we are going to make a special kind of neural network: *Siamese Network*. This special network is used for face recognition and few-shot learning(learning from few examples). Let's get started by importing the usual liraries:"
      ]
    },
    {
      "cell_type": "code",
      "metadata": {
        "_cell_guid": "b1076dfc-b9ad-4769-8c92-a6c4dae69d19",
        "_uuid": "8f2839f25d086af736a60e9eeb907d3b93b6e0e5",
        "id": "mouSZWb-BHne",
        "colab_type": "code",
        "colab": {
          "base_uri": "https://localhost:8080/",
          "height": 33
        },
        "outputId": "28b2e269-749f-4da6-e02b-c2605af6773d"
      },
      "source": [
        "import keras\n",
        "\n",
        "from keras.layers import Input, Conv2D, Lambda, merge, Dense, Flatten,MaxPooling2D,Activation, Dropout\n",
        "from keras.models import Model, Sequential\n",
        "from keras.regularizers import l2\n",
        "from keras import backend as K\n",
        "from keras.optimizers import Adam\n",
        "from skimage.io import imshow\n",
        "import matplotlib.pyplot as plt\n",
        "import numpy as np\n",
        "import pandas as pd\n",
        "import random"
      ],
      "execution_count": 1,
      "outputs": [
        {
          "output_type": "stream",
          "text": [
            "Using TensorFlow backend.\n"
          ],
          "name": "stderr"
        }
      ]
    },
    {
      "cell_type": "markdown",
      "metadata": {
        "_cell_guid": "adbffb0a-1784-4595-b3f2-2ea930abc31f",
        "_uuid": "b9200b733a896e4b6f261122fe9134c00955cc91",
        "id": "KZ1hxeF4BHni",
        "colab_type": "text"
      },
      "source": [
        "## Load the Data\n"
      ]
    },
    {
      "cell_type": "code",
      "metadata": {
        "id": "XR0ZJqWuB4sj",
        "colab_type": "code",
        "colab": {
          "base_uri": "https://localhost:8080/",
          "height": 120
        },
        "outputId": "efc240c0-2ee3-49cc-8867-350c7a6a3115"
      },
      "source": [
        "from google.colab import drive\n",
        "drive.mount ('/content/drive')"
      ],
      "execution_count": 2,
      "outputs": [
        {
          "output_type": "stream",
          "text": [
            "Go to this URL in a browser: https://accounts.google.com/o/oauth2/auth?client_id=947318989803-6bn6qk8qdgf4n4g3pfee6491hc0brc4i.apps.googleusercontent.com&redirect_uri=urn%3Aietf%3Awg%3Aoauth%3A2.0%3Aoob&scope=email%20https%3A%2F%2Fwww.googleapis.com%2Fauth%2Fdocs.test%20https%3A%2F%2Fwww.googleapis.com%2Fauth%2Fdrive%20https%3A%2F%2Fwww.googleapis.com%2Fauth%2Fdrive.photos.readonly%20https%3A%2F%2Fwww.googleapis.com%2Fauth%2Fpeopleapi.readonly&response_type=code\n",
            "\n",
            "Enter your authorization code:\n",
            "··········\n",
            "Mounted at /content/drive\n"
          ],
          "name": "stdout"
        }
      ]
    },
    {
      "cell_type": "code",
      "metadata": {
        "id": "EzAM5Q02Bsbb",
        "colab_type": "code",
        "colab": {}
      },
      "source": [
        "project_path = \"/content/drive/My Drive/AIML/Residency 10 (18-19 May 2019)/R10_Lab_e/\""
      ],
      "execution_count": 0,
      "outputs": []
    },
    {
      "cell_type": "code",
      "metadata": {
        "id": "33pNfVJpDHvq",
        "colab_type": "code",
        "colab": {}
      },
      "source": [
        "import os\n",
        "os.chdir(project_path)"
      ],
      "execution_count": 0,
      "outputs": []
    },
    {
      "cell_type": "code",
      "metadata": {
        "id": "f0C2i7AmEHWa",
        "colab_type": "code",
        "colab": {
          "base_uri": "https://localhost:8080/",
          "height": 33
        },
        "outputId": "8f818bb1-c6c8-471d-e7e2-3c3d9593b925"
      },
      "source": [
        "!pwd"
      ],
      "execution_count": 5,
      "outputs": [
        {
          "output_type": "stream",
          "text": [
            "/content/drive/My Drive/AIML/Residency 10 (18-19 May 2019)/R10_Lab_e\n"
          ],
          "name": "stdout"
        }
      ]
    },
    {
      "cell_type": "code",
      "metadata": {
        "_cell_guid": "79c7e3d0-c299-4dcb-8224-4455121ee9b0",
        "_uuid": "d629ff2d2480ee46fbb7e2d37f6b5fab8052498a",
        "id": "uJUgcdAmBHni",
        "colab_type": "code",
        "colab": {
          "base_uri": "https://localhost:8080/",
          "height": 33
        },
        "outputId": "ba63110c-d1da-494b-cd45-1323ba55e9f7"
      },
      "source": [
        "npz = np.load('/content/drive/My Drive/AIML/Residency 10 (18-19 May 2019)/R10_Lab_e/input_data.npz')\n",
        "X_train = npz['X_train']\n",
        "Y_train = npz['Y_train']\n",
        "del npz\n",
        "print ('We have {} examples to work with'.format(Y_train.shape[0]-1000))"
      ],
      "execution_count": 7,
      "outputs": [
        {
          "output_type": "stream",
          "text": [
            "We have 3113 examples to work with\n"
          ],
          "name": "stdout"
        }
      ]
    },
    {
      "cell_type": "markdown",
      "metadata": {
        "_cell_guid": "ed28bc84-1a8a-472f-98ae-9553fe6d1097",
        "_uuid": "b2e2306b8b16ae7f4f9b63249d1f2ff6e29559d3",
        "id": "puMTVCYoBHnm",
        "colab_type": "text"
      },
      "source": [
        "## Check the data\n",
        "\n",
        "Load some of the images to observe how your data look like."
      ]
    },
    {
      "cell_type": "code",
      "metadata": {
        "id": "Qaz0lCjPBHnn",
        "colab_type": "code",
        "colab": {
          "base_uri": "https://localhost:8080/",
          "height": 5152
        },
        "outputId": "17be33b7-a997-4555-e0d0-6b5491f0c015"
      },
      "source": [
        "X_train"
      ],
      "execution_count": 8,
      "outputs": [
        {
          "output_type": "execute_result",
          "data": {
            "text/plain": [
              "array([[[[ 0.00086008,  0.09222397,  0.04788272],\n",
              "         [ 0.01991889,  0.01245591,  0.01938728],\n",
              "         [-0.01993704, -0.03749469, -0.03224692],\n",
              "         ...,\n",
              "         [ 0.0615176 ,  0.02726596,  0.05412738],\n",
              "         [ 0.0374325 ,  0.01235585,  0.03076259],\n",
              "         [-0.0683182 ,  0.080256  , -0.00339319]],\n",
              "\n",
              "        [[-0.01993481, -0.03749195, -0.03224405],\n",
              "         [ 0.00085903, -0.12110983, -0.06158288],\n",
              "         [ 0.01058646, -0.05625321, -0.02195733],\n",
              "         ...,\n",
              "         [ 0.03743361, -0.14649886, -0.05074752],\n",
              "         [-0.0200146 ,  0.05496702,  0.01514603],\n",
              "         [-0.09692882,  0.11449031, -0.00449387]],\n",
              "\n",
              "        [[-0.01993481, -0.12110829, -0.0751489 ],\n",
              "         [ 0.01991889, -0.23896057, -0.10961844],\n",
              "         [ 0.05384463, -0.05625321,  0.00626621],\n",
              "         ...,\n",
              "         [ 0.01984136, -0.05635055, -0.01596897],\n",
              "         [ 0.00078029, -0.07640512, -0.03869556],\n",
              "         [-0.12963977,  0.01235445, -0.07824343]],\n",
              "\n",
              "        ...,\n",
              "\n",
              "        [[-0.03110309,  0.06796893,  0.01458289],\n",
              "         [-0.01995147,  0.06796752,  0.02185798],\n",
              "         [-0.06825501, -0.00328016, -0.04621568],\n",
              "         ...,\n",
              "         [-0.05526475,  0.15462899,  0.0432854 ],\n",
              "         [ 0.05375263,  0.08023907,  0.0762425 ],\n",
              "         [ 0.03741695,  0.04142598,  0.04566878]],\n",
              "\n",
              "        [[-0.09686345,  0.01243754, -0.05681609],\n",
              "         [ 0.00084348,  0.0124362 ,  0.00693153],\n",
              "         [-0.01995257,  0.02734349,  0.00101244],\n",
              "         ...,\n",
              "         [ 0.01049445,  0.04142736,  0.02810407],\n",
              "         [ 0.02878999,  0.05494724,  0.04697815],\n",
              "         [ 0.01049219, -0.1212311 , -0.05536   ]],\n",
              "\n",
              "        [[-0.03110309, -0.00327735, -0.02197469],\n",
              "         [ 0.02886876,  0.04152604,  0.04014291],\n",
              "         [ 0.01990229,  0.08033634,  0.05420696],\n",
              "         ...,\n",
              "         [ 0.0287911 , -0.01999084,  0.00852697],\n",
              "         [ 0.00076476,  0.04142598,  0.02175529],\n",
              "         [-0.00939739,  0.0272434 ,  0.00784774]]],\n",
              "\n",
              "\n",
              "       [[[ 0.03709629, -0.17659395, -0.07391041],\n",
              "         [-0.03792475, -0.07542248, -0.06097907],\n",
              "         [-0.03792638, -0.03695995, -0.04046241],\n",
              "         ...,\n",
              "         [ 0.08217097, -0.01167848,  0.03871916],\n",
              "         [ 0.04511745,  0.02563155,  0.038353  ],\n",
              "         [-0.02276106, -0.00375976, -0.01445631]],\n",
              "\n",
              "        [[ 0.01456555, -0.00363738,  0.00602728],\n",
              "         [-0.01432349,  0.01148824, -0.00170688],\n",
              "         [ 0.02347653, -0.02820382, -0.00220304],\n",
              "         ...,\n",
              "         [ 0.06508805, -0.08615952, -0.01035685],\n",
              "         [ 0.04987328, -0.07554161, -0.01301555],\n",
              "         [-0.02276106, -0.01168187, -0.01868231]],\n",
              "\n",
              "        [[-0.04710818,  0.0187213 , -0.01578226],\n",
              "         [-0.01432514, -0.08604383, -0.05373555],\n",
              "         [ 0.02695112, -0.01974625,  0.00420925],\n",
              "         ...,\n",
              "         [-0.05921182, -0.00375639, -0.03439372],\n",
              "         [ 0.00139243, -0.03707731, -0.01901693],\n",
              "         [-0.02488627, -0.14732677, -0.0922036 ]],\n",
              "\n",
              "        ...,\n",
              "\n",
              "        [[-0.05667465, -0.07544601, -0.07124814],\n",
              "         [-0.09337622, -0.03698345, -0.07080698],\n",
              "         [-0.11097573, -0.01976969, -0.07125166],\n",
              "         ...,\n",
              "         [ 0.04985034, -0.05559256, -0.00238643],\n",
              "         [ 0.07517203, -0.10888608, -0.01696405],\n",
              "         [ 0.03529134, -0.05559595, -0.01035227]],\n",
              "\n",
              "        [[-0.03348433, -0.12094122, -0.08283171],\n",
              "         [-0.05425671, -0.06526327, -0.06449358],\n",
              "         [-0.04948698,  0.01145974, -0.02095713],\n",
              "         ...,\n",
              "         [ 0.10571301,  0.025608  ,  0.07148726],\n",
              "         [ 0.15420031,  0.03909738,  0.10520648],\n",
              "         [ 0.10320114, -0.01170707,  0.05020778]],\n",
              "\n",
              "        [[ 0.0108802 , -0.09715909, -0.04587714],\n",
              "         [-0.05425671,  0.01146144, -0.02356535],\n",
              "         [-0.02267107, -0.02823065, -0.02746091],\n",
              "         ...,\n",
              "         [ 0.06944796, -0.04617547,  0.01335729],\n",
              "         [ 0.14903383,  0.00389494,  0.08360185],\n",
              "         [ 0.13726444,  0.0038933 ,  0.07716291]]],\n",
              "\n",
              "\n",
              "       [[[-0.06603318, -0.00167907, -0.04694175],\n",
              "         [-0.06603479,  0.04029507, -0.02383518],\n",
              "         [-0.07742312,  0.22573864,  0.07031932],\n",
              "         ...,\n",
              "         [ 0.0876108 ,  0.05334845,  0.09042397],\n",
              "         [ 0.02309122, -0.04793689, -0.01029845],\n",
              "         [ 0.00503515,  0.02657017,  0.01813638]],\n",
              "\n",
              "        [[ 0.16130805, -0.01655077,  0.10330124],\n",
              "         [ 0.04873554,  0.11441045,  0.09694846],\n",
              "         [ 0.0726159 ,  0.22573864,  0.17487893],\n",
              "         ...,\n",
              "         [ 0.09493854,  0.06618277,  0.10259612],\n",
              "         [-0.02381229,  0.07867253,  0.02671661],\n",
              "         [ 0.00503515, -0.00182765,  0.00250275]],\n",
              "\n",
              "        [[ 0.12299366, -0.04779031,  0.05940253],\n",
              "         [ 0.05686864,  0.04029507,  0.06181411],\n",
              "         [ 0.13620768,  0.01273105,  0.10192952],\n",
              "         ...,\n",
              "         [ 0.07250492,  0.11426797,  0.1134345 ],\n",
              "         [ 0.09493701,  0.13657592,  0.14134806],\n",
              "         [ 0.00503515, -0.00182765,  0.00250275]],\n",
              "\n",
              "        ...,\n",
              "\n",
              "        [[-0.00423868,  0.04026864,  0.01921493],\n",
              "         [-0.10132602, -0.13646568, -0.14573976],\n",
              "         [-0.10132764, -0.17722556, -0.16818011],\n",
              "         ...,\n",
              "         [ 0.02307179,  0.16814222,  0.10864438],\n",
              "         [-0.02383325,  0.13654933,  0.05856447],\n",
              "         [-0.16890689,  0.06615208, -0.08129011]],\n",
              "\n",
              "        [[-0.1687911 , -0.0478189 , -0.14395298],\n",
              "         [-0.12685634, -0.04782095, -0.1147305 ],\n",
              "         [-0.08919402,  0.01270247, -0.05516479],\n",
              "         ...,\n",
              "         [ 0.04028458,  0.10267293,  0.08459737],\n",
              "         [ 0.04859879,  0.01255999,  0.04078221],\n",
              "         [-0.25148096, -0.00185612, -0.17627459]],\n",
              "\n",
              "        [[ 0.04039876, -0.00170749,  0.02721319],\n",
              "         [ 0.02318277,  0.12566972,  0.08533966],\n",
              "         [-0.05501204,  0.22571022,  0.08592156],\n",
              "         ...,\n",
              "         [ 0.04860041,  0.04012412,  0.05595801],\n",
              "         [ 0.0230686 , -0.04796537, -0.0103299 ],\n",
              "         [-0.08930824, -0.04796747, -0.08864454]]],\n",
              "\n",
              "\n",
              "       ...,\n",
              "\n",
              "\n",
              "       [[[ 0.03299333,  0.0261682 ,  0.03533113],\n",
              "         [ 0.04527282,  0.06502471,  0.06466142],\n",
              "         [ 0.03299056, -0.00280674,  0.01922773],\n",
              "         ...,\n",
              "         [-0.01265156,  0.08830995,  0.04110289],\n",
              "         [ 0.01559263,  0.09936323,  0.06504207],\n",
              "         [-0.00773523,  0.0883068 ,  0.04419894]],\n",
              "\n",
              "        [[ 0.01118571,  0.08842047,  0.05618426],\n",
              "         [-0.02267313,  0.03967885,  0.0077635 ],\n",
              "         [ 0.00660021, -0.07063666, -0.03509466],\n",
              "         ...,\n",
              "         [ 0.09271869,  0.09936624,  0.11364114],\n",
              "         [ 0.00184304,  0.11003159,  0.06230691],\n",
              "         [-0.03870111,  0.11003012,  0.03675909]],\n",
              "\n",
              "        [[ 0.00660292,  0.07694839,  0.04692148],\n",
              "         [-0.13657809,  0.03967885, -0.06400841],\n",
              "         [-0.15283206, -0.00280674, -0.09785974],\n",
              "         ...,\n",
              "         [ 0.04914977,  0.06491731,  0.06704461],\n",
              "         [-0.027975  ,  0.0649157 ,  0.01844713],\n",
              "         [ 0.01108688,  0.06491419,  0.04305932]],\n",
              "\n",
              "        ...,\n",
              "\n",
              "        [[-0.07360755,  0.05263121, -0.0171327 ],\n",
              "         [-0.0278667 ,  0.01203951, -0.01086843],\n",
              "         [ 0.06082913,  0.08843114,  0.08747068],\n",
              "         ...,\n",
              "         [ 0.0607357 ,  0.01193211,  0.04490056],\n",
              "         [-0.05562493,  0.02607147, -0.02056129],\n",
              "         [-0.14466649,  0.05251919, -0.06196944]],\n",
              "\n",
              "        [[-0.06744435, -0.01838169, -0.0527118 ],\n",
              "         [-0.00279373, -0.09023941, -0.05190725],\n",
              "         [ 0.06082913, -0.03481983,  0.01897893],\n",
              "         ...,\n",
              "         [ 0.02439798, -0.11131886, -0.04648771],\n",
              "         [-0.15291459, -0.07073031, -0.13565753],\n",
              "         [-0.04986083,  0.05251919, -0.00223207]],\n",
              "\n",
              "        [[ 0.01570359, -0.07061976, -0.02934919],\n",
              "         [-0.00279373, -0.09023941, -0.05190725],\n",
              "         [-0.00762553, -0.07062291, -0.0440507 ],\n",
              "         ...,\n",
              "         [ 0.04916196, -0.15817669, -0.05692318],\n",
              "         [-0.08647331, -0.09034832, -0.10469456],\n",
              "         [-0.04986083,  0.0395822 , -0.00942128]]],\n",
              "\n",
              "\n",
              "       [[[ 0.06953093,  0.07769074,  0.08986998],\n",
              "         [ 0.06952901,  0.03621313,  0.06617944],\n",
              "         [-0.05032573,  0.11538601,  0.03296985],\n",
              "         ...,\n",
              "         [-0.10621206, -0.03515377, -0.08957825],\n",
              "         [-0.06361147, -0.03515587, -0.06170341],\n",
              "         [-0.01364397, -0.01003474, -0.01465923]],\n",
              "\n",
              "        [[ 0.10484706,  0.07769074,  0.11297938],\n",
              "         [ 0.03038788,  0.03621313,  0.04056712],\n",
              "         [-0.06348001,  0.05746745, -0.00871703],\n",
              "         ...,\n",
              "         [-0.32797371,  0.01365659, -0.20681253],\n",
              "         [-0.12160783, -0.01003255, -0.08530501],\n",
              "         [ 0.00896992, -0.0619035 , -0.02948567]],\n",
              "\n",
              "        [[-0.00202327, -0.19027749, -0.10999794],\n",
              "         [-0.02536899, -0.27343931, -0.17277097],\n",
              "         [-0.02537082, -0.22977931, -0.14783645],\n",
              "         ...,\n",
              "         [-0.02550028, -0.06189911, -0.05203902],\n",
              "         [-0.02550028, -0.06189911, -0.05203902],\n",
              "         [-0.1062139 ,  0.03606045, -0.04890657]],\n",
              "\n",
              "        ...,\n",
              "\n",
              "        [[ 0.04060543,  0.05750175,  0.05941172],\n",
              "         [ 0.01992926,  0.05749961,  0.04588087],\n",
              "         [ 0.00912941,  0.09699485,  0.06137099],\n",
              "         ...,\n",
              "         [-0.12157964,  0.09684651, -0.02424426],\n",
              "         [ 0.03028082,  0.13290277,  0.09571983],\n",
              "         [ 0.06002475,  0.03608836,  0.05988899]],\n",
              "\n",
              "        [[-0.0912871 , -0.00984757, -0.06535875],\n",
              "         [-0.09128898, -0.00984972, -0.0653612 ],\n",
              "         [ 0.00912941,  0.0777166 ,  0.05036053],\n",
              "         ...,\n",
              "         [-0.12157964,  0.07756827, -0.03525473],\n",
              "         [-0.12158147,  0.09684441, -0.02424666],\n",
              "         [ 0.03027898,  0.09684222,  0.07512322]],\n",
              "\n",
              "        [[-0.12144647, -0.12101878, -0.14858747],\n",
              "         [-0.35676791, -0.12102078, -0.30257311],\n",
              "         [-0.13752859, -0.06172067, -0.12524375],\n",
              "         ...,\n",
              "         [ 0.05038441, -0.09045817, -0.01869431],\n",
              "         [-0.10618566, -0.12117131, -0.13868855],\n",
              "         [-0.27618939, -0.09046255, -0.23239305]]],\n",
              "\n",
              "\n",
              "       [[[ 0.02173601,  0.06150246,  0.04630651],\n",
              "         [-0.01386142,  0.05584458,  0.02110642],\n",
              "         [-0.04695664, -0.00193486, -0.03029676],\n",
              "         ...,\n",
              "         [-0.01601388,  0.02531343,  0.00350243],\n",
              "         [-0.05435089,  0.01200952, -0.0274778 ],\n",
              "         [-0.05435089,  0.01200952, -0.0274778 ]],\n",
              "\n",
              "        [[-0.04935686,  0.05005703, -0.00409918],\n",
              "         [-0.04695521, -0.01684879, -0.03823979],\n",
              "         [-0.05424977, -0.07758568, -0.07513776],\n",
              "         ...,\n",
              "         [-0.03318633,  0.0317059 , -0.0037955 ],\n",
              "         [-0.09219087,  0.00508031, -0.05475276],\n",
              "         [-0.11401698,  0.03170253, -0.05417572]],\n",
              "\n",
              "        [[-0.00389154,  0.04413   ,  0.02108046],\n",
              "         [-0.0618021 , -0.01684709, -0.04749234],\n",
              "         [-0.04935829, -0.05864918, -0.06200255],\n",
              "         ...,\n",
              "         [ 0.02335135, -0.04118467, -0.00738312],\n",
              "         [-0.03543661, -0.09821672, -0.07440143],\n",
              "         [-0.05935741, -0.15852612, -0.12143415]],\n",
              "\n",
              "        ...,\n",
              "\n",
              "        [[ 0.01295726,  0.05586993,  0.03783491],\n",
              "         [-0.08054538,  0.01889408, -0.04013668],\n",
              "         [-0.01589402,  0.05586647,  0.01985124],\n",
              "         ...,\n",
              "         [ 0.08640791, -0.13257884, -0.01676375],\n",
              "         [-0.05681901, -0.13258051, -0.10603211],\n",
              "         [-0.06972412, -0.0497996 , -0.069982  ]],\n",
              "\n",
              "        [[-0.10114568, -0.04104276, -0.08490143],\n",
              "         [-0.07229873,  0.04415025, -0.02154416],\n",
              "         [-0.1205713 ,  0.04414853, -0.05163139],\n",
              "         ...,\n",
              "         [ 0.00922948, -0.00937256,  0.00076005],\n",
              "         [-0.10124961, -0.12057662, -0.12733   ],\n",
              "         [-0.03317043, -0.14520192, -0.09801573]],\n",
              "\n",
              "        [[-0.07229728,  0.04415195, -0.02154235],\n",
              "         [-0.07229873,  0.04415025, -0.02154416],\n",
              "         [-0.12399032, -0.0410461 , -0.09914134],\n",
              "         ...,\n",
              "         [ 0.00922948, -0.00937256,  0.00076005],\n",
              "         [-0.11399676, -0.14520025, -0.14839058],\n",
              "         [-0.01191356, -0.08772545, -0.05415229]]]])"
            ]
          },
          "metadata": {
            "tags": []
          },
          "execution_count": 8
        }
      ]
    },
    {
      "cell_type": "code",
      "metadata": {
        "id": "Gf8Ic9JgFS1e",
        "colab_type": "code",
        "colab": {
          "base_uri": "https://localhost:8080/",
          "height": 33
        },
        "outputId": "00248c26-8b82-498a-d846-d79f3cbf9115"
      },
      "source": [
        "Y_train"
      ],
      "execution_count": 9,
      "outputs": [
        {
          "output_type": "execute_result",
          "data": {
            "text/plain": [
              "array([0, 0, 1, ..., 0, 1, 0])"
            ]
          },
          "metadata": {
            "tags": []
          },
          "execution_count": 9
        }
      ]
    },
    {
      "cell_type": "code",
      "metadata": {
        "id": "7IqGaDIds_W2",
        "colab_type": "code",
        "colab": {
          "base_uri": "https://localhost:8080/",
          "height": 313
        },
        "outputId": "fb2ebf79-ea52-4e1d-b33e-29ed9c89d5d8"
      },
      "source": [
        "ix = 0 #0-4112\n",
        "imshow(np.squeeze(X_train[ix,:,:,2]))#Looking at the combined channel\n",
        "plt.show()\n",
        "labels = ['Ship','Iceberg']#0 is no iceberg(ship) and 1 is iceberg\n",
        "print ('This is:',labels[int(Y_train[ix])])"
      ],
      "execution_count": 10,
      "outputs": [
        {
          "output_type": "display_data",
          "data": {
            "image/png": "[encoded data removed]",
            "text/plain": [
              "<Figure size 432x288 with 2 Axes>"
            ]
          },
          "metadata": {
            "tags": []
          }
        },
        {
          "output_type": "stream",
          "text": [
            "This is: Ship\n"
          ],
          "name": "stdout"
        }
      ]
    },
    {
      "cell_type": "code",
      "metadata": {
        "id": "2tDCdGm9twyD",
        "colab_type": "code",
        "colab": {
          "base_uri": "https://localhost:8080/",
          "height": 313
        },
        "outputId": "93e799b5-3753-4f6e-c395-642f1959517d"
      },
      "source": [
        "ix = 10 #0-4112\n",
        "imshow(np.squeeze(X_train[ix,:,:,2]))#Looking at the combined channel\n",
        "plt.show()\n",
        "labels = ['Ship','Iceberg']#0 is no iceberg(ship) and 1 is iceberg\n",
        "print ('This is:',labels[int(Y_train[ix])])"
      ],
      "execution_count": 13,
      "outputs": [
        {
          "output_type": "display_data",
          "data": {
            "image/png": "[encoded data removed]",
            "text/plain": [
              "<Figure size 432x288 with 2 Axes>"
            ]
          },
          "metadata": {
            "tags": []
          }
        },
        {
          "output_type": "stream",
          "text": [
            "This is: Iceberg\n"
          ],
          "name": "stdout"
        }
      ]
    },
    {
      "cell_type": "markdown",
      "metadata": {
        "id": "asbnVH0ABHnp",
        "colab_type": "text"
      },
      "source": [
        "# Creating the structure of Siamese Network"
      ]
    },
    {
      "cell_type": "code",
      "metadata": {
        "id": "7kYb9YAhuUPw",
        "colab_type": "code",
        "colab": {}
      },
      "source": [
        "def create_base_network(input_shape):\n",
        "    '''Base Siamese Network'''\n",
        "    \n",
        "    seq = Sequential()\n",
        "    seq.add(Conv2D(96, kernel_size=(11, 11), activation='relu', name='conv1_1', strides=4, input_shape= input_shape))\n",
        "    seq.add(BatchNormalization())\n",
        "    seq.add(MaxPooling2D((3,3), strides=(2, 2)))    \n",
        "    seq.add(ZeroPadding2D((2, 2)))\n",
        "    \n",
        "    seq.add(Conv2D(256, kernel_size=(5, 5), activation='relu', name='conv2_1'))\n",
        "    seq.add(BatchNormalization())\n",
        "    seq.add(MaxPooling2D((3,3), strides=(2, 2)))\n",
        "    seq.add(Dropout(0.3))\n",
        "    seq.add(ZeroPadding2D((1, 1)))\n",
        "    \n",
        "    seq.add(Conv2D(384, kernel_size=(3, 3), activation='relu', name='conv3_1'))\n",
        "    seq.add(ZeroPadding2D((1, 1)))\n",
        "    \n",
        "    seq.add(Conv2D(256, kernel_size=(3, 3), activation='relu', name='conv3_2'))    \n",
        "    seq.add(MaxPooling2D((3,3), strides=(2, 2)))\n",
        "    seq.add(Dropout(0.3))\n",
        "    seq.add(Flatten(name='flatten'))\n",
        "    seq.add(Dense(1024, activation='relu'))\n",
        "    seq.add(Dropout(0.5))\n",
        "    \n",
        "    seq.add(Dense(128, activation='relu')) # softmax changed to relu\n",
        "    \n",
        "    return seq"
      ],
      "execution_count": 0,
      "outputs": []
    },
    {
      "cell_type": "markdown",
      "metadata": {
        "id": "F9s-3zc1BHnq",
        "colab_type": "text"
      },
      "source": [
        "# Create two Inputs for each image - left_input and right_input\n",
        "Hint - use Input Function in Keras and keep the shape to be 75,75,3"
      ]
    },
    {
      "cell_type": "code",
      "metadata": {
        "id": "fEDdllmeBHnq",
        "colab_type": "code",
        "colab": {}
      },
      "source": [
        "# We have 2 inputs,a 1 for each picture\n",
        "left_input = Input((75,75,3))\n",
        "right_input = Input((75,75,3))"
      ],
      "execution_count": 0,
      "outputs": []
    },
    {
      "cell_type": "code",
      "metadata": {
        "id": "RSu3pE2quxn2",
        "colab_type": "code",
        "colab": {}
      },
      "source": [
        "image_list = np.split(X_train[:1000],1000)\n",
        "label_list = np.split(Y_train[:1000],1000)\n",
        "\n",
        "left_input = []\n",
        "right_input = []\n",
        "targets = []\n",
        "\n",
        "#Number of pairs per image\n",
        "pairs = 5\n",
        "#Let's create the new dataset to train on\n",
        "for i in range(len(label_list)):\n",
        "    for _ in range(pairs):\n",
        "        compare_to = i\n",
        "        while compare_to == i: #Make sure it's not comparing to itself\n",
        "            compare_to = random.randint(0,999)\n",
        "        left_input.append(image_list[i])\n",
        "        right_input.append(image_list[compare_to])\n",
        "        if label_list[i] == label_list[compare_to]:# They are the same\n",
        "            targets.append(1.)\n",
        "        else:# Not the same\n",
        "            targets.append(0.)\n",
        "            \n",
        "left_input = np.squeeze(np.array(left_input))\n",
        "right_input = np.squeeze(np.array(right_input))\n",
        "targets = np.squeeze(np.array(targets))\n",
        "\n",
        "iceimage = X_train[101]\n",
        "test_left = []\n",
        "test_right = []\n",
        "test_targets = []\n",
        "\n",
        "for i in range(Y_train.shape[0]-1000):\n",
        "    test_left.append(iceimage)\n",
        "    test_right.append(X_train[i+1000])\n",
        "    test_targets.append(Y_train[i+1000])\n",
        "\n",
        "test_left = np.squeeze(np.array(test_left))\n",
        "test_right = np.squeeze(np.array(test_right))\n",
        "test_targets = np.squeeze(np.array(test_targets))"
      ],
      "execution_count": 0,
      "outputs": []
    },
    {
      "cell_type": "markdown",
      "metadata": {
        "id": "w04vwefTBHns",
        "colab_type": "text"
      },
      "source": [
        "# Create a base Network in which both images will go through individually.\n",
        "\n",
        "Hint - Use Sequential Model in Keras with convolution layers, Maxpooling Layers, Flatten Layer and Denser Layer with appropriate activation functions.\n",
        "Name the network as base_network"
      ]
    },
    {
      "cell_type": "code",
      "metadata": {
        "id": "qkK3Rl2eBHnt",
        "colab_type": "code",
        "colab": {
          "base_uri": "https://localhost:8080/",
          "height": 87
        },
        "outputId": "0f8d64f3-35bf-4771-88d7-ea027224b0e8"
      },
      "source": [
        "left_input = Input((75,75,3))\n",
        "right_input = Input((75,75,3))\n",
        "\n",
        "# We will use 2 instances of 1 network for this task\n",
        "baseNetwork = Sequential([\n",
        "    Conv2D(5,3, input_shape=(75,75,3)),\n",
        "    Activation('relu'),\n",
        "    MaxPooling2D(),\n",
        "    Conv2D(5,3),\n",
        "    Activation('relu'),\n",
        "    MaxPooling2D(),\n",
        "    Conv2D(7,2),\n",
        "    Activation('relu'),\n",
        "    MaxPooling2D(),\n",
        "    Conv2D(7,2),\n",
        "    Activation('relu'),\n",
        "    Flatten(),\n",
        "    Dense(18),\n",
        "    Activation('sigmoid')\n",
        "])"
      ],
      "execution_count": 22,
      "outputs": [
        {
          "output_type": "stream",
          "text": [
            "WARNING:tensorflow:From /usr/local/lib/python3.6/dist-packages/tensorflow/python/framework/op_def_library.py:263: colocate_with (from tensorflow.python.framework.ops) is deprecated and will be removed in a future version.\n",
            "Instructions for updating:\n",
            "Colocations handled automatically by placer.\n"
          ],
          "name": "stdout"
        }
      ]
    },
    {
      "cell_type": "code",
      "metadata": {
        "id": "RyiZCmLLBHnu",
        "colab_type": "code",
        "colab": {}
      },
      "source": [
        ""
      ],
      "execution_count": 0,
      "outputs": []
    },
    {
      "cell_type": "markdown",
      "metadata": {
        "id": "wh0Xa_f_BHnw",
        "colab_type": "text"
      },
      "source": [
        "# Process the left and right inputs to the same Base Network(base_network)"
      ]
    },
    {
      "cell_type": "code",
      "metadata": {
        "id": "trYZtq6IBHnx",
        "colab_type": "code",
        "colab": {}
      },
      "source": [
        "encoded_l = baseNetwork(left_input)\n",
        "encoded_r = baseNetwork(right_input)"
      ],
      "execution_count": 0,
      "outputs": []
    },
    {
      "cell_type": "code",
      "metadata": {
        "id": "88GORjuZBHny",
        "colab_type": "code",
        "colab": {}
      },
      "source": [
        ""
      ],
      "execution_count": 0,
      "outputs": []
    },
    {
      "cell_type": "markdown",
      "metadata": {
        "id": "gsHRAYPgBHn0",
        "colab_type": "text"
      },
      "source": [
        "# Get the L1 Distance layer between the 2 processed encodings (processed_a and processed_b)\n",
        "Hint - You can use Lambda function for this."
      ]
    },
    {
      "cell_type": "code",
      "metadata": {
        "id": "nu4Fc8-IBHn0",
        "colab_type": "code",
        "colab": {}
      },
      "source": [
        "L1_layer = Lambda(lambda tensor:K.abs(tensor[0] - tensor[1]))"
      ],
      "execution_count": 0,
      "outputs": []
    },
    {
      "cell_type": "code",
      "metadata": {
        "id": "f_5NlMvfBHn2",
        "colab_type": "code",
        "colab": {}
      },
      "source": [
        "L1_distance = L1_layer([encoded_l, encoded_r])"
      ],
      "execution_count": 0,
      "outputs": []
    },
    {
      "cell_type": "markdown",
      "metadata": {
        "id": "nu3-v5tmBHn4",
        "colab_type": "text"
      },
      "source": [
        "# Add the prediction layer in the end and create the Siamese Network using Model function."
      ]
    },
    {
      "cell_type": "code",
      "metadata": {
        "id": "N3WHX5jTBHn4",
        "colab_type": "code",
        "colab": {}
      },
      "source": [
        "prediction = Dense(1,activation='sigmoid')(L1_distance)"
      ],
      "execution_count": 0,
      "outputs": []
    },
    {
      "cell_type": "markdown",
      "metadata": {
        "id": "E02nhKBbBHn6",
        "colab_type": "text"
      },
      "source": [
        "# Define the Optimizer Adam and Compile the Siamese Model."
      ]
    },
    {
      "cell_type": "code",
      "metadata": {
        "id": "0vYvbbXwBHn6",
        "colab_type": "code",
        "colab": {}
      },
      "source": [
        "optimizer = Adam(0.001, decay=2.5e-4)"
      ],
      "execution_count": 0,
      "outputs": []
    },
    {
      "cell_type": "markdown",
      "metadata": {
        "_cell_guid": "dbba8e74-6b9c-4c84-96ed-55137265280b",
        "_uuid": "28e3843cae1a192bb14eb04cc1fe1705ef69f405",
        "id": "Uh5L0HhFBHn7",
        "colab_type": "text"
      },
      "source": [
        "# Show the Summary of your Siamese Network"
      ]
    },
    {
      "cell_type": "code",
      "metadata": {
        "id": "Lo7DpwzXBHn8",
        "colab_type": "code",
        "colab": {}
      },
      "source": [
        "siamese_net = Model(inputs=[left_input,right_input],outputs=prediction)"
      ],
      "execution_count": 0,
      "outputs": []
    },
    {
      "cell_type": "code",
      "metadata": {
        "id": "bITkgBbsvl14",
        "colab_type": "code",
        "colab": {}
      },
      "source": [
        "siamese_net.compile(loss=\"binary_crossentropy\",optimizer=optimizer,metrics=['accuracy'])"
      ],
      "execution_count": 0,
      "outputs": []
    },
    {
      "cell_type": "code",
      "metadata": {
        "id": "HMvL5cNnvpQD",
        "colab_type": "code",
        "colab": {
          "base_uri": "https://localhost:8080/",
          "height": 334
        },
        "outputId": "06240e16-5761-44ef-8a80-f3a7d90a9a45"
      },
      "source": [
        "siamese_net.summary()"
      ],
      "execution_count": 30,
      "outputs": [
        {
          "output_type": "stream",
          "text": [
            "__________________________________________________________________________________________________\n",
            "Layer (type)                    Output Shape         Param #     Connected to                     \n",
            "==================================================================================================\n",
            "input_3 (InputLayer)            (None, 75, 75, 3)    0                                            \n",
            "__________________________________________________________________________________________________\n",
            "input_4 (InputLayer)            (None, 75, 75, 3)    0                                            \n",
            "__________________________________________________________________________________________________\n",
            "sequential_1 (Sequential)       (None, 18)           6912        input_3[0][0]                    \n",
            "                                                                 input_4[0][0]                    \n",
            "__________________________________________________________________________________________________\n",
            "lambda_2 (Lambda)               (None, 18)           0           sequential_1[1][0]               \n",
            "                                                                 sequential_1[2][0]               \n",
            "__________________________________________________________________________________________________\n",
            "dense_2 (Dense)                 (None, 1)            19          lambda_2[0][0]                   \n",
            "==================================================================================================\n",
            "Total params: 6,931\n",
            "Trainable params: 6,931\n",
            "Non-trainable params: 0\n",
            "__________________________________________________________________________________________________\n"
          ],
          "name": "stdout"
        }
      ]
    },
    {
      "cell_type": "markdown",
      "metadata": {
        "id": "-3UusMnGBHn-",
        "colab_type": "text"
      },
      "source": [
        "# Creating the Pair of Images to train on"
      ]
    },
    {
      "cell_type": "markdown",
      "metadata": {
        "_cell_guid": "7080234f-01f4-4df1-88a7-459746335c50",
        "_uuid": "4553890c8130dc76076252a09290497a4afc27e6",
        "id": "A15xo-NzBHn_",
        "colab_type": "text"
      },
      "source": [
        "It's not time to train though. We still have to create pairs of images to train on. There will be Positive(the same class) or Negative(different classes) for outputs. Let's construct this dataset. It is recommended that there are equal amounts positive and negative."
      ]
    },
    {
      "cell_type": "code",
      "metadata": {
        "_cell_guid": "32cb30db-144d-4f93-af05-6cb9a697c084",
        "_uuid": "09a3e9d488acd34e99912c5f01474029e77637f5",
        "id": "0by8UtA2BHn_",
        "colab_type": "code",
        "colab": {}
      },
      "source": [
        "# First let's separate the dataset from 1 matrix to a list of matricies\n",
        "image_list = np.split(X_train[:1000],1000)\n",
        "label_list = np.split(Y_train[:1000],1000)\n",
        "\n",
        "left_input = []\n",
        "right_input = []\n",
        "targets = []\n",
        "\n",
        "#Number of pairs per image\n",
        "pairs = 5\n",
        "#Let's create the new dataset to train on\n",
        "for i in range(len(label_list)):\n",
        "    for _ in range(pairs):\n",
        "        compare_to = i\n",
        "        while compare_to == i: #Make sure it's not comparing to itself\n",
        "            compare_to = random.randint(0,999)\n",
        "        left_input.append(image_list[i])\n",
        "        right_input.append(image_list[compare_to])\n",
        "        if label_list[i] == label_list[compare_to]:# They are the same\n",
        "            targets.append(1.)\n",
        "        else:# Not the same\n",
        "            targets.append(0.)\n",
        "            \n",
        "left_input = np.squeeze(np.array(left_input))\n",
        "right_input = np.squeeze(np.array(right_input))\n",
        "targets = np.squeeze(np.array(targets))\n",
        "\n",
        "iceimage = X_train[101]\n",
        "test_left = []\n",
        "test_right = []\n",
        "test_targets = []\n",
        "\n",
        "for i in range(Y_train.shape[0]-1000):\n",
        "    test_left.append(iceimage)\n",
        "    test_right.append(X_train[i+1000])\n",
        "    test_targets.append(Y_train[i+1000])\n",
        "\n",
        "test_left = np.squeeze(np.array(test_left))\n",
        "test_right = np.squeeze(np.array(test_right))\n",
        "test_targets = np.squeeze(np.array(test_targets))"
      ],
      "execution_count": 0,
      "outputs": []
    },
    {
      "cell_type": "markdown",
      "metadata": {
        "id": "yGs1BXIWBHoB",
        "colab_type": "text"
      },
      "source": [
        "Now we have a lot more examples.\n",
        "Now we have pairs x 1000 examples to train the network on. \n",
        "Each side will have an input of an image and the output will be one if they are the same and zero if not."
      ]
    },
    {
      "cell_type": "markdown",
      "metadata": {
        "id": "RH_GxxLJBHoC",
        "colab_type": "text"
      },
      "source": [
        "# Train the Siamese train on left and right input image pairs created and validate it by test pairs."
      ]
    },
    {
      "cell_type": "code",
      "metadata": {
        "id": "aVROwJxyBHoC",
        "colab_type": "code",
        "colab": {
          "base_uri": "https://localhost:8080/",
          "height": 1124
        },
        "outputId": "81a6ffa8-c2ea-445b-810d-b9426d1cbb66"
      },
      "source": [
        "siamese_net.fit([left_input,right_input], targets,\n",
        "          batch_size=16,\n",
        "          epochs=30,\n",
        "          verbose=1,\n",
        "          validation_data=([test_left,test_right],test_targets))"
      ],
      "execution_count": 32,
      "outputs": [
        {
          "output_type": "stream",
          "text": [
            "WARNING:tensorflow:From /usr/local/lib/python3.6/dist-packages/tensorflow/python/ops/math_ops.py:3066: to_int32 (from tensorflow.python.ops.math_ops) is deprecated and will be removed in a future version.\n",
            "Instructions for updating:\n",
            "Use tf.cast instead.\n",
            "Train on 5000 samples, validate on 3113 samples\n",
            "Epoch 1/30\n",
            "5000/5000 [==============================] - 9s 2ms/step - loss: 0.6734 - acc: 0.5886 - val_loss: 0.6475 - val_acc: 0.6431\n",
            "Epoch 2/30\n",
            "5000/5000 [==============================] - 4s 743us/step - loss: 0.5973 - acc: 0.7014 - val_loss: 0.6402 - val_acc: 0.6701\n",
            "Epoch 3/30\n",
            "5000/5000 [==============================] - 4s 797us/step - loss: 0.5448 - acc: 0.7446 - val_loss: 0.4993 - val_acc: 0.8134\n",
            "Epoch 4/30\n",
            "5000/5000 [==============================] - 4s 799us/step - loss: 0.4969 - acc: 0.7820 - val_loss: 0.4941 - val_acc: 0.8069\n",
            "Epoch 5/30\n",
            "5000/5000 [==============================] - 4s 718us/step - loss: 0.4659 - acc: 0.7922 - val_loss: 0.4535 - val_acc: 0.8166\n",
            "Epoch 6/30\n",
            "5000/5000 [==============================] - 4s 709us/step - loss: 0.4533 - acc: 0.8024 - val_loss: 0.4541 - val_acc: 0.8159\n",
            "Epoch 7/30\n",
            "5000/5000 [==============================] - 4s 708us/step - loss: 0.4283 - acc: 0.8148 - val_loss: 0.5050 - val_acc: 0.7906\n",
            "Epoch 8/30\n",
            "5000/5000 [==============================] - 4s 708us/step - loss: 0.4094 - acc: 0.8234 - val_loss: 0.4364 - val_acc: 0.8214\n",
            "Epoch 9/30\n",
            "5000/5000 [==============================] - 4s 711us/step - loss: 0.3956 - acc: 0.8294 - val_loss: 0.4434 - val_acc: 0.8182\n",
            "Epoch 10/30\n",
            "5000/5000 [==============================] - 4s 711us/step - loss: 0.3834 - acc: 0.8342 - val_loss: 0.4591 - val_acc: 0.8066\n",
            "Epoch 11/30\n",
            "5000/5000 [==============================] - 4s 710us/step - loss: 0.3708 - acc: 0.8422 - val_loss: 0.4298 - val_acc: 0.8227\n",
            "Epoch 12/30\n",
            "5000/5000 [==============================] - 4s 706us/step - loss: 0.3598 - acc: 0.8468 - val_loss: 0.4427 - val_acc: 0.8108\n",
            "Epoch 13/30\n",
            "5000/5000 [==============================] - 4s 710us/step - loss: 0.3485 - acc: 0.8538 - val_loss: 0.4698 - val_acc: 0.8021\n",
            "Epoch 14/30\n",
            "5000/5000 [==============================] - 4s 704us/step - loss: 0.3456 - acc: 0.8526 - val_loss: 0.4739 - val_acc: 0.8098\n",
            "Epoch 15/30\n",
            "5000/5000 [==============================] - 4s 711us/step - loss: 0.3296 - acc: 0.8610 - val_loss: 0.4982 - val_acc: 0.7944\n",
            "Epoch 16/30\n",
            "5000/5000 [==============================] - 4s 712us/step - loss: 0.3186 - acc: 0.8648 - val_loss: 0.4839 - val_acc: 0.8047\n",
            "Epoch 17/30\n",
            "5000/5000 [==============================] - 4s 702us/step - loss: 0.3132 - acc: 0.8700 - val_loss: 0.4545 - val_acc: 0.8153\n",
            "Epoch 18/30\n",
            "5000/5000 [==============================] - 4s 716us/step - loss: 0.3025 - acc: 0.8738 - val_loss: 0.4964 - val_acc: 0.8028\n",
            "Epoch 19/30\n",
            "5000/5000 [==============================] - 4s 799us/step - loss: 0.2933 - acc: 0.8826 - val_loss: 0.4933 - val_acc: 0.8089\n",
            "Epoch 20/30\n",
            "5000/5000 [==============================] - 4s 732us/step - loss: 0.2902 - acc: 0.8828 - val_loss: 0.4683 - val_acc: 0.8121\n",
            "Epoch 21/30\n",
            "5000/5000 [==============================] - 4s 710us/step - loss: 0.2829 - acc: 0.8894 - val_loss: 0.4760 - val_acc: 0.8118\n",
            "Epoch 22/30\n",
            "5000/5000 [==============================] - 4s 709us/step - loss: 0.2731 - acc: 0.8908 - val_loss: 0.5025 - val_acc: 0.8034\n",
            "Epoch 23/30\n",
            "5000/5000 [==============================] - 4s 709us/step - loss: 0.2699 - acc: 0.8940 - val_loss: 0.5057 - val_acc: 0.8060\n",
            "Epoch 24/30\n",
            "5000/5000 [==============================] - 4s 728us/step - loss: 0.2622 - acc: 0.8964 - val_loss: 0.5165 - val_acc: 0.8024\n",
            "Epoch 25/30\n",
            "5000/5000 [==============================] - 4s 786us/step - loss: 0.2582 - acc: 0.9002 - val_loss: 0.5251 - val_acc: 0.8021\n",
            "Epoch 26/30\n",
            "5000/5000 [==============================] - 4s 800us/step - loss: 0.2569 - acc: 0.9002 - val_loss: 0.5012 - val_acc: 0.8111\n",
            "Epoch 27/30\n",
            "5000/5000 [==============================] - 4s 818us/step - loss: 0.2473 - acc: 0.9050 - val_loss: 0.5055 - val_acc: 0.8089\n",
            "Epoch 28/30\n",
            "5000/5000 [==============================] - 4s 738us/step - loss: 0.2438 - acc: 0.9066 - val_loss: 0.5561 - val_acc: 0.7979\n",
            "Epoch 29/30\n",
            "5000/5000 [==============================] - 4s 732us/step - loss: 0.2390 - acc: 0.9058 - val_loss: 0.5399 - val_acc: 0.8040\n",
            "Epoch 30/30\n",
            "5000/5000 [==============================] - 4s 738us/step - loss: 0.2313 - acc: 0.9130 - val_loss: 0.5371 - val_acc: 0.8066\n"
          ],
          "name": "stdout"
        },
        {
          "output_type": "execute_result",
          "data": {
            "text/plain": [
              "<keras.callbacks.History at 0x7f4a5b46bd30>"
            ]
          },
          "metadata": {
            "tags": []
          },
          "execution_count": 32
        }
      ]
    },
    {
      "cell_type": "code",
      "metadata": {
        "id": "LhshfezoBHoF",
        "colab_type": "code",
        "colab": {}
      },
      "source": [
        ""
      ],
      "execution_count": 0,
      "outputs": []
    },
    {
      "cell_type": "code",
      "metadata": {
        "_uuid": "e572afcaaf7dc8632d813031ebd828d9eec0f9aa",
        "id": "NDDgjgvyBHoH",
        "colab_type": "code",
        "colab": {}
      },
      "source": [
        ""
      ],
      "execution_count": 0,
      "outputs": []
    },
    {
      "cell_type": "code",
      "metadata": {
        "id": "KREe85BYBHoI",
        "colab_type": "code",
        "colab": {}
      },
      "source": [
        ""
      ],
      "execution_count": 0,
      "outputs": []
    },
    {
      "cell_type": "code",
      "metadata": {
        "id": "_7Tgzfz3BHoJ",
        "colab_type": "code",
        "colab": {}
      },
      "source": [
        ""
      ],
      "execution_count": 0,
      "outputs": []
    }
  ]
}