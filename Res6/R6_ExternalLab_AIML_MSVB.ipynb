{
  "nbformat": 4,
  "nbformat_minor": 0,
  "metadata": {
    "colab": {
      "name": "R6_ExternalLab_AIML.ipynb",
      "version": "0.3.2",
      "provenance": [],
      "collapsed_sections": []
    },
    "kernelspec": {
      "display_name": "Python 2",
      "language": "python",
      "name": "python2"
    }
  },
  "cells": [
    {
      "metadata": {
        "id": "YYk8NG3yOIT9",
        "colab_type": "text"
      },
      "cell_type": "markdown",
      "source": [
        "### A MNIST-like fashion product database\n",
        "\n",
        "In this, we classify the images into respective classes given in the dataset. We use a Neural Net and a Deep Neural Net in Keras to solve this and check the accuracy scores."
      ]
    },
    {
      "metadata": {
        "slideshow": {
          "slide_type": "slide"
        },
        "id": "tFO6PuxzOIT_",
        "colab_type": "text"
      },
      "cell_type": "markdown",
      "source": [
        "### Load tensorflow"
      ]
    },
    {
      "metadata": {
        "id": "efNjNImfOIUC",
        "colab_type": "code",
        "colab": {}
      },
      "cell_type": "code",
      "source": [
        "import tensorflow as tf\n",
        "tf.reset_default_graph()\n",
        "tf.set_random_seed(42)"
      ],
      "execution_count": 0,
      "outputs": []
    },
    {
      "metadata": {
        "id": "66zN2ZhvRPhz",
        "colab_type": "code",
        "colab": {}
      },
      "cell_type": "code",
      "source": [
        "# Helper libraries\n",
        "import numpy as np\n",
        "import matplotlib.pyplot as plt"
      ],
      "execution_count": 0,
      "outputs": []
    },
    {
      "metadata": {
        "id": "l9C4aAIGOIUH",
        "colab_type": "code",
        "outputId": "4c8ae13c-157d-406b-f88d-a4f5cd7903e0",
        "colab": {
          "base_uri": "https://localhost:8080/",
          "height": 34
        }
      },
      "cell_type": "code",
      "source": [
        "tf.__version__"
      ],
      "execution_count": 3,
      "outputs": [
        {
          "output_type": "execute_result",
          "data": {
            "text/plain": [
              "'1.12.0'"
            ]
          },
          "metadata": {
            "tags": []
          },
          "execution_count": 3
        }
      ]
    },
    {
      "metadata": {
        "slideshow": {
          "slide_type": "slide"
        },
        "id": "HcoZBStrOIUQ",
        "colab_type": "text"
      },
      "cell_type": "markdown",
      "source": [
        "### Collect Data"
      ]
    },
    {
      "metadata": {
        "id": "XA1WsFSeOIUS",
        "colab_type": "code",
        "colab": {
          "base_uri": "https://localhost:8080/",
          "height": 34
        },
        "outputId": "7b8363d4-b9b6-443a-eb77-cf7c3f234ac3"
      },
      "cell_type": "code",
      "source": [
        "import keras"
      ],
      "execution_count": 4,
      "outputs": [
        {
          "output_type": "stream",
          "text": [
            "Using TensorFlow backend.\n"
          ],
          "name": "stderr"
        }
      ]
    },
    {
      "metadata": {
        "id": "qnbx7TyQOIUY",
        "colab_type": "code",
        "colab": {}
      },
      "cell_type": "code",
      "source": [
        "(trainX, trainY), (testX, testY) = keras.datasets.fashion_mnist.load_data()"
      ],
      "execution_count": 0,
      "outputs": []
    },
    {
      "metadata": {
        "slideshow": {
          "slide_type": "fragment"
        },
        "id": "UbiHj5YPOIUc",
        "colab_type": "code",
        "outputId": "efcc5b80-2acd-4c1f-9ac0-918743144751",
        "colab": {
          "base_uri": "https://localhost:8080/",
          "height": 34
        }
      },
      "cell_type": "code",
      "source": [
        "print(testY[0:5])"
      ],
      "execution_count": 6,
      "outputs": [
        {
          "output_type": "stream",
          "text": [
            "[9 2 1 1 6]\n"
          ],
          "name": "stdout"
        }
      ]
    },
    {
      "metadata": {
        "id": "A151PhHjF5DA",
        "colab_type": "code",
        "outputId": "696b1c5b-e106-40cf-c0d2-762e046fe3e9",
        "colab": {
          "base_uri": "https://localhost:8080/",
          "height": 34
        }
      },
      "cell_type": "code",
      "source": [
        "trainX.shape"
      ],
      "execution_count": 7,
      "outputs": [
        {
          "output_type": "execute_result",
          "data": {
            "text/plain": [
              "(60000, 28, 28)"
            ]
          },
          "metadata": {
            "tags": []
          },
          "execution_count": 7
        }
      ]
    },
    {
      "metadata": {
        "id": "7n9b_CVzF_Qv",
        "colab_type": "code",
        "outputId": "e6a8629f-9864-49b1-9fb0-36f96157bf7c",
        "colab": {
          "base_uri": "https://localhost:8080/",
          "height": 34
        }
      },
      "cell_type": "code",
      "source": [
        "trainY.shape"
      ],
      "execution_count": 8,
      "outputs": [
        {
          "output_type": "execute_result",
          "data": {
            "text/plain": [
              "(60000,)"
            ]
          },
          "metadata": {
            "tags": []
          },
          "execution_count": 8
        }
      ]
    },
    {
      "metadata": {
        "slideshow": {
          "slide_type": "slide"
        },
        "id": "lDAYzkwyOIUj",
        "colab_type": "text"
      },
      "cell_type": "markdown",
      "source": [
        "### Convert both training and testing labels into one-hot vectors.\n",
        "\n",
        "**Hint:** check **tf.keras.utils.to_categorical()**"
      ]
    },
    {
      "metadata": {
        "id": "vBlfYlANOIUk",
        "colab_type": "code",
        "colab": {
          "base_uri": "https://localhost:8080/",
          "height": 51
        },
        "outputId": "a50beed8-0f62-40dc-f118-c85712f22a8d"
      },
      "cell_type": "code",
      "source": [
        "print(trainY.shape)\n",
        "print('First 2 examples are: ', trainY[0:2])"
      ],
      "execution_count": 9,
      "outputs": [
        {
          "output_type": "stream",
          "text": [
            "(60000,)\n",
            "('First 2 examples are: ', array([9, 0], dtype=uint8))\n"
          ],
          "name": "stdout"
        }
      ]
    },
    {
      "metadata": {
        "id": "aKUodHRsPS8I",
        "colab_type": "code",
        "colab": {}
      },
      "cell_type": "code",
      "source": [
        "trainY = tf.keras.utils.to_categorical(trainY, num_classes=10)\n",
        "testY = tf.keras.utils.to_categorical(testY, num_classes=10)"
      ],
      "execution_count": 0,
      "outputs": []
    },
    {
      "metadata": {
        "scrolled": true,
        "slideshow": {
          "slide_type": "fragment"
        },
        "id": "RHV3b9mzOIUq",
        "colab_type": "code",
        "outputId": "6fc98dca-a899-4d39-8a15-6c4656effd41",
        "colab": {
          "base_uri": "https://localhost:8080/",
          "height": 119
        }
      },
      "cell_type": "code",
      "source": [
        "print(trainY.shape)\n",
        "print('First 5 examples now are: ', trainY[0:5])"
      ],
      "execution_count": 11,
      "outputs": [
        {
          "output_type": "stream",
          "text": [
            "(60000, 10)\n",
            "('First 5 examples now are: ', array([[0., 0., 0., 0., 0., 0., 0., 0., 0., 1.],\n",
            "       [1., 0., 0., 0., 0., 0., 0., 0., 0., 0.],\n",
            "       [1., 0., 0., 0., 0., 0., 0., 0., 0., 0.],\n",
            "       [0., 0., 0., 1., 0., 0., 0., 0., 0., 0.],\n",
            "       [1., 0., 0., 0., 0., 0., 0., 0., 0., 0.]], dtype=float32))\n"
          ],
          "name": "stdout"
        }
      ]
    },
    {
      "metadata": {
        "id": "FwhQ8e7VOIUw",
        "colab_type": "text"
      },
      "cell_type": "markdown",
      "source": [
        "### Visualize the data\n",
        "\n",
        "Plot first 10 images in the triaining set and their labels."
      ]
    },
    {
      "metadata": {
        "id": "2-XzaZsOcjSj",
        "colab_type": "code",
        "colab": {
          "base_uri": "https://localhost:8080/",
          "height": 92
        },
        "outputId": "65307aa5-6567-4510-f517-7622ba2dd8c9"
      },
      "cell_type": "code",
      "source": [
        "plt.figure(figsize=(10,10))\n",
        "for i in range(10):\n",
        "    plt.subplot(1,10,i+1)\n",
        "    plt.xticks([])\n",
        "    plt.yticks([])\n",
        "    plt.grid(False)\n",
        "    plt.imshow(trainX[i], cmap=plt.cm.binary_r)\n",
        "    plt.xlabel(trainY[i])"
      ],
      "execution_count": 12,
      "outputs": [
        {
          "output_type": "display_data",
          "data": {
            "image/png": "[encoded data removed]",
            "text/plain": [
              "<Figure size 720x720 with 10 Axes>"
            ]
          },
          "metadata": {
            "tags": []
          }
        }
      ]
    },
    {
      "metadata": {
        "slideshow": {
          "slide_type": "slide"
        },
        "id": "l4TbJGeSOIU4",
        "colab_type": "text"
      },
      "cell_type": "markdown",
      "source": [
        "### Build a neural Network with a cross entropy loss function and sgd optimizer in Keras. The output layer with 10 neurons as we have 10 classes."
      ]
    },
    {
      "metadata": {
        "id": "klJcZh6Uc0So",
        "colab_type": "code",
        "colab": {}
      },
      "cell_type": "code",
      "source": [
        "from tensorflow import keras\n",
        "sgdo = tf.keras.optimizers.SGD(lr=.03)"
      ],
      "execution_count": 0,
      "outputs": []
    },
    {
      "metadata": {
        "id": "V29HEux1c6uA",
        "colab_type": "code",
        "colab": {}
      },
      "cell_type": "code",
      "source": [
        "model = keras.Sequential([\n",
        "    keras.layers.Flatten(input_shape=(28, 28)),\n",
        "    keras.layers.Dense(128, activation=tf.nn.relu),\n",
        "    keras.layers.Dense(10, activation=tf.nn.softmax)\n",
        "])"
      ],
      "execution_count": 0,
      "outputs": []
    },
    {
      "metadata": {
        "id": "YFOW6QpYdD3N",
        "colab_type": "code",
        "colab": {}
      },
      "cell_type": "code",
      "source": [
        "model.compile(optimizer=sgdo, loss='categorical_crossentropy', metrics=['accuracy'])"
      ],
      "execution_count": 0,
      "outputs": []
    },
    {
      "metadata": {
        "id": "pdlyzal6dICv",
        "colab_type": "code",
        "colab": {
          "base_uri": "https://localhost:8080/",
          "height": 238
        },
        "outputId": "ba02050c-4353-4c6b-a578-a3e77a84f3b6"
      },
      "cell_type": "code",
      "source": [
        "model.summary()"
      ],
      "execution_count": 16,
      "outputs": [
        {
          "output_type": "stream",
          "text": [
            "_________________________________________________________________\n",
            "Layer (type)                 Output Shape              Param #   \n",
            "=================================================================\n",
            "flatten (Flatten)            (None, 784)               0         \n",
            "_________________________________________________________________\n",
            "dense (Dense)                (None, 128)               100480    \n",
            "_________________________________________________________________\n",
            "dense_1 (Dense)              (None, 10)                1290      \n",
            "=================================================================\n",
            "Total params: 101,770\n",
            "Trainable params: 101,770\n",
            "Non-trainable params: 0\n",
            "_________________________________________________________________\n"
          ],
          "name": "stdout"
        }
      ]
    },
    {
      "metadata": {
        "slideshow": {
          "slide_type": "slide"
        },
        "id": "3hQpLv3aOIU_",
        "colab_type": "text"
      },
      "cell_type": "markdown",
      "source": [
        "### Execute the model using model.fit()"
      ]
    },
    {
      "metadata": {
        "id": "O59C_-IgOIVB",
        "colab_type": "code",
        "colab": {
          "base_uri": "https://localhost:8080/",
          "height": 391
        },
        "outputId": "d06bf184-ea84-4c3d-d20e-e35a0911da29"
      },
      "cell_type": "code",
      "source": [
        "model.fit(trainX,trainY,          \n",
        "          validation_data=(testX,testY),\n",
        "          epochs=10)"
      ],
      "execution_count": 17,
      "outputs": [
        {
          "output_type": "stream",
          "text": [
            "Train on 60000 samples, validate on 10000 samples\n",
            "Epoch 1/10\n",
            "60000/60000 [==============================] - 5s 85us/step - loss: 14.4665 - acc: 0.1024 - val_loss: 14.5063 - val_acc: 0.1000\n",
            "Epoch 2/10\n",
            "60000/60000 [==============================] - 4s 74us/step - loss: 14.5063 - acc: 0.1000 - val_loss: 14.5063 - val_acc: 0.1000\n",
            "Epoch 3/10\n",
            "60000/60000 [==============================] - 4s 74us/step - loss: 14.5063 - acc: 0.1000 - val_loss: 14.5063 - val_acc: 0.1000\n",
            "Epoch 4/10\n",
            "60000/60000 [==============================] - 4s 73us/step - loss: 14.5063 - acc: 0.1000 - val_loss: 14.5063 - val_acc: 0.1000\n",
            "Epoch 5/10\n",
            "60000/60000 [==============================] - 4s 72us/step - loss: 14.5063 - acc: 0.1000 - val_loss: 14.5063 - val_acc: 0.1000\n",
            "Epoch 6/10\n",
            "60000/60000 [==============================] - 4s 73us/step - loss: 14.5063 - acc: 0.1000 - val_loss: 14.5063 - val_acc: 0.1000\n",
            "Epoch 7/10\n",
            "60000/60000 [==============================] - 4s 72us/step - loss: 14.5063 - acc: 0.1000 - val_loss: 14.5063 - val_acc: 0.1000\n",
            "Epoch 8/10\n",
            "60000/60000 [==============================] - 4s 73us/step - loss: 14.5063 - acc: 0.1000 - val_loss: 14.5063 - val_acc: 0.1000\n",
            "Epoch 9/10\n",
            "60000/60000 [==============================] - 4s 72us/step - loss: 14.5063 - acc: 0.1000 - val_loss: 14.5063 - val_acc: 0.1000\n",
            "Epoch 10/10\n",
            "60000/60000 [==============================] - 4s 73us/step - loss: 14.5063 - acc: 0.1000 - val_loss: 14.5063 - val_acc: 0.1000\n"
          ],
          "name": "stdout"
        },
        {
          "output_type": "execute_result",
          "data": {
            "text/plain": [
              "<tensorflow.python.keras.callbacks.History at 0x7fe3f26b25d0>"
            ]
          },
          "metadata": {
            "tags": []
          },
          "execution_count": 17
        }
      ]
    },
    {
      "metadata": {
        "id": "Fvue9wt_rb8T",
        "colab_type": "code",
        "colab": {
          "base_uri": "https://localhost:8080/",
          "height": 51
        },
        "outputId": "b57f75be-ef55-4056-f7b5-72e1cf9be213"
      },
      "cell_type": "code",
      "source": [
        "model.evaluate(testX,testY)"
      ],
      "execution_count": 18,
      "outputs": [
        {
          "output_type": "stream",
          "text": [
            "10000/10000 [==============================] - 0s 23us/step\n"
          ],
          "name": "stdout"
        },
        {
          "output_type": "execute_result",
          "data": {
            "text/plain": [
              "[14.506285681152344, 0.1]"
            ]
          },
          "metadata": {
            "tags": []
          },
          "execution_count": 18
        }
      ]
    },
    {
      "metadata": {
        "slideshow": {
          "slide_type": "slide"
        },
        "id": "JdzDtGwDOIVF",
        "colab_type": "text"
      },
      "cell_type": "markdown",
      "source": [
        "### In the above Neural Network model add Batch Normalization layer after the input layer and repeat the steps."
      ]
    },
    {
      "metadata": {
        "id": "Y8Etqq0GdlD4",
        "colab_type": "code",
        "colab": {}
      },
      "cell_type": "code",
      "source": [
        "#Initialize Sequential model\n",
        "model = tf.keras.models.Sequential()\n",
        "\n",
        "#Reshape data from 2D to 1D -> 28x28 to 784\n",
        "model.add(tf.keras.layers.Reshape((784,),input_shape=(28,28,)))\n",
        "\n",
        "#Normalize the data\n",
        "model.add(tf.keras.layers.BatchNormalization())\n",
        "\n",
        "#Add Dense Layer which provides 10 Outputs after applying softmax\n",
        "model.add(tf.keras.layers.Dense(10, activation='softmax'))\n",
        "\n",
        "#Comile the model\n",
        "model.compile(optimizer='sgd', loss='categorical_crossentropy', metrics=['accuracy'])"
      ],
      "execution_count": 0,
      "outputs": []
    },
    {
      "metadata": {
        "id": "5IjnsdOCdtLp",
        "colab_type": "code",
        "colab": {}
      },
      "cell_type": "code",
      "source": [
        ""
      ],
      "execution_count": 0,
      "outputs": []
    },
    {
      "metadata": {
        "id": "121s40pud13f",
        "colab_type": "code",
        "colab": {}
      },
      "cell_type": "code",
      "source": [
        ""
      ],
      "execution_count": 0,
      "outputs": []
    },
    {
      "metadata": {
        "slideshow": {
          "slide_type": "slide"
        },
        "id": "mwk3T5LJOIVN",
        "colab_type": "text"
      },
      "cell_type": "markdown",
      "source": [
        "### Execute the model"
      ]
    },
    {
      "metadata": {
        "id": "JNLR8tcBOIVP",
        "colab_type": "code",
        "colab": {
          "base_uri": "https://localhost:8080/",
          "height": 391
        },
        "outputId": "68d762ec-8f22-437d-a84d-0ec25553c6b0"
      },
      "cell_type": "code",
      "source": [
        "model.fit(trainX,trainY,          \n",
        "          validation_data=(testX,testY),\n",
        "          epochs=10)"
      ],
      "execution_count": 20,
      "outputs": [
        {
          "output_type": "stream",
          "text": [
            "Train on 60000 samples, validate on 10000 samples\n",
            "Epoch 1/10\n",
            "60000/60000 [==============================] - 3s 57us/step - loss: 0.6003 - acc: 0.7936 - val_loss: 0.5206 - val_acc: 0.8225\n",
            "Epoch 2/10\n",
            "60000/60000 [==============================] - 3s 54us/step - loss: 0.4903 - acc: 0.8315 - val_loss: 0.4977 - val_acc: 0.8294\n",
            "Epoch 3/10\n",
            "60000/60000 [==============================] - 3s 54us/step - loss: 0.4694 - acc: 0.8390 - val_loss: 0.4856 - val_acc: 0.8358\n",
            "Epoch 4/10\n",
            "60000/60000 [==============================] - 3s 54us/step - loss: 0.4564 - acc: 0.8428 - val_loss: 0.4777 - val_acc: 0.8354\n",
            "Epoch 5/10\n",
            "60000/60000 [==============================] - 3s 54us/step - loss: 0.4480 - acc: 0.8465 - val_loss: 0.4669 - val_acc: 0.8388\n",
            "Epoch 6/10\n",
            "60000/60000 [==============================] - 3s 54us/step - loss: 0.4429 - acc: 0.8469 - val_loss: 0.4728 - val_acc: 0.8363\n",
            "Epoch 7/10\n",
            "60000/60000 [==============================] - 3s 54us/step - loss: 0.4378 - acc: 0.8483 - val_loss: 0.4711 - val_acc: 0.8393\n",
            "Epoch 8/10\n",
            "60000/60000 [==============================] - 3s 54us/step - loss: 0.4365 - acc: 0.8480 - val_loss: 0.4712 - val_acc: 0.8394\n",
            "Epoch 9/10\n",
            "60000/60000 [==============================] - 3s 54us/step - loss: 0.4323 - acc: 0.8498 - val_loss: 0.4612 - val_acc: 0.8434\n",
            "Epoch 10/10\n",
            "60000/60000 [==============================] - 3s 54us/step - loss: 0.4277 - acc: 0.8501 - val_loss: 0.4608 - val_acc: 0.8441\n"
          ],
          "name": "stdout"
        },
        {
          "output_type": "execute_result",
          "data": {
            "text/plain": [
              "<tensorflow.python.keras.callbacks.History at 0x7fe3efb50b50>"
            ]
          },
          "metadata": {
            "tags": []
          },
          "execution_count": 20
        }
      ]
    },
    {
      "metadata": {
        "id": "Py-KwkmjOIVU",
        "colab_type": "text"
      },
      "cell_type": "markdown",
      "source": [
        "### Customize the learning rate to 0.001 in sgd optimizer and run the model"
      ]
    },
    {
      "metadata": {
        "id": "yLXUE9jWOIVV",
        "colab_type": "code",
        "colab": {}
      },
      "cell_type": "code",
      "source": [
        "sgd_optimizer = tf.keras.optimizers.SGD(lr=0.001)\n",
        "model.compile(optimizer=sgd_optimizer, loss='mse')"
      ],
      "execution_count": 0,
      "outputs": []
    },
    {
      "metadata": {
        "id": "pJUqA5T4OIVc",
        "colab_type": "code",
        "colab": {
          "base_uri": "https://localhost:8080/",
          "height": 731
        },
        "outputId": "e590a39f-decc-45b0-9452-28e5dcf68acd"
      },
      "cell_type": "code",
      "source": [
        "model.fit(trainX,trainY,          \n",
        "          validation_data=(testX,testY),\n",
        "          epochs=20)"
      ],
      "execution_count": 22,
      "outputs": [
        {
          "output_type": "stream",
          "text": [
            "Train on 60000 samples, validate on 10000 samples\n",
            "Epoch 1/20\n",
            "60000/60000 [==============================] - 3s 57us/step - loss: 0.0210 - val_loss: 0.0227\n",
            "Epoch 2/20\n",
            "60000/60000 [==============================] - 3s 53us/step - loss: 0.0211 - val_loss: 0.0227\n",
            "Epoch 3/20\n",
            "60000/60000 [==============================] - 3s 53us/step - loss: 0.0210 - val_loss: 0.0226\n",
            "Epoch 4/20\n",
            "60000/60000 [==============================] - 3s 53us/step - loss: 0.0208 - val_loss: 0.0225\n",
            "Epoch 5/20\n",
            "60000/60000 [==============================] - 3s 53us/step - loss: 0.0208 - val_loss: 0.0225\n",
            "Epoch 6/20\n",
            "60000/60000 [==============================] - 3s 53us/step - loss: 0.0208 - val_loss: 0.0226\n",
            "Epoch 7/20\n",
            "60000/60000 [==============================] - 3s 53us/step - loss: 0.0208 - val_loss: 0.0226\n",
            "Epoch 8/20\n",
            "60000/60000 [==============================] - 3s 53us/step - loss: 0.0209 - val_loss: 0.0225\n",
            "Epoch 9/20\n",
            "60000/60000 [==============================] - 3s 53us/step - loss: 0.0208 - val_loss: 0.0225\n",
            "Epoch 10/20\n",
            "60000/60000 [==============================] - 3s 53us/step - loss: 0.0207 - val_loss: 0.0226\n",
            "Epoch 11/20\n",
            "60000/60000 [==============================] - 3s 53us/step - loss: 0.0207 - val_loss: 0.0226\n",
            "Epoch 12/20\n",
            "60000/60000 [==============================] - 3s 53us/step - loss: 0.0208 - val_loss: 0.0224\n",
            "Epoch 13/20\n",
            "60000/60000 [==============================] - 3s 53us/step - loss: 0.0207 - val_loss: 0.0225\n",
            "Epoch 14/20\n",
            "60000/60000 [==============================] - 3s 53us/step - loss: 0.0209 - val_loss: 0.0225\n",
            "Epoch 15/20\n",
            "60000/60000 [==============================] - 3s 53us/step - loss: 0.0208 - val_loss: 0.0225\n",
            "Epoch 16/20\n",
            "60000/60000 [==============================] - 3s 53us/step - loss: 0.0208 - val_loss: 0.0225\n",
            "Epoch 17/20\n",
            "60000/60000 [==============================] - 3s 53us/step - loss: 0.0207 - val_loss: 0.0226\n",
            "Epoch 18/20\n",
            "60000/60000 [==============================] - 3s 53us/step - loss: 0.0208 - val_loss: 0.0225\n",
            "Epoch 19/20\n",
            "60000/60000 [==============================] - 3s 53us/step - loss: 0.0207 - val_loss: 0.0225\n",
            "Epoch 20/20\n",
            "60000/60000 [==============================] - 3s 53us/step - loss: 0.0207 - val_loss: 0.0225\n"
          ],
          "name": "stdout"
        },
        {
          "output_type": "execute_result",
          "data": {
            "text/plain": [
              "<tensorflow.python.keras.callbacks.History at 0x7fe4039eaa90>"
            ]
          },
          "metadata": {
            "tags": []
          },
          "execution_count": 22
        }
      ]
    },
    {
      "metadata": {
        "slideshow": {
          "slide_type": "slide"
        },
        "id": "j9CSqKvpOIVk",
        "colab_type": "text"
      },
      "cell_type": "markdown",
      "source": [
        "### Build the Neural Network model with 3 Dense layers with 100,100,10 neurons respectively in each layer. Use cross entropy loss function and singmoid as activation in the hidden layers and softmax as activation function in the output layer. Use sgd optimizer with learning rate 0.03."
      ]
    },
    {
      "metadata": {
        "id": "GGAad54JOIVm",
        "colab_type": "code",
        "colab": {}
      },
      "cell_type": "code",
      "source": [
        "#Initialize Sequential model\n",
        "model = tf.keras.models.Sequential()\n",
        "\n",
        "#Reshape data from 2D to 1D -> 28x28 to 784\n",
        "model.add(tf.keras.layers.Reshape((784,),input_shape=(28,28,)))\n",
        "\n",
        "#Normalize the data\n",
        "model.add(tf.keras.layers.BatchNormalization())"
      ],
      "execution_count": 0,
      "outputs": []
    },
    {
      "metadata": {
        "id": "MQ7oIymROIVp",
        "colab_type": "code",
        "colab": {}
      },
      "cell_type": "code",
      "source": [
        "#Add 1st hidden layer\n",
        "model.add(tf.keras.layers.Dense(100, activation='relu'))"
      ],
      "execution_count": 0,
      "outputs": []
    },
    {
      "metadata": {
        "id": "X-O-fFxnOIVt",
        "colab_type": "code",
        "colab": {}
      },
      "cell_type": "code",
      "source": [
        "#Add 2nd hidden layer\n",
        "model.add(tf.keras.layers.Dense(100, activation='relu'))"
      ],
      "execution_count": 0,
      "outputs": []
    },
    {
      "metadata": {
        "id": "BiP7IL52OIVw",
        "colab_type": "code",
        "colab": {}
      },
      "cell_type": "code",
      "source": [
        "#Add 3rd hidden layer\n",
        "model.add(tf.keras.layers.Dense(10, activation='relu'))"
      ],
      "execution_count": 0,
      "outputs": []
    },
    {
      "metadata": {
        "slideshow": {
          "slide_type": "slide"
        },
        "id": "Nr2YsZV0OIV0",
        "colab_type": "text"
      },
      "cell_type": "markdown",
      "source": [
        "## Review model"
      ]
    },
    {
      "metadata": {
        "id": "h4ojW6-oOIV2",
        "colab_type": "code",
        "colab": {}
      },
      "cell_type": "code",
      "source": [
        "#Create optimizer with non-default learning rate\n",
        "sgd_optimizer = tf.keras.optimizers.SGD(lr=0.03)\n",
        "\n",
        "#Compile the model\n",
        "model.compile(optimizer=sgd_optimizer, loss='categorical_crossentropy', metrics=['accuracy'])"
      ],
      "execution_count": 0,
      "outputs": []
    },
    {
      "metadata": {
        "id": "ktmPBqm8tlAk",
        "colab_type": "code",
        "colab": {
          "base_uri": "https://localhost:8080/",
          "height": 306
        },
        "outputId": "f74d2ac3-050f-479a-e58b-912a1711e4ae"
      },
      "cell_type": "code",
      "source": [
        "model.summary()"
      ],
      "execution_count": 28,
      "outputs": [
        {
          "output_type": "stream",
          "text": [
            "_________________________________________________________________\n",
            "Layer (type)                 Output Shape              Param #   \n",
            "=================================================================\n",
            "reshape_1 (Reshape)          (None, 784)               0         \n",
            "_________________________________________________________________\n",
            "batch_normalization_1 (Batch (None, 784)               3136      \n",
            "_________________________________________________________________\n",
            "dense_3 (Dense)              (None, 100)               78500     \n",
            "_________________________________________________________________\n",
            "dense_4 (Dense)              (None, 100)               10100     \n",
            "_________________________________________________________________\n",
            "dense_5 (Dense)              (None, 10)                1010      \n",
            "=================================================================\n",
            "Total params: 92,746\n",
            "Trainable params: 91,178\n",
            "Non-trainable params: 1,568\n",
            "_________________________________________________________________\n"
          ],
          "name": "stdout"
        }
      ]
    },
    {
      "metadata": {
        "slideshow": {
          "slide_type": "slide"
        },
        "id": "gfFGmbZLOIV5",
        "colab_type": "text"
      },
      "cell_type": "markdown",
      "source": [
        "### Run the model"
      ]
    },
    {
      "metadata": {
        "id": "bIkbMEN5OIV7",
        "colab_type": "code",
        "colab": {
          "base_uri": "https://localhost:8080/",
          "height": 1071
        },
        "outputId": "a91f061f-e495-4ad9-e9db-c38039ea5998"
      },
      "cell_type": "code",
      "source": [
        "model.fit(trainX,trainY,          \n",
        "          validation_data=(testX,testY),\n",
        "          epochs=30,\n",
        "          batch_size=32)"
      ],
      "execution_count": 29,
      "outputs": [
        {
          "output_type": "stream",
          "text": [
            "Train on 60000 samples, validate on 10000 samples\n",
            "Epoch 1/30\n",
            "60000/60000 [==============================] - 6s 97us/step - loss: 2.6412 - acc: 0.4827 - val_loss: 2.6691 - val_acc: 0.3759\n",
            "Epoch 2/30\n",
            "60000/60000 [==============================] - 6s 92us/step - loss: 2.3454 - acc: 0.6522 - val_loss: 2.2401 - val_acc: 0.7186\n",
            "Epoch 3/30\n",
            "60000/60000 [==============================] - 6s 92us/step - loss: 2.5569 - acc: 0.5447 - val_loss: 2.3434 - val_acc: 0.6214\n",
            "Epoch 4/30\n",
            "60000/60000 [==============================] - 5s 91us/step - loss: 4.0585 - acc: 0.3380 - val_loss: 4.0913 - val_acc: 0.3890\n",
            "Epoch 5/30\n",
            "60000/60000 [==============================] - 5s 91us/step - loss: 4.1238 - acc: 0.4306 - val_loss: 4.1146 - val_acc: 0.3866\n",
            "Epoch 6/30\n",
            "60000/60000 [==============================] - 5s 91us/step - loss: 4.1109 - acc: 0.3841 - val_loss: 4.0586 - val_acc: 0.4264\n",
            "Epoch 7/30\n",
            "60000/60000 [==============================] - 5s 91us/step - loss: 3.9978 - acc: 0.4661 - val_loss: 3.9216 - val_acc: 0.5126\n",
            "Epoch 8/30\n",
            "60000/60000 [==============================] - 6s 92us/step - loss: 3.8617 - acc: 0.5792 - val_loss: 3.7833 - val_acc: 0.6218\n",
            "Epoch 9/30\n",
            "60000/60000 [==============================] - 6s 93us/step - loss: 3.8245 - acc: 0.5737 - val_loss: 3.8245 - val_acc: 0.5315\n",
            "Epoch 10/30\n",
            "60000/60000 [==============================] - 6s 93us/step - loss: 3.8377 - acc: 0.5323 - val_loss: 3.8714 - val_acc: 0.5247\n",
            "Epoch 11/30\n",
            "60000/60000 [==============================] - 6s 95us/step - loss: 3.7608 - acc: 0.5668 - val_loss: 3.7424 - val_acc: 0.5914\n",
            "Epoch 12/30\n",
            "60000/60000 [==============================] - 6s 94us/step - loss: 3.6220 - acc: 0.4439 - val_loss: 2.9222 - val_acc: 0.3647\n",
            "Epoch 13/30\n",
            "60000/60000 [==============================] - 6s 95us/step - loss: 2.7399 - acc: 0.4387 - val_loss: 2.6084 - val_acc: 0.4862\n",
            "Epoch 14/30\n",
            "60000/60000 [==============================] - 6s 100us/step - loss: 2.7110 - acc: 0.4075 - val_loss: 2.6301 - val_acc: 0.4396\n",
            "Epoch 15/30\n",
            "60000/60000 [==============================] - 6s 105us/step - loss: 2.5543 - acc: 0.4874 - val_loss: 2.4864 - val_acc: 0.5253\n",
            "Epoch 16/30\n",
            "60000/60000 [==============================] - 6s 93us/step - loss: 2.4805 - acc: 0.5406 - val_loss: 2.4341 - val_acc: 0.5441\n",
            "Epoch 17/30\n",
            "60000/60000 [==============================] - 6s 93us/step - loss: 2.4441 - acc: 0.5791 - val_loss: 2.4446 - val_acc: 0.6086\n",
            "Epoch 18/30\n",
            "60000/60000 [==============================] - 6s 94us/step - loss: 2.4878 - acc: 0.5387 - val_loss: 2.4667 - val_acc: 0.4922\n",
            "Epoch 19/30\n",
            "60000/60000 [==============================] - 6s 95us/step - loss: 2.4046 - acc: 0.5999 - val_loss: 2.3727 - val_acc: 0.6739\n",
            "Epoch 20/30\n",
            "60000/60000 [==============================] - 6s 96us/step - loss: 2.3774 - acc: 0.6720 - val_loss: 2.3387 - val_acc: 0.6878\n",
            "Epoch 21/30\n",
            "60000/60000 [==============================] - 6s 96us/step - loss: 2.3726 - acc: 0.6657 - val_loss: 2.3098 - val_acc: 0.6926\n",
            "Epoch 22/30\n",
            "60000/60000 [==============================] - 6s 94us/step - loss: 2.5560 - acc: 0.6161 - val_loss: 2.5745 - val_acc: 0.5314\n",
            "Epoch 23/30\n",
            "60000/60000 [==============================] - 6s 95us/step - loss: 2.4807 - acc: 0.5717 - val_loss: 2.5588 - val_acc: 0.5524\n",
            "Epoch 24/30\n",
            "60000/60000 [==============================] - 6s 95us/step - loss: 2.7945 - acc: 0.4415 - val_loss: 3.5845 - val_acc: 0.1462\n",
            "Epoch 25/30\n",
            "60000/60000 [==============================] - 6s 95us/step - loss: 3.4257 - acc: 0.1612 - val_loss: 3.3195 - val_acc: 0.1820\n",
            "Epoch 26/30\n",
            "60000/60000 [==============================] - 6s 93us/step - loss: 3.2763 - acc: 0.1887 - val_loss: 3.2275 - val_acc: 0.1973\n",
            "Epoch 27/30\n",
            "60000/60000 [==============================] - 6s 95us/step - loss: 3.1994 - acc: 0.1947 - val_loss: 3.1613 - val_acc: 0.1977\n",
            "Epoch 28/30\n",
            "60000/60000 [==============================] - 6s 93us/step - loss: 3.1394 - acc: 0.1955 - val_loss: 3.1051 - val_acc: 0.1982\n",
            "Epoch 29/30\n",
            "60000/60000 [==============================] - 6s 104us/step - loss: 3.0771 - acc: 0.2020 - val_loss: 3.0339 - val_acc: 0.2168\n",
            "Epoch 30/30\n",
            "60000/60000 [==============================] - 6s 102us/step - loss: 2.9912 - acc: 0.2509 - val_loss: 2.9236 - val_acc: 0.2873\n"
          ],
          "name": "stdout"
        },
        {
          "output_type": "execute_result",
          "data": {
            "text/plain": [
              "<tensorflow.python.keras.callbacks.History at 0x7fe3f27c9cd0>"
            ]
          },
          "metadata": {
            "tags": []
          },
          "execution_count": 29
        }
      ]
    }
  ]
}